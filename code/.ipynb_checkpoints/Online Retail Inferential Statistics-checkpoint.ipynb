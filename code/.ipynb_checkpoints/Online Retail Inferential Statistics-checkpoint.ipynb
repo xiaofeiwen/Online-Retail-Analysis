{
 "cells": [
  {
   "cell_type": "code",
   "execution_count": 6,
   "metadata": {
    "collapsed": true
   },
   "outputs": [],
   "source": [
    "import pandas as pd\n",
    "import numpy as np\n",
    "import matplotlib.pyplot as plt\n",
    "import seaborn as sns\n",
    "%matplotlib inline\n",
    "np.random.seed(42)\n",
    "df = pd.read_pickle('../data/train_transformed.p')"
   ]
  },
  {
   "cell_type": "code",
   "execution_count": 7,
   "metadata": {
    "collapsed": true
   },
   "outputs": [],
   "source": [
    "def permutation_sample(data1, data2):\n",
    "    \"\"\"Generate a permutation sample from two data sets.\"\"\"\n",
    "\n",
    "    # Concatenate the data sets: data\n",
    "    data = np.concatenate((data1,data2))\n",
    "\n",
    "    # Permute the concatenated array: permuted_data\n",
    "    permuted_data = np.random.permutation(data)\n",
    "\n",
    "    # Split the permuted array into two: perm_sample_1, perm_sample_2\n",
    "    perm_sample_1 = permuted_data[:len(data1)]\n",
    "    perm_sample_2 = permuted_data[len(data1):]\n",
    "\n",
    "    return perm_sample_1, perm_sample_2\n",
    "\n",
    "def draw_perm_reps(data_1, data_2, func, size=1):\n",
    "    \"\"\"Generate multiple permutation replicates.\"\"\"\n",
    "\n",
    "    # Initialize array of replicates: perm_replicates\n",
    "    perm_replicates = np.empty(size)\n",
    "\n",
    "    for i in range(size):\n",
    "        # Generate permutation sample\n",
    "        perm_sample_1, perm_sample_2 = permutation_sample(data_1,data_2)\n",
    "\n",
    "        # Compute the test statistic\n",
    "        perm_replicates[i] = func(perm_sample_1,perm_sample_2)\n",
    "\n",
    "    return perm_replicates\n",
    "\n",
    "def diff_of_means(data_1, data_2):\n",
    "    \"\"\"Difference in means of two arrays.\"\"\"\n",
    "\n",
    "    # The difference of means of data_1, data_2: diff\n",
    "    diff = np.mean(data_1) - np.mean(data_2)\n",
    "\n",
    "    return diff\n",
    "\n",
    "def two_sample_perm_test(data_1,data_2,size=100,two_sided=True):\n",
    "    empirical_diff_means = diff_of_means(data_1,data_2)\n",
    "    perm_replicates = draw_perm_reps(data_1, data_2, diff_of_means, size=size)\n",
    "    if two_sided:\n",
    "        empirical_diff_means = np.abs(empirical_diff_means)\n",
    "        perm_replicates = np.abs(perm_replicates)\n",
    "    p = np.sum(perm_replicates >= empirical_diff_means) / len(perm_replicates)\n",
    "    return p\n",
    "\n",
    "def two_sample_perm_test_df_column(column,size=100,two_sided=True):\n",
    "    data_1 = df.loc[df['labels'] == 0,column].values\n",
    "    data_2 = df.loc[df['labels'] == 1,column].values\n",
    "    p = two_sample_perm_test(data_1,data_2,size=size,two_sided=two_sided)\n",
    "    return p\n",
    "    "
   ]
  },
  {
   "cell_type": "code",
   "execution_count": 8,
   "metadata": {
    "collapsed": true
   },
   "outputs": [],
   "source": [
    "f_to_use =  ['user_total_orders', 'user_average_days_between_orders', 'user_average_basket', \n",
    "             'user_total_item_quantity', 'order_hour_of_day','order_dow', 'days_since_ratio',\n",
    "             'product_orders', 'product_avg_price', \n",
    "             'UP_orders', 'UP_total_quantity', \n",
    "             'user_sum_days_between_orders','user_reorder_ratio','prod_1reorder_ratio']"
   ]
  },
  {
   "cell_type": "code",
   "execution_count": 8,
   "metadata": {},
   "outputs": [
    {
     "name": "stdout",
     "output_type": "stream",
     "text": [
      "user_total_orders 0.025 134.03196334838867\n",
      "user_average_days_between_orders 0.0 128.32525324821472\n",
      "user_average_basket 0.0 119.74032497406006\n",
      "user_total_item_quantity 0.0 121.45350575447083\n",
      "order_hour_of_day 0.0 132.1974127292633\n",
      "days_since_ratio 0.0 127.7980101108551\n",
      "product_orders 0.0 128.1514868736267\n",
      "product_avg_price 0.0 127.08309435844421\n",
      "UP_orders 0.0 127.23754382133484\n",
      "UP_total_quantity 0.0 127.14544153213501\n",
      "user_sum_days_between_orders 0.0 127.24596285820007\n",
      "user_reorder_ratio 0.0 127.30448055267334\n",
      "prod_1reorder_ratio 0.0 127.096608877182\n"
     ]
    }
   ],
   "source": [
    "import time\n",
    "\n",
    "p_dict = {}\n",
    "\n",
    "for f in f_to_use:\n",
    "    t0 = time.time()\n",
    "    p_dict[f] = two_sample_perm_test_df_column(f,1000)\n",
    "    print (f,p_dict[f],time.time()-t0)\n",
    "    "
   ]
  },
  {
   "cell_type": "code",
   "execution_count": 9,
   "metadata": {},
   "outputs": [
    {
     "data": {
      "text/plain": [
       "{'UP_orders': 0.0,\n",
       " 'UP_total_quantity': 0.0,\n",
       " 'days_since_ratio': 0.0,\n",
       " 'order_hour_of_day': 0.0,\n",
       " 'prod_1reorder_ratio': 0.0,\n",
       " 'product_avg_price': 0.0,\n",
       " 'product_orders': 0.0,\n",
       " 'user_average_basket': 0.0,\n",
       " 'user_average_days_between_orders': 0.0,\n",
       " 'user_reorder_ratio': 0.0,\n",
       " 'user_sum_days_between_orders': 0.0,\n",
       " 'user_total_item_quantity': 0.0,\n",
       " 'user_total_orders': 0.025000000000000001}"
      ]
     },
     "execution_count": 9,
     "metadata": {},
     "output_type": "execute_result"
    }
   ],
   "source": [
    "p_dict"
   ]
  },
  {
   "cell_type": "code",
   "execution_count": 3,
   "metadata": {},
   "outputs": [
    {
     "data": {
      "text/plain": [
       "0.0"
      ]
     },
     "execution_count": 3,
     "metadata": {},
     "output_type": "execute_result"
    }
   ],
   "source": [
    "two_sample_perm_test_df_column('order_dow',1000)"
   ]
  },
  {
   "cell_type": "code",
   "execution_count": 9,
   "metadata": {
    "collapsed": true
   },
   "outputs": [],
   "source": [
    "corr = df[f_to_use].corr()"
   ]
  },
  {
   "cell_type": "code",
   "execution_count": 11,
   "metadata": {},
   "outputs": [
    {
     "data": {
      "text/plain": [
       "<matplotlib.axes._subplots.AxesSubplot at 0x7f403628afd0>"
      ]
     },
     "execution_count": 11,
     "metadata": {},
     "output_type": "execute_result"
    },
    {
     "data": {
      "image/png": "[encoded data removed]",
      "text/plain": [
       "<matplotlib.figure.Figure at 0x7f40361ff5f8>"
      ]
     },
     "metadata": {},
     "output_type": "display_data"
    }
   ],
   "source": [
    "sns.heatmap(corr)"
   ]
  },
  {
   "cell_type": "code",
   "execution_count": null,
   "metadata": {
    "collapsed": true
   },
   "outputs": [],
   "source": []
  }
 ],
 "metadata": {
  "kernelspec": {
   "display_name": "Python 3",
   "language": "python",
   "name": "python3"
  },
  "language_info": {
   "codemirror_mode": {
    "name": "ipython",
    "version": 3
   },
   "file_extension": ".py",
   "mimetype": "text/x-python",
   "name": "python",
   "nbconvert_exporter": "python",
   "pygments_lexer": "ipython3",
   "version": "3.6.1"
  }
 },
 "nbformat": 4,
 "nbformat_minor": 2
}
