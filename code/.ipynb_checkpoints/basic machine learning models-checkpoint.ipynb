{
 "cells": [
  {
   "cell_type": "code",
   "execution_count": 83,
   "metadata": {},
   "outputs": [],
   "source": [
    "import pandas as pd\n",
    "import numpy as np\n",
    "import lightgbm as lgb\n",
    "import xgboost as xgb\n",
    "from sklearn.linear_model import LogisticRegression\n",
    "from sklearn.ensemble import RandomForestClassifier\n",
    "from sklearn.model_selection import GroupKFold\n",
    "from sklearn.metrics import roc_auc_score\n",
    "import matplotlib.pyplot as plt\n",
    "import seaborn as sns\n",
    "# from sklearn.metrics import f1_score\n",
    "%matplotlib inline\n",
    "np.random.seed(42)\n",
    "\n",
    "df = pd.read_pickle('../data/train_transformed.p')\n",
    "order_products_compact = pd.read_hdf('../data/online_retail.h5','order_products_compact')\n",
    "\n",
    "def f1_score(l_true,l_pred):\n",
    "    tp = set(l_true).intersection(set(l_pred))\n",
    "    if not len(tp):\n",
    "        return 0\n",
    "    fp = set(l_pred).difference(tp)\n",
    "    fn = set(l_true).difference(tp)\n",
    "    p = len(tp) / (len(tp) + len(fp))\n",
    "    r = len(tp) / (len(tp) + len(fn))\n",
    "    f1 = 2 * (p * r) / (p + r)\n",
    "    return f1\n",
    "def avg_f1_score(df,pred,order_products_compact=order_products_compact,thres=0.05,m=1):\n",
    "    df_pred = pd.DataFrame({'order_id':df.order_id,'pred':pred,'product_id':df.product_id,\n",
    "                            'pred_size':df.user_average_basket}).\\\n",
    "                sort_values(['order_id','pred'],ascending = [True,False]).reset_index(drop=True)\n",
    "    df_pred['pred_rank'] = df_pred.groupby('order_id').cumcount()\n",
    "    df_pred = df_pred[df_pred.pred_rank < df_pred.pred_size * m].reset_index(drop=True)\n",
    "    d = {}\n",
    "    for row in df_pred.itertuples():\n",
    "        order_id = row.order_id\n",
    "        if row.pred_rank == 0 or row.pred > thres:\n",
    "            try:\n",
    "                d[order_id] += ' ' + str(row.product_id)\n",
    "            except:\n",
    "                d[order_id] = str(row.product_id)\n",
    "    df_pred_compact = pd.DataFrame.from_dict(d, orient='index')\n",
    "\n",
    "    df_pred_compact.reset_index(inplace=True)\n",
    "    df_pred_compact.columns = ['order_id', 'y_pred']\n",
    "    df_pred_compact['y_pred'] = df_pred_compact['y_pred'].str.split()\n",
    "    df_pred_compact = df_pred_compact.merge(order_products_compact[['order_id','product_id']],how='left',\n",
    "                                                       on='order_id')\n",
    "    scores = []\n",
    "    for row in df_pred_compact.itertuples():\n",
    "        y_pred = row.y_pred\n",
    "        y_true = row.product_id\n",
    "        score = f1_score(y_true,y_pred)\n",
    "        scores.append(score)\n",
    "    return np.mean(scores)\n",
    "def auc_score(df,pred):\n",
    "    return roc_auc_score(df['labels'].values,pred)"
   ]
  },
  {
   "cell_type": "code",
   "execution_count": 55,
   "metadata": {
    "collapsed": true
   },
   "outputs": [],
   "source": [
    "f_to_use0 = ['user_total_orders',\n",
    "       'user_total_items', 'total_distinct_items',\n",
    "       'user_average_days_between_orders', 'user_average_basket',\n",
    "       'user_total_item_quantity', 'user_total_spent',\n",
    "       'user_sum_days_between_orders', 'user_reorder_ratio',\n",
    "       'order_hour_of_day', 'days_since_prior_order', 'days_since_ratio',\n",
    "       'product_orders', 'product_reorders', 'product_reorder_rate',\n",
    "       'product_total_quantity_sold', 'product_avg_price', 'prod_first_buy',\n",
    "       'prod_second_buy', 'prod_1reorder_ratio', 'prod_nreorder_ratio',\n",
    "       'UP_orders', 'UP_orders_ratio', 'UP_reorder_rate', 'UP_total_quantity',\n",
    "       'UP_order_rate_since_first_order']\n",
    "f_to_use1 = ['user_total_orders',\n",
    "       'user_total_items', 'total_distinct_items',\n",
    "       'user_average_days_between_orders', 'user_average_basket',\n",
    "       'user_total_item_quantity',\n",
    "       'user_sum_days_between_orders', 'user_reorder_ratio',\n",
    "       'order_hour_of_day', 'days_since_prior_order', 'days_since_ratio',\n",
    "       'product_orders', 'product_reorder_rate',\n",
    "       'product_total_quantity_sold', 'product_avg_price', 'prod_1reorder_ratio',\n",
    "       'UP_orders', 'UP_orders_ratio', 'UP_total_quantity']\n",
    "f_to_use2 = ['user_total_orders',\n",
    "       'user_total_items', 'total_distinct_items',\n",
    "       'user_average_days_between_orders', 'user_average_basket',\n",
    "       'user_total_item_quantity', 'user_total_spent',\n",
    "       'user_sum_days_between_orders', 'user_reorder_ratio',\n",
    "       'order_hour_of_day', 'days_since_prior_order', 'days_since_ratio',\n",
    "       'product_reorder_rate',\n",
    "       'product_total_quantity_sold', 'product_avg_price', 'prod_first_buy',\n",
    "       'prod_1reorder_ratio',\n",
    "       'UP_orders', 'UP_orders_ratio', 'UP_total_quantity',\n",
    "       'UP_order_rate_since_first_order']\n",
    "f_to_use4 = ['user_total_orders', 'user_average_days_between_orders', 'user_average_basket', \n",
    "             'user_total_item_quantity', 'order_hour_of_day','order_dow', 'days_since_ratio',\n",
    "             'product_orders', 'product_avg_price', \n",
    "             'UP_orders', 'UP_total_quantity', \n",
    "             'user_sum_days_between_orders','user_reorder_ratio','prod_1reorder_ratio']"
   ]
  },
  {
   "cell_type": "code",
   "execution_count": 65,
   "metadata": {},
   "outputs": [
    {
     "data": {
      "text/plain": [
       "user_total_orders                   1\n",
       "user_total_items                    1\n",
       "total_distinct_items                1\n",
       "user_average_days_between_orders    1\n",
       "user_average_basket                 1\n",
       "user_total_item_quantity            1\n",
       "user_total_spent                    1\n",
       "user_sum_days_between_orders        1\n",
       "user_reorder_ratio                  1\n",
       "order_hour_of_day                   1\n",
       "days_since_prior_order              1\n",
       "days_since_ratio                    1\n",
       "product_reorder_rate                1\n",
       "product_total_quantity_sold         1\n",
       "product_avg_price                   1\n",
       "prod_first_buy                      1\n",
       "prod_1reorder_ratio                 1\n",
       "UP_orders                           1\n",
       "UP_orders_ratio                     1\n",
       "UP_total_quantity                   1\n",
       "UP_order_rate_since_first_order     1\n",
       "dtype: int64"
      ]
     },
     "execution_count": 65,
     "metadata": {},
     "output_type": "execute_result"
    }
   ],
   "source": [
    "corr = df[f_to_use2].corr()\n",
    "(corr > 0.95).sum()"
   ]
  },
  {
   "cell_type": "code",
   "execution_count": 66,
   "metadata": {},
   "outputs": [
    {
     "data": {
      "text/plain": [
       "<matplotlib.axes._subplots.AxesSubplot at 0x7f35c0347358>"
      ]
     },
     "execution_count": 66,
     "metadata": {},
     "output_type": "execute_result"
    },
    {
     "data": {
      "image/png": "[encoded data removed]",
      "text/plain": [
       "<matplotlib.figure.Figure at 0x7f35c029e5f8>"
      ]
     },
     "metadata": {},
     "output_type": "display_data"
    }
   ],
   "source": [
    "sns.heatmap(corr)"
   ]
  },
  {
   "cell_type": "code",
   "execution_count": 21,
   "metadata": {
    "collapsed": true
   },
   "outputs": [],
   "source": [
    "# train / val split\n",
    "unique_users = df.user_id.unique()\n",
    "np.random.shuffle(unique_users)\n",
    "sp = int(len(unique_users)*0.8)\n",
    "train_users = unique_users[:sp]\n",
    "val_users = unique_users[sp:]\n",
    "df_train = df[df.user_id.isin(train_users)]\n",
    "df_val = df[df.user_id.isin(val_users)]"
   ]
  },
  {
   "cell_type": "markdown",
   "metadata": {},
   "source": [
    "### basic logistical regression model"
   ]
  },
  {
   "cell_type": "code",
   "execution_count": 22,
   "metadata": {},
   "outputs": [
    {
     "name": "stdout",
     "output_type": "stream",
     "text": [
      "CPU times: user 1min 52s, sys: 304 ms, total: 1min 53s\n",
      "Wall time: 1min 52s\n"
     ]
    }
   ],
   "source": [
    "%%time\n",
    "lgr = LogisticRegression(random_state=42,n_jobs=-1).fit(df_train[f_to_use1],df_train['labels'].values)\n",
    "val_pred_lgr = lgr.predict_proba(df_val[f_to_use1])[:,1]"
   ]
  },
  {
   "cell_type": "code",
   "execution_count": 23,
   "metadata": {},
   "outputs": [
    {
     "data": {
      "text/plain": [
       "0.14760045508821512"
      ]
     },
     "execution_count": 23,
     "metadata": {},
     "output_type": "execute_result"
    }
   ],
   "source": [
    "avg_f1_score(df_val,val_pred_lgr)"
   ]
  },
  {
   "cell_type": "code",
   "execution_count": 24,
   "metadata": {},
   "outputs": [
    {
     "data": {
      "text/plain": [
       "0.85298594329708055"
      ]
     },
     "execution_count": 24,
     "metadata": {},
     "output_type": "execute_result"
    }
   ],
   "source": [
    "auc_score(df_val,val_pred_lgr)"
   ]
  },
  {
   "cell_type": "markdown",
   "metadata": {},
   "source": [
    "### basic lgb model"
   ]
  },
  {
   "cell_type": "code",
   "execution_count": 25,
   "metadata": {},
   "outputs": [
    {
     "name": "stdout",
     "output_type": "stream",
     "text": [
      "CPU times: user 1min 53s, sys: 324 ms, total: 1min 53s\n",
      "Wall time: 14.7 s\n"
     ]
    }
   ],
   "source": [
    "%%time\n",
    "d_train = lgb.Dataset(df_train[f_to_use1],label=df_train['labels'].values)\n",
    "\n",
    "params = {\n",
    "    'task': 'train',\n",
    "    'boosting_type': 'gbdt',\n",
    "    'objective': 'binary',\n",
    "    'metric': {'binary_logloss'},\n",
    "    'num_leaves': 96,\n",
    "    'max_depth': 10,\n",
    "    'feature_fraction': 0.9,\n",
    "    'bagging_fraction': 0.95,\n",
    "    'bagging_freq': 5,\n",
    "    'learning_rate': 0.025\n",
    "}\n",
    "\n",
    "ROUNDS = 100\n",
    "bst = lgb.train(params, d_train, ROUNDS)\n",
    "# lgb.plot_importance(bst, figsize=(9,20))\n",
    "val_pred_lgb = bst.predict(df_val[f_to_use1])"
   ]
  },
  {
   "cell_type": "code",
   "execution_count": 26,
   "metadata": {},
   "outputs": [
    {
     "data": {
      "text/plain": [
       "0.18790759305986027"
      ]
     },
     "execution_count": 26,
     "metadata": {},
     "output_type": "execute_result"
    }
   ],
   "source": [
    "avg_f1_score(df_val,val_pred_lgb)"
   ]
  },
  {
   "cell_type": "code",
   "execution_count": 27,
   "metadata": {},
   "outputs": [
    {
     "data": {
      "text/plain": [
       "0.8796960625689012"
      ]
     },
     "execution_count": 27,
     "metadata": {},
     "output_type": "execute_result"
    }
   ],
   "source": [
    "auc_score(df_val,val_pred_lgb)"
   ]
  },
  {
   "cell_type": "markdown",
   "metadata": {},
   "source": [
    "### basic ramdom forest model"
   ]
  },
  {
   "cell_type": "code",
   "execution_count": 28,
   "metadata": {},
   "outputs": [
    {
     "name": "stdout",
     "output_type": "stream",
     "text": [
      "CPU times: user 7min 32s, sys: 1.79 s, total: 7min 34s\n",
      "Wall time: 1min\n"
     ]
    }
   ],
   "source": [
    "%%time\n",
    "rfc = RandomForestClassifier(random_state = 42, n_estimators=100, max_depth = 5, n_jobs=-1).\\\n",
    "        fit(df_train[f_to_use1],df_train['labels'].values)\n",
    "val_pred_rf = rfc.predict_proba(df_val[f_to_use1])[:,1]"
   ]
  },
  {
   "cell_type": "code",
   "execution_count": 29,
   "metadata": {},
   "outputs": [
    {
     "data": {
      "text/plain": [
       "0.1805115469439578"
      ]
     },
     "execution_count": 29,
     "metadata": {},
     "output_type": "execute_result"
    }
   ],
   "source": [
    "avg_f1_score(df_val,val_pred_rf)"
   ]
  },
  {
   "cell_type": "code",
   "execution_count": 30,
   "metadata": {},
   "outputs": [
    {
     "data": {
      "text/plain": [
       "0.87865409999901822"
      ]
     },
     "execution_count": 30,
     "metadata": {},
     "output_type": "execute_result"
    }
   ],
   "source": [
    "auc_score(df_val,val_pred_rf)"
   ]
  },
  {
   "cell_type": "markdown",
   "metadata": {},
   "source": [
    "### basic xgb model"
   ]
  },
  {
   "cell_type": "code",
   "execution_count": 60,
   "metadata": {},
   "outputs": [
    {
     "name": "stdout",
     "output_type": "stream",
     "text": [
      "[0]\ttrain-logloss:0.600261\n",
      "[10]\ttrain-logloss:0.189653\n",
      "[20]\ttrain-logloss:0.079313\n",
      "[30]\ttrain-logloss:0.043715\n",
      "[40]\ttrain-logloss:0.032026\n",
      "[50]\ttrain-logloss:0.028224\n",
      "[60]\ttrain-logloss:0.026935\n",
      "[70]\ttrain-logloss:0.026397\n",
      "[80]\ttrain-logloss:0.026111\n",
      "[90]\ttrain-logloss:0.025901\n",
      "CPU times: user 15min 47s, sys: 2.22 s, total: 15min 49s\n",
      "Wall time: 2min 3s\n"
     ]
    }
   ],
   "source": [
    "%%time\n",
    "d_train = xgb.DMatrix(df_train[f_to_use2],label=df_train['labels'].values)\n",
    "\n",
    "xgb_params = {\n",
    "    \"objective\"         : \"reg:logistic\"\n",
    "    ,\"eval_metric\"      : \"logloss\"\n",
    "    ,\"eta\"              : 0.1\n",
    "    ,\"max_depth\"        : 6\n",
    "    ,\"min_child_weight\" :10\n",
    "    ,\"gamma\"            :0.70\n",
    "    ,\"subsample\"        :0.76\n",
    "    ,\"colsample_bytree\" :0.95\n",
    "    ,\"alpha\"            :2e-05\n",
    "    ,\"lambda\"           :10\n",
    "}\n",
    "ROUNDS = 100\n",
    "watchlist= [(d_train, \"train\")]\n",
    "bst = xgb.train(params=xgb_params, dtrain=d_train, num_boost_round=ROUNDS, evals=watchlist, verbose_eval=10)\n",
    "# xgboost.plot_importance(bst)\n",
    "val_pred_xgb = bst.predict(xgb.DMatrix(df_val[f_to_use2]))"
   ]
  },
  {
   "cell_type": "code",
   "execution_count": 76,
   "metadata": {},
   "outputs": [
    {
     "data": {
      "text/plain": [
       "0.20302652785174341"
      ]
     },
     "execution_count": 76,
     "metadata": {},
     "output_type": "execute_result"
    }
   ],
   "source": [
    "avg_f1_score(df_val,val_pred_xgb)"
   ]
  },
  {
   "cell_type": "code",
   "execution_count": 70,
   "metadata": {},
   "outputs": [
    {
     "data": {
      "text/plain": [
       "0.89296410479478927"
      ]
     },
     "execution_count": 70,
     "metadata": {},
     "output_type": "execute_result"
    }
   ],
   "source": [
    "auc_score(df_val,val_pred_xgb)"
   ]
  },
  {
   "cell_type": "code",
   "execution_count": 63,
   "metadata": {},
   "outputs": [
    {
     "data": {
      "text/plain": [
       "<matplotlib.axes._subplots.AxesSubplot at 0x7f35c0278940>"
      ]
     },
     "execution_count": 63,
     "metadata": {},
     "output_type": "execute_result"
    },
    {
     "data": {
      "image/png": "[encoded data removed]",
      "text/plain": [
       "<matplotlib.figure.Figure at 0x7f35c034dda0>"
      ]
     },
     "metadata": {},
     "output_type": "display_data"
    }
   ],
   "source": [
    "xgb.plot_importance(bst)"
   ]
  },
  {
   "cell_type": "code",
   "execution_count": 67,
   "metadata": {},
   "outputs": [
    {
     "data": {
      "text/html": [
       "<div>\n",
       "<style>\n",
       "    .dataframe thead tr:only-child th {\n",
       "        text-align: right;\n",
       "    }\n",
       "\n",
       "    .dataframe thead th {\n",
       "        text-align: left;\n",
       "    }\n",
       "\n",
       "    .dataframe tbody tr th {\n",
       "        vertical-align: top;\n",
       "    }\n",
       "</style>\n",
       "<table border=\"1\" class=\"dataframe\">\n",
       "  <thead>\n",
       "    <tr style=\"text-align: right;\">\n",
       "      <th></th>\n",
       "      <th>labels</th>\n",
       "      <th>order_id</th>\n",
       "      <th>product_id</th>\n",
       "      <th>user_id</th>\n",
       "      <th>user_total_orders</th>\n",
       "      <th>user_total_items</th>\n",
       "      <th>total_distinct_items</th>\n",
       "      <th>user_average_days_between_orders</th>\n",
       "      <th>user_average_basket</th>\n",
       "      <th>user_total_item_quantity</th>\n",
       "      <th>...</th>\n",
       "      <th>product_avg_price</th>\n",
       "      <th>prod_first_buy</th>\n",
       "      <th>prod_second_buy</th>\n",
       "      <th>prod_1reorder_ratio</th>\n",
       "      <th>prod_nreorder_ratio</th>\n",
       "      <th>UP_orders</th>\n",
       "      <th>UP_orders_ratio</th>\n",
       "      <th>UP_reorder_rate</th>\n",
       "      <th>UP_total_quantity</th>\n",
       "      <th>UP_order_rate_since_first_order</th>\n",
       "    </tr>\n",
       "  </thead>\n",
       "  <tbody>\n",
       "    <tr>\n",
       "      <th>3544</th>\n",
       "      <td>0</td>\n",
       "      <td>574275</td>\n",
       "      <td>0</td>\n",
       "      <td>12352</td>\n",
       "      <td>5</td>\n",
       "      <td>48</td>\n",
       "      <td>38</td>\n",
       "      <td>64.5</td>\n",
       "      <td>9.6</td>\n",
       "      <td>263</td>\n",
       "      <td>...</td>\n",
       "      <td>0.850000</td>\n",
       "      <td>33.0</td>\n",
       "      <td>6.0</td>\n",
       "      <td>0.181818</td>\n",
       "      <td>0.272727</td>\n",
       "      <td>0.0</td>\n",
       "      <td>0.0</td>\n",
       "      <td>0.0</td>\n",
       "      <td>0.0</td>\n",
       "      <td>0.0</td>\n",
       "    </tr>\n",
       "    <tr>\n",
       "      <th>3545</th>\n",
       "      <td>0</td>\n",
       "      <td>574275</td>\n",
       "      <td>1</td>\n",
       "      <td>12352</td>\n",
       "      <td>5</td>\n",
       "      <td>48</td>\n",
       "      <td>38</td>\n",
       "      <td>64.5</td>\n",
       "      <td>9.6</td>\n",
       "      <td>263</td>\n",
       "      <td>...</td>\n",
       "      <td>0.394126</td>\n",
       "      <td>12.0</td>\n",
       "      <td>2.0</td>\n",
       "      <td>0.166667</td>\n",
       "      <td>0.166667</td>\n",
       "      <td>0.0</td>\n",
       "      <td>0.0</td>\n",
       "      <td>0.0</td>\n",
       "      <td>0.0</td>\n",
       "      <td>0.0</td>\n",
       "    </tr>\n",
       "    <tr>\n",
       "      <th>3546</th>\n",
       "      <td>0</td>\n",
       "      <td>574275</td>\n",
       "      <td>2</td>\n",
       "      <td>12352</td>\n",
       "      <td>5</td>\n",
       "      <td>48</td>\n",
       "      <td>38</td>\n",
       "      <td>64.5</td>\n",
       "      <td>9.6</td>\n",
       "      <td>263</td>\n",
       "      <td>...</td>\n",
       "      <td>0.210000</td>\n",
       "      <td>12.0</td>\n",
       "      <td>2.0</td>\n",
       "      <td>0.166667</td>\n",
       "      <td>0.166667</td>\n",
       "      <td>0.0</td>\n",
       "      <td>0.0</td>\n",
       "      <td>0.0</td>\n",
       "      <td>0.0</td>\n",
       "      <td>0.0</td>\n",
       "    </tr>\n",
       "    <tr>\n",
       "      <th>3547</th>\n",
       "      <td>0</td>\n",
       "      <td>574275</td>\n",
       "      <td>3</td>\n",
       "      <td>12352</td>\n",
       "      <td>5</td>\n",
       "      <td>48</td>\n",
       "      <td>38</td>\n",
       "      <td>64.5</td>\n",
       "      <td>9.6</td>\n",
       "      <td>263</td>\n",
       "      <td>...</td>\n",
       "      <td>0.650000</td>\n",
       "      <td>1.0</td>\n",
       "      <td>0.0</td>\n",
       "      <td>0.000000</td>\n",
       "      <td>0.000000</td>\n",
       "      <td>0.0</td>\n",
       "      <td>0.0</td>\n",
       "      <td>0.0</td>\n",
       "      <td>0.0</td>\n",
       "      <td>0.0</td>\n",
       "    </tr>\n",
       "    <tr>\n",
       "      <th>3548</th>\n",
       "      <td>0</td>\n",
       "      <td>574275</td>\n",
       "      <td>4</td>\n",
       "      <td>12352</td>\n",
       "      <td>5</td>\n",
       "      <td>48</td>\n",
       "      <td>38</td>\n",
       "      <td>64.5</td>\n",
       "      <td>9.6</td>\n",
       "      <td>263</td>\n",
       "      <td>...</td>\n",
       "      <td>0.420000</td>\n",
       "      <td>3.0</td>\n",
       "      <td>0.0</td>\n",
       "      <td>0.000000</td>\n",
       "      <td>0.000000</td>\n",
       "      <td>0.0</td>\n",
       "      <td>0.0</td>\n",
       "      <td>0.0</td>\n",
       "      <td>0.0</td>\n",
       "      <td>0.0</td>\n",
       "    </tr>\n",
       "  </tbody>\n",
       "</table>\n",
       "<p>5 rows × 31 columns</p>\n",
       "</div>"
      ],
      "text/plain": [
       "      labels  order_id  product_id  user_id  user_total_orders  \\\n",
       "3544       0    574275           0    12352                  5   \n",
       "3545       0    574275           1    12352                  5   \n",
       "3546       0    574275           2    12352                  5   \n",
       "3547       0    574275           3    12352                  5   \n",
       "3548       0    574275           4    12352                  5   \n",
       "\n",
       "      user_total_items  total_distinct_items  \\\n",
       "3544                48                    38   \n",
       "3545                48                    38   \n",
       "3546                48                    38   \n",
       "3547                48                    38   \n",
       "3548                48                    38   \n",
       "\n",
       "      user_average_days_between_orders  user_average_basket  \\\n",
       "3544                              64.5                  9.6   \n",
       "3545                              64.5                  9.6   \n",
       "3546                              64.5                  9.6   \n",
       "3547                              64.5                  9.6   \n",
       "3548                              64.5                  9.6   \n",
       "\n",
       "      user_total_item_quantity               ...                 \\\n",
       "3544                       263               ...                  \n",
       "3545                       263               ...                  \n",
       "3546                       263               ...                  \n",
       "3547                       263               ...                  \n",
       "3548                       263               ...                  \n",
       "\n",
       "      product_avg_price  prod_first_buy  prod_second_buy  prod_1reorder_ratio  \\\n",
       "3544           0.850000            33.0              6.0             0.181818   \n",
       "3545           0.394126            12.0              2.0             0.166667   \n",
       "3546           0.210000            12.0              2.0             0.166667   \n",
       "3547           0.650000             1.0              0.0             0.000000   \n",
       "3548           0.420000             3.0              0.0             0.000000   \n",
       "\n",
       "      prod_nreorder_ratio  UP_orders  UP_orders_ratio  UP_reorder_rate  \\\n",
       "3544             0.272727        0.0              0.0              0.0   \n",
       "3545             0.166667        0.0              0.0              0.0   \n",
       "3546             0.166667        0.0              0.0              0.0   \n",
       "3547             0.000000        0.0              0.0              0.0   \n",
       "3548             0.000000        0.0              0.0              0.0   \n",
       "\n",
       "      UP_total_quantity  UP_order_rate_since_first_order  \n",
       "3544                0.0                              0.0  \n",
       "3545                0.0                              0.0  \n",
       "3546                0.0                              0.0  \n",
       "3547                0.0                              0.0  \n",
       "3548                0.0                              0.0  \n",
       "\n",
       "[5 rows x 31 columns]"
      ]
     },
     "execution_count": 67,
     "metadata": {},
     "output_type": "execute_result"
    }
   ],
   "source": [
    "df_val.head()"
   ]
  },
  {
   "cell_type": "code",
   "execution_count": 82,
   "metadata": {},
   "outputs": [
    {
     "data": {
      "text/plain": [
       "array([ 0.5,  0.6,  0.7,  0.8,  0.9,  1. ,  1.1,  1.2,  1.3,  1.4,  1.5,\n",
       "        1.6,  1.7,  1.8,  1.9,  2. ,  2.1,  2.2,  2.3,  2.4,  2.5])"
      ]
     },
     "execution_count": 82,
     "metadata": {},
     "output_type": "execute_result"
    }
   ],
   "source": [
    "np.linspace(0.5,2.5,21)"
   ]
  },
  {
   "cell_type": "code",
   "execution_count": 92,
   "metadata": {},
   "outputs": [
    {
     "name": "stdout",
     "output_type": "stream",
     "text": [
      "10\n",
      "20\n",
      "30\n",
      "40\n",
      "50\n",
      "60\n",
      "70\n",
      "80\n",
      "90\n",
      "100\n",
      "110\n",
      "0.218592972449 (0.001, 1.7000000000000002)\n"
     ]
    }
   ],
   "source": [
    "best_score = -1\n",
    "best_param = None\n",
    "count = 0\n",
    "for thres in np.linspace(0.001,0.02,10):\n",
    "    for m in np.linspace(0.5,2.5,11):\n",
    "        count += 1\n",
    "        if count % 10 == 0:\n",
    "            print (count)\n",
    "        score = avg_f1_score(df_val,val_pred_xgb,thres=thres,m=m)\n",
    "        if score > best_score:\n",
    "            best_score = score\n",
    "            best_param = (thres,m)\n",
    "print (best_score,best_param)"
   ]
  },
  {
   "cell_type": "markdown",
   "metadata": {},
   "source": [
    "# Group K Fold CV"
   ]
  },
  {
   "cell_type": "code",
   "execution_count": 53,
   "metadata": {
    "collapsed": true
   },
   "outputs": [],
   "source": [
    "def group_kfold_cv(model = LogisticRegression(random_state=42,n_jobs=-1),f_to_use = f_to_use3):\n",
    "    group_kfold = GroupKFold(n_splits=4)\n",
    "    avg_f1_score_list = []\n",
    "    auc_score_list = []\n",
    "    i = 0\n",
    "    df_shuffle = df.sample(frac=1,random_state=43).reset_index(drop=True)\n",
    "    for train_index, val_index in group_kfold.split(\n",
    "        X = df_shuffle[f_to_use].values, groups = df_shuffle['order_id'].values):\n",
    "        i += 1\n",
    "        print ('Fold {}...'.format(i))\n",
    "        df_train = df_shuffle.loc[train_index]\n",
    "        df_val = df_shuffle.loc[val_index]\n",
    "        m = model.fit(df_train[f_to_use],df_train['labels'].values)\n",
    "        val_pred = m.predict_proba(df_val[f_to_use])[:,1]\n",
    "        avg_f1_score_list.append(avg_f1_score(df_val,val_pred))\n",
    "        auc_score_list.append(auc_score(df_val,val_pred))\n",
    "    return np.mean(avg_f1_score_list),np.mean(auc_score_list)\n",
    "\n",
    "def group_kfold_lgb(f_to_use = f_to_use3):\n",
    "    group_kfold = GroupKFold(n_splits=4)\n",
    "    avg_f1_score_list = []\n",
    "    auc_score_list = []\n",
    "    i = 0\n",
    "    df_shuffle = df.sample(frac=1,random_state=43).reset_index(drop=True)\n",
    "    for train_index, val_index in group_kfold.split(\n",
    "        X = df_shuffle[f_to_use].values, groups = df_shuffle['order_id'].values):\n",
    "        i += 1\n",
    "        print ('Fold {}...'.format(i))\n",
    "        df_train = df_shuffle.loc[train_index]\n",
    "        df_val = df_shuffle.loc[val_index]\n",
    "        d_train = lgb.Dataset(df_train[f_to_use],label=df_train['labels'].values)\n",
    "        params = {\n",
    "        'task': 'train',\n",
    "        'boosting_type': 'gbdt',\n",
    "        'objective': 'binary',\n",
    "        'metric': {'binary_logloss'},\n",
    "        'num_leaves': 96,\n",
    "        'max_depth': 10,\n",
    "        'feature_fraction': 0.9,\n",
    "        'bagging_fraction': 0.95,\n",
    "        'bagging_freq': 5\n",
    "        }\n",
    "        ROUNDS = 100\n",
    "        bst = lgb.train(params, d_train, ROUNDS)\n",
    "        val_pred = bst.predict(df_val[f_to_use])\n",
    "        avg_f1_score_list.append(avg_f1_score(df_val,val_pred))\n",
    "        auc_score_list.append(auc_score(df_val,val_pred))\n",
    "    return np.mean(avg_f1_score_list),np.mean(auc_score_list)\n",
    "\n",
    "def group_kfold_xgb(f_to_use = f_to_use3):\n",
    "    group_kfold = GroupKFold(n_splits=4)\n",
    "    avg_f1_score_list = []\n",
    "    auc_score_list = []\n",
    "    i = 0\n",
    "    df_shuffle = df.sample(frac=1,random_state=43).reset_index(drop=True)\n",
    "    for train_index, val_index in group_kfold.split(\n",
    "        X = df_shuffle[f_to_use].values, groups = df_shuffle['order_id'].values):\n",
    "        i += 1\n",
    "        print ('Fold {}...'.format(i))\n",
    "        df_train = df_shuffle.loc[train_index]\n",
    "        df_val = df_shuffle.loc[val_index]\n",
    "        d_train = xgb.DMatrix(df_train[f_to_use],label=df_train['labels'].values)\n",
    "\n",
    "        xgb_params = {\n",
    "            \"objective\"         : \"reg:logistic\"\n",
    "            ,\"eval_metric\"      : \"logloss\"\n",
    "            ,\"eta\"              : 0.1\n",
    "            ,\"max_depth\"        : 6\n",
    "            ,\"min_child_weight\" :10\n",
    "            ,\"gamma\"            :0.70\n",
    "            ,\"subsample\"        :0.76\n",
    "            ,\"colsample_bytree\" :0.95\n",
    "            ,\"alpha\"            :2e-05\n",
    "            ,\"lambda\"           :10\n",
    "        }\n",
    "        ROUNDS = 100\n",
    "#         watchlist= [(d_train, \"train\")]\n",
    "        bst = xgb.train(params=xgb_params, dtrain=d_train, num_boost_round=ROUNDS)\n",
    "        val_pred = bst.predict(xgb.DMatrix(df_val[f_to_use]))\n",
    "        avg_f1_score_list.append(avg_f1_score(df_val,val_pred))\n",
    "        auc_score_list.append(auc_score(df_val,val_pred))\n",
    "    return np.mean(avg_f1_score_list),np.mean(auc_score_list)"
   ]
  },
  {
   "cell_type": "code",
   "execution_count": 60,
   "metadata": {},
   "outputs": [
    {
     "name": "stdout",
     "output_type": "stream",
     "text": [
      "Fold 1...\n",
      "Fold 2...\n",
      "Fold 3...\n",
      "Fold 4...\n",
      "CPU times: user 1min 10s, sys: 2.32 s, total: 1min 12s\n",
      "Wall time: 1min 10s\n"
     ]
    },
    {
     "data": {
      "text/plain": [
       "(0.13208674109339155, 0.83524917996384851)"
      ]
     },
     "execution_count": 60,
     "metadata": {},
     "output_type": "execute_result"
    }
   ],
   "source": [
    "%%time\n",
    "group_kfold_cv()"
   ]
  },
  {
   "cell_type": "code",
   "execution_count": 61,
   "metadata": {},
   "outputs": [
    {
     "name": "stdout",
     "output_type": "stream",
     "text": [
      "Fold 1...\n",
      "Fold 2...\n",
      "Fold 3...\n",
      "Fold 4...\n",
      "CPU times: user 26min 12s, sys: 10.2 s, total: 26min 22s\n",
      "Wall time: 3min 32s\n"
     ]
    },
    {
     "data": {
      "text/plain": [
       "(0.17959987400227559, 0.8660472661686186)"
      ]
     },
     "execution_count": 61,
     "metadata": {},
     "output_type": "execute_result"
    }
   ],
   "source": [
    "%%time\n",
    "group_kfold_cv(RandomForestClassifier(random_state = 42, n_estimators=100, max_depth = 5, n_jobs=-1))"
   ]
  },
  {
   "cell_type": "code",
   "execution_count": 64,
   "metadata": {},
   "outputs": [
    {
     "name": "stdout",
     "output_type": "stream",
     "text": [
      "Fold 1...\n",
      "Fold 2...\n",
      "Fold 3...\n",
      "Fold 4...\n",
      "CPU times: user 7min 59s, sys: 1.3 s, total: 8min\n",
      "Wall time: 1min 4s\n"
     ]
    },
    {
     "data": {
      "text/plain": [
       "(0.17928740680159366, 0.87701008867151198)"
      ]
     },
     "execution_count": 64,
     "metadata": {},
     "output_type": "execute_result"
    }
   ],
   "source": [
    "%%time\n",
    "group_kfold_lgb()"
   ]
  },
  {
   "cell_type": "code",
   "execution_count": 23,
   "metadata": {},
   "outputs": [
    {
     "name": "stdout",
     "output_type": "stream",
     "text": [
      "Fold 1...\n",
      "Fold 2...\n",
      "Fold 3...\n",
      "Fold 4...\n",
      "CPU times: user 1h 4min 1s, sys: 10.4 s, total: 1h 4min 12s\n",
      "Wall time: 8min 24s\n"
     ]
    },
    {
     "data": {
      "text/plain": [
       "(0.18824797592072021, 0.8803443391638035)"
      ]
     },
     "execution_count": 23,
     "metadata": {},
     "output_type": "execute_result"
    }
   ],
   "source": [
    "%%time\n",
    "group_kfold_xgb()"
   ]
  },
  {
   "cell_type": "code",
   "execution_count": null,
   "metadata": {
    "collapsed": true
   },
   "outputs": [],
   "source": []
  }
 ],
 "metadata": {
  "kernelspec": {
   "display_name": "Python 3",
   "language": "python",
   "name": "python3"
  },
  "language_info": {
   "codemirror_mode": {
    "name": "ipython",
    "version": 3
   },
   "file_extension": ".py",
   "mimetype": "text/x-python",
   "name": "python",
   "nbconvert_exporter": "python",
   "pygments_lexer": "ipython3",
   "version": "3.6.1"
  }
 },
 "nbformat": 4,
 "nbformat_minor": 2
}
