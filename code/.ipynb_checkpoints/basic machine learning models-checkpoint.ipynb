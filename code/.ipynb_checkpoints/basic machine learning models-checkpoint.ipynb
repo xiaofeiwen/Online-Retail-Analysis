{
 "cells": [
  {
   "cell_type": "code",
   "execution_count": 2,
   "metadata": {},
   "outputs": [
    {
     "name": "stderr",
     "output_type": "stream",
     "text": [
      "/home/song/anaconda3/lib/python3.6/site-packages/sklearn/cross_validation.py:44: DeprecationWarning: This module was deprecated in version 0.18 in favor of the model_selection module into which all the refactored classes and functions are moved. Also note that the interface of the new CV iterators are different from that of this module. This module will be removed in 0.20.\n",
      "  \"This module will be removed in 0.20.\", DeprecationWarning)\n"
     ]
    }
   ],
   "source": [
    "import pandas as pd\n",
    "import numpy as np\n",
    "import lightgbm as lgb\n",
    "import xgboost as xgb\n",
    "from sklearn.linear_model import LogisticRegression\n",
    "from sklearn.ensemble import RandomForestClassifier\n",
    "from sklearn.model_selection import GroupKFold\n",
    "from sklearn.metrics import roc_auc_score\n",
    "import matplotlib.pyplot as plt\n",
    "import seaborn as sns\n",
    "# from sklearn.metrics import f1_score\n",
    "%matplotlib inline\n",
    "np.random.seed(42)\n",
    "\n",
    "df = pd.read_pickle('../data/train_transformed.p')\n",
    "order_products_compact = pd.read_hdf('../data/online_retail.h5','order_products_compact')\n",
    "\n",
    "def f1_score(l_true,l_pred):\n",
    "    tp = set(l_true).intersection(set(l_pred))\n",
    "    if not len(tp):\n",
    "        return 0\n",
    "    fp = set(l_pred).difference(tp)\n",
    "    fn = set(l_true).difference(tp)\n",
    "    p = len(tp) / (len(tp) + len(fp))\n",
    "    r = len(tp) / (len(tp) + len(fn))\n",
    "    f1 = 2 * (p * r) / (p + r)\n",
    "    return f1\n",
    "def avg_f1_score(df,pred,order_products_compact=order_products_compact,thres=0.05):\n",
    "    df_pred = pd.DataFrame({'order_id':df.order_id,'pred':pred,'product_id':df.product_id,\n",
    "                            'prior_size_max':df.user_order_size_max,\n",
    "                            'prior_size_mean':df.user_order_size_mean,\n",
    "                            'prior_size_std':df.user_order_size_std})\\\n",
    "                .sort_values(['order_id','pred'],ascending = [True,False]).reset_index(drop=True)\n",
    "    df_pred['pred_rank'] = df_pred.groupby('order_id').cumcount()\n",
    "    df_pred['prior_size_2std'] = df_pred.prior_size_mean + df_pred.prior_size_std * 2\n",
    "    df_pred = df_pred[df_pred.pred_rank < df_pred.prior_size_max]\\\n",
    "            .reset_index(drop=True)\n",
    "    d = {}\n",
    "    for row in df_pred.itertuples():\n",
    "        order_id = row.order_id\n",
    "        if row.pred_rank == 0 or row.pred > thres:\n",
    "            try:\n",
    "                d[order_id] += ' ' + str(row.product_id)\n",
    "            except:\n",
    "                d[order_id] = str(row.product_id)\n",
    "    df_pred_compact = pd.DataFrame.from_dict(d, orient='index')\n",
    "\n",
    "    df_pred_compact.reset_index(inplace=True)\n",
    "    df_pred_compact.columns = ['order_id', 'y_pred']\n",
    "    df_pred_compact['y_pred'] = df_pred_compact['y_pred'].str.split()\n",
    "    df_pred_compact = df_pred_compact.merge(order_products_compact[['order_id','product_id']],how='left',\n",
    "                                                       on='order_id')\n",
    "    scores = []\n",
    "    for row in df_pred_compact.itertuples():\n",
    "        y_pred = row.y_pred\n",
    "        y_true = row.product_id\n",
    "        score = f1_score(y_true,y_pred)\n",
    "        scores.append(score)\n",
    "    return np.mean(scores)\n",
    "def auc_score(df,pred):\n",
    "    return roc_auc_score(df['labels'].values,pred)"
   ]
  },
  {
   "cell_type": "code",
   "execution_count": 3,
   "metadata": {
    "collapsed": true
   },
   "outputs": [],
   "source": [
    "f_to_use0 = ['user_total_orders',\n",
    "       'user_total_items', 'total_distinct_items',\n",
    "       'user_average_days_between_orders', 'user_order_size_mean',\n",
    "       'user_total_item_quantity', 'user_total_spent',\n",
    "       'user_sum_days_between_orders', 'user_reorder_ratio',\n",
    "       'order_hour_of_day', 'days_since_prior_order', 'days_since_ratio',\n",
    "       'product_orders', 'product_reorders', 'product_reorder_rate',\n",
    "       'product_total_quantity_sold', 'product_avg_price', 'prod_first_buy',\n",
    "       'prod_second_buy', 'prod_1reorder_ratio', 'prod_nreorder_ratio',\n",
    "       'UP_orders', 'UP_orders_ratio', 'UP_reorder_rate', 'UP_total_quantity',\n",
    "       'UP_order_rate_since_first_order']\n",
    "f_to_use1 = ['user_total_orders',\n",
    "       'user_total_items', 'total_distinct_items',\n",
    "       'user_average_days_between_orders', 'user_order_size_mean',\n",
    "       'user_total_item_quantity',\n",
    "       'user_sum_days_between_orders', 'user_reorder_ratio',\n",
    "       'order_hour_of_day', 'days_since_prior_order', 'days_since_ratio',\n",
    "       'product_orders', 'product_reorder_rate',\n",
    "       'product_total_quantity_sold', 'product_avg_price', 'prod_1reorder_ratio',\n",
    "       'UP_orders', 'UP_orders_ratio', 'UP_total_quantity']\n",
    "f_to_use2 = ['user_total_orders',\n",
    "       'user_total_items', 'total_distinct_items',\n",
    "       'user_average_days_between_orders', 'user_order_size_mean','user_order_size_max','user_order_size_std',\n",
    "       'user_total_item_quantity', 'user_total_spent',\n",
    "       'user_sum_days_between_orders', 'user_reorder_ratio',\n",
    "       'order_hour_of_day', 'days_since_prior_order', 'days_since_ratio',\n",
    "       'product_reorder_rate',\n",
    "       'product_total_quantity_sold', 'product_avg_price', 'prod_first_buy',\n",
    "       'prod_1reorder_ratio',\n",
    "       'UP_orders', 'UP_orders_ratio', 'UP_total_quantity',\n",
    "       'UP_order_rate_since_first_order']\n",
    "f_to_use4 = ['user_total_orders', 'user_average_days_between_orders', 'user_order_size_mean', \n",
    "             'user_total_item_quantity', 'order_hour_of_day','order_dow', 'days_since_ratio',\n",
    "             'product_orders', 'product_avg_price', \n",
    "             'UP_orders', 'UP_total_quantity', \n",
    "             'user_sum_days_between_orders','user_reorder_ratio','prod_1reorder_ratio']\n",
    "f_to_use5 = ['user_reorder_ratio','prod_first_buy','user_order_size_mean','days_since_ratio']"
   ]
  },
  {
   "cell_type": "code",
   "execution_count": 84,
   "metadata": {},
   "outputs": [
    {
     "data": {
      "text/html": [
       "<div>\n",
       "<style>\n",
       "    .dataframe thead tr:only-child th {\n",
       "        text-align: right;\n",
       "    }\n",
       "\n",
       "    .dataframe thead th {\n",
       "        text-align: left;\n",
       "    }\n",
       "\n",
       "    .dataframe tbody tr th {\n",
       "        vertical-align: top;\n",
       "    }\n",
       "</style>\n",
       "<table border=\"1\" class=\"dataframe\">\n",
       "  <thead>\n",
       "    <tr style=\"text-align: right;\">\n",
       "      <th></th>\n",
       "      <th>user_reorder_ratio</th>\n",
       "      <th>prod_first_buy</th>\n",
       "      <th>user_order_size_mean</th>\n",
       "      <th>days_since_ratio</th>\n",
       "    </tr>\n",
       "  </thead>\n",
       "  <tbody>\n",
       "    <tr>\n",
       "      <th>user_reorder_ratio</th>\n",
       "      <td>1.000000e+00</td>\n",
       "      <td>8.335906e-17</td>\n",
       "      <td>-7.893478e-02</td>\n",
       "      <td>-2.486770e-02</td>\n",
       "    </tr>\n",
       "    <tr>\n",
       "      <th>prod_first_buy</th>\n",
       "      <td>8.335906e-17</td>\n",
       "      <td>1.000000e+00</td>\n",
       "      <td>-2.843699e-18</td>\n",
       "      <td>-1.006647e-16</td>\n",
       "    </tr>\n",
       "    <tr>\n",
       "      <th>user_order_size_mean</th>\n",
       "      <td>-7.893478e-02</td>\n",
       "      <td>-2.843699e-18</td>\n",
       "      <td>1.000000e+00</td>\n",
       "      <td>-7.460674e-03</td>\n",
       "    </tr>\n",
       "    <tr>\n",
       "      <th>days_since_ratio</th>\n",
       "      <td>-2.486770e-02</td>\n",
       "      <td>-1.006647e-16</td>\n",
       "      <td>-7.460674e-03</td>\n",
       "      <td>1.000000e+00</td>\n",
       "    </tr>\n",
       "  </tbody>\n",
       "</table>\n",
       "</div>"
      ],
      "text/plain": [
       "                      user_reorder_ratio  prod_first_buy  \\\n",
       "user_reorder_ratio          1.000000e+00    8.335906e-17   \n",
       "prod_first_buy              8.335906e-17    1.000000e+00   \n",
       "user_order_size_mean       -7.893478e-02   -2.843699e-18   \n",
       "days_since_ratio           -2.486770e-02   -1.006647e-16   \n",
       "\n",
       "                      user_order_size_mean  days_since_ratio  \n",
       "user_reorder_ratio           -7.893478e-02     -2.486770e-02  \n",
       "prod_first_buy               -2.843699e-18     -1.006647e-16  \n",
       "user_order_size_mean          1.000000e+00     -7.460674e-03  \n",
       "days_since_ratio             -7.460674e-03      1.000000e+00  "
      ]
     },
     "execution_count": 84,
     "metadata": {},
     "output_type": "execute_result"
    }
   ],
   "source": [
    "df[f_to_use5].corr()"
   ]
  },
  {
   "cell_type": "code",
   "execution_count": 13,
   "metadata": {},
   "outputs": [
    {
     "data": {
      "text/plain": [
       "user_total_orders                   1\n",
       "user_total_items                    1\n",
       "total_distinct_items                1\n",
       "user_average_days_between_orders    1\n",
       "user_order_size_mean                1\n",
       "user_order_size_max                 1\n",
       "user_order_size_std                 1\n",
       "user_total_item_quantity            1\n",
       "user_total_spent                    1\n",
       "user_sum_days_between_orders        1\n",
       "user_reorder_ratio                  1\n",
       "order_hour_of_day                   1\n",
       "days_since_prior_order              1\n",
       "days_since_ratio                    1\n",
       "product_reorder_rate                1\n",
       "product_total_quantity_sold         1\n",
       "product_avg_price                   1\n",
       "prod_first_buy                      1\n",
       "prod_1reorder_ratio                 1\n",
       "UP_orders                           1\n",
       "UP_orders_ratio                     1\n",
       "UP_total_quantity                   1\n",
       "UP_order_rate_since_first_order     1\n",
       "dtype: int64"
      ]
     },
     "execution_count": 13,
     "metadata": {},
     "output_type": "execute_result"
    }
   ],
   "source": [
    "corr = df[f_to_use2].corr()\n",
    "(corr > 0.95).sum()"
   ]
  },
  {
   "cell_type": "code",
   "execution_count": 14,
   "metadata": {},
   "outputs": [
    {
     "data": {
      "text/html": [
       "<div>\n",
       "<style>\n",
       "    .dataframe thead tr:only-child th {\n",
       "        text-align: right;\n",
       "    }\n",
       "\n",
       "    .dataframe thead th {\n",
       "        text-align: left;\n",
       "    }\n",
       "\n",
       "    .dataframe tbody tr th {\n",
       "        vertical-align: top;\n",
       "    }\n",
       "</style>\n",
       "<table border=\"1\" class=\"dataframe\">\n",
       "  <thead>\n",
       "    <tr style=\"text-align: right;\">\n",
       "      <th></th>\n",
       "      <th>user_total_orders</th>\n",
       "      <th>user_total_items</th>\n",
       "      <th>total_distinct_items</th>\n",
       "      <th>user_average_days_between_orders</th>\n",
       "      <th>user_order_size_mean</th>\n",
       "      <th>user_order_size_max</th>\n",
       "      <th>user_order_size_std</th>\n",
       "      <th>user_total_item_quantity</th>\n",
       "      <th>user_total_spent</th>\n",
       "      <th>user_sum_days_between_orders</th>\n",
       "      <th>...</th>\n",
       "      <th>days_since_ratio</th>\n",
       "      <th>product_reorder_rate</th>\n",
       "      <th>product_total_quantity_sold</th>\n",
       "      <th>product_avg_price</th>\n",
       "      <th>prod_first_buy</th>\n",
       "      <th>prod_1reorder_ratio</th>\n",
       "      <th>UP_orders</th>\n",
       "      <th>UP_orders_ratio</th>\n",
       "      <th>UP_total_quantity</th>\n",
       "      <th>UP_order_rate_since_first_order</th>\n",
       "    </tr>\n",
       "  </thead>\n",
       "  <tbody>\n",
       "    <tr>\n",
       "      <th>user_total_orders</th>\n",
       "      <td>1.000000e+00</td>\n",
       "      <td>8.165736e-01</td>\n",
       "      <td>7.163151e-01</td>\n",
       "      <td>-4.123759e-01</td>\n",
       "      <td>-4.988595e-02</td>\n",
       "      <td>1.660630e-01</td>\n",
       "      <td>3.710501e-02</td>\n",
       "      <td>5.628045e-01</td>\n",
       "      <td>5.609762e-01</td>\n",
       "      <td>2.523834e-01</td>\n",
       "      <td>...</td>\n",
       "      <td>-1.020318e-01</td>\n",
       "      <td>-1.965402e-16</td>\n",
       "      <td>-5.785364e-18</td>\n",
       "      <td>1.907015e-19</td>\n",
       "      <td>-2.453117e-17</td>\n",
       "      <td>1.481277e-16</td>\n",
       "      <td>0.200472</td>\n",
       "      <td>0.000855</td>\n",
       "      <td>0.060087</td>\n",
       "      <td>0.012730</td>\n",
       "    </tr>\n",
       "    <tr>\n",
       "      <th>user_total_items</th>\n",
       "      <td>8.165736e-01</td>\n",
       "      <td>1.000000e+00</td>\n",
       "      <td>8.955118e-01</td>\n",
       "      <td>-2.732225e-01</td>\n",
       "      <td>3.060607e-01</td>\n",
       "      <td>4.781919e-01</td>\n",
       "      <td>3.088256e-01</td>\n",
       "      <td>4.704022e-01</td>\n",
       "      <td>4.277149e-01</td>\n",
       "      <td>1.734223e-01</td>\n",
       "      <td>...</td>\n",
       "      <td>-6.847880e-02</td>\n",
       "      <td>1.215257e-17</td>\n",
       "      <td>3.497120e-18</td>\n",
       "      <td>2.930313e-19</td>\n",
       "      <td>1.747566e-17</td>\n",
       "      <td>2.074457e-17</td>\n",
       "      <td>0.245504</td>\n",
       "      <td>0.039744</td>\n",
       "      <td>0.050222</td>\n",
       "      <td>0.053299</td>\n",
       "    </tr>\n",
       "    <tr>\n",
       "      <th>total_distinct_items</th>\n",
       "      <td>7.163151e-01</td>\n",
       "      <td>8.955118e-01</td>\n",
       "      <td>1.000000e+00</td>\n",
       "      <td>-2.733185e-01</td>\n",
       "      <td>5.280903e-01</td>\n",
       "      <td>7.009819e-01</td>\n",
       "      <td>5.285133e-01</td>\n",
       "      <td>4.459964e-01</td>\n",
       "      <td>3.926141e-01</td>\n",
       "      <td>2.140155e-01</td>\n",
       "      <td>...</td>\n",
       "      <td>-8.073580e-02</td>\n",
       "      <td>6.689366e-17</td>\n",
       "      <td>-1.460419e-18</td>\n",
       "      <td>1.443753e-18</td>\n",
       "      <td>3.246002e-18</td>\n",
       "      <td>-2.591635e-17</td>\n",
       "      <td>0.219852</td>\n",
       "      <td>0.064047</td>\n",
       "      <td>0.047616</td>\n",
       "      <td>0.081713</td>\n",
       "    </tr>\n",
       "    <tr>\n",
       "      <th>user_average_days_between_orders</th>\n",
       "      <td>-4.123759e-01</td>\n",
       "      <td>-2.732225e-01</td>\n",
       "      <td>-2.733185e-01</td>\n",
       "      <td>1.000000e+00</td>\n",
       "      <td>9.653803e-02</td>\n",
       "      <td>-8.503534e-02</td>\n",
       "      <td>-3.887627e-02</td>\n",
       "      <td>-2.358832e-01</td>\n",
       "      <td>-2.386266e-01</td>\n",
       "      <td>2.690539e-01</td>\n",
       "      <td>...</td>\n",
       "      <td>6.802189e-02</td>\n",
       "      <td>9.603240e-19</td>\n",
       "      <td>-2.196534e-18</td>\n",
       "      <td>2.671903e-18</td>\n",
       "      <td>3.554100e-18</td>\n",
       "      <td>-7.183409e-18</td>\n",
       "      <td>-0.067077</td>\n",
       "      <td>0.002860</td>\n",
       "      <td>-0.025184</td>\n",
       "      <td>-0.007002</td>\n",
       "    </tr>\n",
       "    <tr>\n",
       "      <th>user_order_size_mean</th>\n",
       "      <td>-4.988595e-02</td>\n",
       "      <td>3.060607e-01</td>\n",
       "      <td>5.280903e-01</td>\n",
       "      <td>9.653803e-02</td>\n",
       "      <td>1.000000e+00</td>\n",
       "      <td>8.683878e-01</td>\n",
       "      <td>7.538228e-01</td>\n",
       "      <td>2.012863e-02</td>\n",
       "      <td>2.023487e-03</td>\n",
       "      <td>-1.001512e-02</td>\n",
       "      <td>...</td>\n",
       "      <td>-7.460674e-03</td>\n",
       "      <td>-5.793121e-18</td>\n",
       "      <td>-1.659724e-18</td>\n",
       "      <td>2.982399e-18</td>\n",
       "      <td>-2.843699e-18</td>\n",
       "      <td>5.806308e-18</td>\n",
       "      <td>0.075139</td>\n",
       "      <td>0.107449</td>\n",
       "      <td>0.002149</td>\n",
       "      <td>0.109283</td>\n",
       "    </tr>\n",
       "    <tr>\n",
       "      <th>user_order_size_max</th>\n",
       "      <td>1.660630e-01</td>\n",
       "      <td>4.781919e-01</td>\n",
       "      <td>7.009819e-01</td>\n",
       "      <td>-8.503534e-02</td>\n",
       "      <td>8.683878e-01</td>\n",
       "      <td>1.000000e+00</td>\n",
       "      <td>9.216621e-01</td>\n",
       "      <td>1.907012e-01</td>\n",
       "      <td>1.573682e-01</td>\n",
       "      <td>6.451858e-02</td>\n",
       "      <td>...</td>\n",
       "      <td>-2.253865e-02</td>\n",
       "      <td>1.122269e-16</td>\n",
       "      <td>-8.134907e-18</td>\n",
       "      <td>-6.380486e-19</td>\n",
       "      <td>9.865983e-18</td>\n",
       "      <td>9.641773e-18</td>\n",
       "      <td>0.117398</td>\n",
       "      <td>0.096744</td>\n",
       "      <td>0.020360</td>\n",
       "      <td>0.106285</td>\n",
       "    </tr>\n",
       "    <tr>\n",
       "      <th>user_order_size_std</th>\n",
       "      <td>3.710501e-02</td>\n",
       "      <td>3.088256e-01</td>\n",
       "      <td>5.285133e-01</td>\n",
       "      <td>-3.887627e-02</td>\n",
       "      <td>7.538228e-01</td>\n",
       "      <td>9.216621e-01</td>\n",
       "      <td>1.000000e+00</td>\n",
       "      <td>1.101968e-01</td>\n",
       "      <td>8.653384e-02</td>\n",
       "      <td>-2.079162e-02</td>\n",
       "      <td>...</td>\n",
       "      <td>-1.517372e-03</td>\n",
       "      <td>7.757880e-17</td>\n",
       "      <td>-6.796925e-18</td>\n",
       "      <td>3.295155e-18</td>\n",
       "      <td>1.507652e-17</td>\n",
       "      <td>-1.649386e-17</td>\n",
       "      <td>0.075818</td>\n",
       "      <td>0.082818</td>\n",
       "      <td>0.011765</td>\n",
       "      <td>0.089446</td>\n",
       "    </tr>\n",
       "    <tr>\n",
       "      <th>user_total_item_quantity</th>\n",
       "      <td>5.628045e-01</td>\n",
       "      <td>4.704022e-01</td>\n",
       "      <td>4.459964e-01</td>\n",
       "      <td>-2.358832e-01</td>\n",
       "      <td>2.012863e-02</td>\n",
       "      <td>1.907012e-01</td>\n",
       "      <td>1.101968e-01</td>\n",
       "      <td>1.000000e+00</td>\n",
       "      <td>9.181255e-01</td>\n",
       "      <td>1.454924e-01</td>\n",
       "      <td>...</td>\n",
       "      <td>-7.512556e-02</td>\n",
       "      <td>7.364634e-18</td>\n",
       "      <td>5.195445e-18</td>\n",
       "      <td>1.311386e-18</td>\n",
       "      <td>-1.381355e-17</td>\n",
       "      <td>1.261048e-17</td>\n",
       "      <td>0.115486</td>\n",
       "      <td>0.005918</td>\n",
       "      <td>0.106763</td>\n",
       "      <td>0.012700</td>\n",
       "    </tr>\n",
       "    <tr>\n",
       "      <th>user_total_spent</th>\n",
       "      <td>5.609762e-01</td>\n",
       "      <td>4.277149e-01</td>\n",
       "      <td>3.926141e-01</td>\n",
       "      <td>-2.386266e-01</td>\n",
       "      <td>2.023487e-03</td>\n",
       "      <td>1.573682e-01</td>\n",
       "      <td>8.653384e-02</td>\n",
       "      <td>9.181255e-01</td>\n",
       "      <td>1.000000e+00</td>\n",
       "      <td>1.547752e-01</td>\n",
       "      <td>...</td>\n",
       "      <td>-7.937641e-02</td>\n",
       "      <td>-3.061170e-17</td>\n",
       "      <td>-7.924042e-19</td>\n",
       "      <td>-2.645946e-18</td>\n",
       "      <td>-1.886388e-17</td>\n",
       "      <td>-1.438819e-17</td>\n",
       "      <td>0.105006</td>\n",
       "      <td>0.003701</td>\n",
       "      <td>0.098022</td>\n",
       "      <td>0.009218</td>\n",
       "    </tr>\n",
       "    <tr>\n",
       "      <th>user_sum_days_between_orders</th>\n",
       "      <td>2.523834e-01</td>\n",
       "      <td>1.734223e-01</td>\n",
       "      <td>2.140155e-01</td>\n",
       "      <td>2.690539e-01</td>\n",
       "      <td>-1.001512e-02</td>\n",
       "      <td>6.451858e-02</td>\n",
       "      <td>-2.079162e-02</td>\n",
       "      <td>1.454924e-01</td>\n",
       "      <td>1.547752e-01</td>\n",
       "      <td>1.000000e+00</td>\n",
       "      <td>...</td>\n",
       "      <td>-1.380487e-01</td>\n",
       "      <td>6.265815e-17</td>\n",
       "      <td>2.060714e-18</td>\n",
       "      <td>-2.631253e-19</td>\n",
       "      <td>1.659722e-17</td>\n",
       "      <td>2.595913e-17</td>\n",
       "      <td>0.042576</td>\n",
       "      <td>0.004252</td>\n",
       "      <td>0.015533</td>\n",
       "      <td>0.016128</td>\n",
       "    </tr>\n",
       "    <tr>\n",
       "      <th>user_reorder_ratio</th>\n",
       "      <td>3.261511e-01</td>\n",
       "      <td>2.162298e-01</td>\n",
       "      <td>9.052234e-02</td>\n",
       "      <td>-3.802930e-01</td>\n",
       "      <td>-7.893478e-02</td>\n",
       "      <td>-3.224425e-02</td>\n",
       "      <td>-1.083718e-01</td>\n",
       "      <td>2.144581e-01</td>\n",
       "      <td>2.156230e-01</td>\n",
       "      <td>1.105951e-01</td>\n",
       "      <td>...</td>\n",
       "      <td>-2.486770e-02</td>\n",
       "      <td>-6.408540e-17</td>\n",
       "      <td>-1.172233e-17</td>\n",
       "      <td>-3.922376e-18</td>\n",
       "      <td>8.335906e-17</td>\n",
       "      <td>3.271750e-17</td>\n",
       "      <td>0.053085</td>\n",
       "      <td>-0.003791</td>\n",
       "      <td>0.022896</td>\n",
       "      <td>-0.005327</td>\n",
       "    </tr>\n",
       "    <tr>\n",
       "      <th>order_hour_of_day</th>\n",
       "      <td>-4.870814e-03</td>\n",
       "      <td>1.388998e-02</td>\n",
       "      <td>1.894204e-02</td>\n",
       "      <td>4.120785e-02</td>\n",
       "      <td>3.167353e-02</td>\n",
       "      <td>3.113619e-02</td>\n",
       "      <td>3.715385e-02</td>\n",
       "      <td>-2.984752e-02</td>\n",
       "      <td>-2.319995e-02</td>\n",
       "      <td>3.242748e-02</td>\n",
       "      <td>...</td>\n",
       "      <td>-2.046899e-02</td>\n",
       "      <td>1.427991e-17</td>\n",
       "      <td>-3.906982e-17</td>\n",
       "      <td>8.909364e-18</td>\n",
       "      <td>9.331161e-17</td>\n",
       "      <td>-4.344383e-17</td>\n",
       "      <td>0.003410</td>\n",
       "      <td>0.003175</td>\n",
       "      <td>-0.003187</td>\n",
       "      <td>0.004020</td>\n",
       "    </tr>\n",
       "    <tr>\n",
       "      <th>days_since_prior_order</th>\n",
       "      <td>-2.317275e-01</td>\n",
       "      <td>-1.547299e-01</td>\n",
       "      <td>-1.665958e-01</td>\n",
       "      <td>5.690200e-01</td>\n",
       "      <td>4.829517e-02</td>\n",
       "      <td>-5.004755e-02</td>\n",
       "      <td>-1.478618e-02</td>\n",
       "      <td>-1.333108e-01</td>\n",
       "      <td>-1.341529e-01</td>\n",
       "      <td>8.108706e-02</td>\n",
       "      <td>...</td>\n",
       "      <td>7.368666e-01</td>\n",
       "      <td>-1.689168e-17</td>\n",
       "      <td>2.863128e-18</td>\n",
       "      <td>1.867932e-17</td>\n",
       "      <td>-4.356758e-17</td>\n",
       "      <td>-2.703641e-17</td>\n",
       "      <td>-0.037987</td>\n",
       "      <td>0.000349</td>\n",
       "      <td>-0.014233</td>\n",
       "      <td>-0.007008</td>\n",
       "    </tr>\n",
       "    <tr>\n",
       "      <th>days_since_ratio</th>\n",
       "      <td>-1.020318e-01</td>\n",
       "      <td>-6.847880e-02</td>\n",
       "      <td>-8.073580e-02</td>\n",
       "      <td>6.802189e-02</td>\n",
       "      <td>-7.460674e-03</td>\n",
       "      <td>-2.253865e-02</td>\n",
       "      <td>-1.517372e-03</td>\n",
       "      <td>-7.512556e-02</td>\n",
       "      <td>-7.937641e-02</td>\n",
       "      <td>-1.380487e-01</td>\n",
       "      <td>...</td>\n",
       "      <td>1.000000e+00</td>\n",
       "      <td>8.279976e-17</td>\n",
       "      <td>1.489171e-18</td>\n",
       "      <td>-4.626312e-18</td>\n",
       "      <td>-1.006647e-16</td>\n",
       "      <td>-1.310789e-16</td>\n",
       "      <td>-0.016812</td>\n",
       "      <td>-0.002347</td>\n",
       "      <td>-0.008021</td>\n",
       "      <td>-0.005507</td>\n",
       "    </tr>\n",
       "    <tr>\n",
       "      <th>product_reorder_rate</th>\n",
       "      <td>-1.965402e-16</td>\n",
       "      <td>1.215257e-17</td>\n",
       "      <td>6.689366e-17</td>\n",
       "      <td>9.603240e-19</td>\n",
       "      <td>-5.793121e-18</td>\n",
       "      <td>1.122269e-16</td>\n",
       "      <td>7.757880e-17</td>\n",
       "      <td>7.364634e-18</td>\n",
       "      <td>-3.061170e-17</td>\n",
       "      <td>6.265815e-17</td>\n",
       "      <td>...</td>\n",
       "      <td>8.279976e-17</td>\n",
       "      <td>1.000000e+00</td>\n",
       "      <td>4.191358e-01</td>\n",
       "      <td>-6.875855e-02</td>\n",
       "      <td>5.796978e-01</td>\n",
       "      <td>8.988515e-01</td>\n",
       "      <td>0.115055</td>\n",
       "      <td>0.122839</td>\n",
       "      <td>0.032218</td>\n",
       "      <td>0.114659</td>\n",
       "    </tr>\n",
       "    <tr>\n",
       "      <th>product_total_quantity_sold</th>\n",
       "      <td>-5.785364e-18</td>\n",
       "      <td>3.497120e-18</td>\n",
       "      <td>-1.460419e-18</td>\n",
       "      <td>-2.196534e-18</td>\n",
       "      <td>-1.659724e-18</td>\n",
       "      <td>-8.134907e-18</td>\n",
       "      <td>-6.796925e-18</td>\n",
       "      <td>5.195445e-18</td>\n",
       "      <td>-7.924042e-19</td>\n",
       "      <td>2.060714e-18</td>\n",
       "      <td>...</td>\n",
       "      <td>1.489171e-18</td>\n",
       "      <td>4.191358e-01</td>\n",
       "      <td>1.000000e+00</td>\n",
       "      <td>-8.732519e-02</td>\n",
       "      <td>6.787886e-01</td>\n",
       "      <td>3.795276e-01</td>\n",
       "      <td>0.142070</td>\n",
       "      <td>0.158369</td>\n",
       "      <td>0.074639</td>\n",
       "      <td>0.145737</td>\n",
       "    </tr>\n",
       "    <tr>\n",
       "      <th>product_avg_price</th>\n",
       "      <td>1.907015e-19</td>\n",
       "      <td>2.930313e-19</td>\n",
       "      <td>1.443753e-18</td>\n",
       "      <td>2.671903e-18</td>\n",
       "      <td>2.982399e-18</td>\n",
       "      <td>-6.380486e-19</td>\n",
       "      <td>3.295155e-18</td>\n",
       "      <td>1.311386e-18</td>\n",
       "      <td>-2.645946e-18</td>\n",
       "      <td>-2.631253e-19</td>\n",
       "      <td>...</td>\n",
       "      <td>-4.626312e-18</td>\n",
       "      <td>-6.875855e-02</td>\n",
       "      <td>-8.732519e-02</td>\n",
       "      <td>1.000000e+00</td>\n",
       "      <td>-5.587667e-02</td>\n",
       "      <td>-5.017860e-02</td>\n",
       "      <td>-0.008766</td>\n",
       "      <td>-0.009654</td>\n",
       "      <td>-0.006523</td>\n",
       "      <td>-0.010597</td>\n",
       "    </tr>\n",
       "    <tr>\n",
       "      <th>prod_first_buy</th>\n",
       "      <td>-2.453117e-17</td>\n",
       "      <td>1.747566e-17</td>\n",
       "      <td>3.246002e-18</td>\n",
       "      <td>3.554100e-18</td>\n",
       "      <td>-2.843699e-18</td>\n",
       "      <td>9.865983e-18</td>\n",
       "      <td>1.507652e-17</td>\n",
       "      <td>-1.381355e-17</td>\n",
       "      <td>-1.886388e-17</td>\n",
       "      <td>1.659722e-17</td>\n",
       "      <td>...</td>\n",
       "      <td>-1.006647e-16</td>\n",
       "      <td>5.796978e-01</td>\n",
       "      <td>6.787886e-01</td>\n",
       "      <td>-5.587667e-02</td>\n",
       "      <td>1.000000e+00</td>\n",
       "      <td>5.047923e-01</td>\n",
       "      <td>0.186814</td>\n",
       "      <td>0.211390</td>\n",
       "      <td>0.052418</td>\n",
       "      <td>0.203553</td>\n",
       "    </tr>\n",
       "    <tr>\n",
       "      <th>prod_1reorder_ratio</th>\n",
       "      <td>1.481277e-16</td>\n",
       "      <td>2.074457e-17</td>\n",
       "      <td>-2.591635e-17</td>\n",
       "      <td>-7.183409e-18</td>\n",
       "      <td>5.806308e-18</td>\n",
       "      <td>9.641773e-18</td>\n",
       "      <td>-1.649386e-17</td>\n",
       "      <td>1.261048e-17</td>\n",
       "      <td>-1.438819e-17</td>\n",
       "      <td>2.595913e-17</td>\n",
       "      <td>...</td>\n",
       "      <td>-1.310789e-16</td>\n",
       "      <td>8.988515e-01</td>\n",
       "      <td>3.795276e-01</td>\n",
       "      <td>-5.017860e-02</td>\n",
       "      <td>5.047923e-01</td>\n",
       "      <td>1.000000e+00</td>\n",
       "      <td>0.102277</td>\n",
       "      <td>0.110675</td>\n",
       "      <td>0.029122</td>\n",
       "      <td>0.101817</td>\n",
       "    </tr>\n",
       "    <tr>\n",
       "      <th>UP_orders</th>\n",
       "      <td>2.004725e-01</td>\n",
       "      <td>2.455045e-01</td>\n",
       "      <td>2.198521e-01</td>\n",
       "      <td>-6.707733e-02</td>\n",
       "      <td>7.513927e-02</td>\n",
       "      <td>1.173983e-01</td>\n",
       "      <td>7.581807e-02</td>\n",
       "      <td>1.154858e-01</td>\n",
       "      <td>1.050059e-01</td>\n",
       "      <td>4.257595e-02</td>\n",
       "      <td>...</td>\n",
       "      <td>-1.681185e-02</td>\n",
       "      <td>1.150553e-01</td>\n",
       "      <td>1.420702e-01</td>\n",
       "      <td>-8.766088e-03</td>\n",
       "      <td>1.868138e-01</td>\n",
       "      <td>1.022769e-01</td>\n",
       "      <td>1.000000</td>\n",
       "      <td>0.710951</td>\n",
       "      <td>0.324171</td>\n",
       "      <td>0.664302</td>\n",
       "    </tr>\n",
       "    <tr>\n",
       "      <th>UP_orders_ratio</th>\n",
       "      <td>8.546322e-04</td>\n",
       "      <td>3.974448e-02</td>\n",
       "      <td>6.404727e-02</td>\n",
       "      <td>2.859837e-03</td>\n",
       "      <td>1.074487e-01</td>\n",
       "      <td>9.674380e-02</td>\n",
       "      <td>8.281811e-02</td>\n",
       "      <td>5.917853e-03</td>\n",
       "      <td>3.701486e-03</td>\n",
       "      <td>4.252486e-03</td>\n",
       "      <td>...</td>\n",
       "      <td>-2.347100e-03</td>\n",
       "      <td>1.228387e-01</td>\n",
       "      <td>1.583695e-01</td>\n",
       "      <td>-9.654414e-03</td>\n",
       "      <td>2.113901e-01</td>\n",
       "      <td>1.106753e-01</td>\n",
       "      <td>0.710951</td>\n",
       "      <td>1.000000</td>\n",
       "      <td>0.177629</td>\n",
       "      <td>0.911777</td>\n",
       "    </tr>\n",
       "    <tr>\n",
       "      <th>UP_total_quantity</th>\n",
       "      <td>6.008667e-02</td>\n",
       "      <td>5.022152e-02</td>\n",
       "      <td>4.761589e-02</td>\n",
       "      <td>-2.518358e-02</td>\n",
       "      <td>2.148992e-03</td>\n",
       "      <td>2.035982e-02</td>\n",
       "      <td>1.176494e-02</td>\n",
       "      <td>1.067629e-01</td>\n",
       "      <td>9.802178e-02</td>\n",
       "      <td>1.553320e-02</td>\n",
       "      <td>...</td>\n",
       "      <td>-8.020625e-03</td>\n",
       "      <td>3.221779e-02</td>\n",
       "      <td>7.463929e-02</td>\n",
       "      <td>-6.522737e-03</td>\n",
       "      <td>5.241770e-02</td>\n",
       "      <td>2.912205e-02</td>\n",
       "      <td>0.324171</td>\n",
       "      <td>0.177629</td>\n",
       "      <td>1.000000</td>\n",
       "      <td>0.155958</td>\n",
       "    </tr>\n",
       "    <tr>\n",
       "      <th>UP_order_rate_since_first_order</th>\n",
       "      <td>1.273029e-02</td>\n",
       "      <td>5.329931e-02</td>\n",
       "      <td>8.171262e-02</td>\n",
       "      <td>-7.001639e-03</td>\n",
       "      <td>1.092831e-01</td>\n",
       "      <td>1.062855e-01</td>\n",
       "      <td>8.944576e-02</td>\n",
       "      <td>1.269978e-02</td>\n",
       "      <td>9.218072e-03</td>\n",
       "      <td>1.612836e-02</td>\n",
       "      <td>...</td>\n",
       "      <td>-5.507097e-03</td>\n",
       "      <td>1.146588e-01</td>\n",
       "      <td>1.457368e-01</td>\n",
       "      <td>-1.059679e-02</td>\n",
       "      <td>2.035530e-01</td>\n",
       "      <td>1.018172e-01</td>\n",
       "      <td>0.664302</td>\n",
       "      <td>0.911777</td>\n",
       "      <td>0.155958</td>\n",
       "      <td>1.000000</td>\n",
       "    </tr>\n",
       "  </tbody>\n",
       "</table>\n",
       "<p>23 rows × 23 columns</p>\n",
       "</div>"
      ],
      "text/plain": [
       "                                  user_total_orders  user_total_items  \\\n",
       "user_total_orders                      1.000000e+00      8.165736e-01   \n",
       "user_total_items                       8.165736e-01      1.000000e+00   \n",
       "total_distinct_items                   7.163151e-01      8.955118e-01   \n",
       "user_average_days_between_orders      -4.123759e-01     -2.732225e-01   \n",
       "user_order_size_mean                  -4.988595e-02      3.060607e-01   \n",
       "user_order_size_max                    1.660630e-01      4.781919e-01   \n",
       "user_order_size_std                    3.710501e-02      3.088256e-01   \n",
       "user_total_item_quantity               5.628045e-01      4.704022e-01   \n",
       "user_total_spent                       5.609762e-01      4.277149e-01   \n",
       "user_sum_days_between_orders           2.523834e-01      1.734223e-01   \n",
       "user_reorder_ratio                     3.261511e-01      2.162298e-01   \n",
       "order_hour_of_day                     -4.870814e-03      1.388998e-02   \n",
       "days_since_prior_order                -2.317275e-01     -1.547299e-01   \n",
       "days_since_ratio                      -1.020318e-01     -6.847880e-02   \n",
       "product_reorder_rate                  -1.965402e-16      1.215257e-17   \n",
       "product_total_quantity_sold           -5.785364e-18      3.497120e-18   \n",
       "product_avg_price                      1.907015e-19      2.930313e-19   \n",
       "prod_first_buy                        -2.453117e-17      1.747566e-17   \n",
       "prod_1reorder_ratio                    1.481277e-16      2.074457e-17   \n",
       "UP_orders                              2.004725e-01      2.455045e-01   \n",
       "UP_orders_ratio                        8.546322e-04      3.974448e-02   \n",
       "UP_total_quantity                      6.008667e-02      5.022152e-02   \n",
       "UP_order_rate_since_first_order        1.273029e-02      5.329931e-02   \n",
       "\n",
       "                                  total_distinct_items  \\\n",
       "user_total_orders                         7.163151e-01   \n",
       "user_total_items                          8.955118e-01   \n",
       "total_distinct_items                      1.000000e+00   \n",
       "user_average_days_between_orders         -2.733185e-01   \n",
       "user_order_size_mean                      5.280903e-01   \n",
       "user_order_size_max                       7.009819e-01   \n",
       "user_order_size_std                       5.285133e-01   \n",
       "user_total_item_quantity                  4.459964e-01   \n",
       "user_total_spent                          3.926141e-01   \n",
       "user_sum_days_between_orders              2.140155e-01   \n",
       "user_reorder_ratio                        9.052234e-02   \n",
       "order_hour_of_day                         1.894204e-02   \n",
       "days_since_prior_order                   -1.665958e-01   \n",
       "days_since_ratio                         -8.073580e-02   \n",
       "product_reorder_rate                      6.689366e-17   \n",
       "product_total_quantity_sold              -1.460419e-18   \n",
       "product_avg_price                         1.443753e-18   \n",
       "prod_first_buy                            3.246002e-18   \n",
       "prod_1reorder_ratio                      -2.591635e-17   \n",
       "UP_orders                                 2.198521e-01   \n",
       "UP_orders_ratio                           6.404727e-02   \n",
       "UP_total_quantity                         4.761589e-02   \n",
       "UP_order_rate_since_first_order           8.171262e-02   \n",
       "\n",
       "                                  user_average_days_between_orders  \\\n",
       "user_total_orders                                    -4.123759e-01   \n",
       "user_total_items                                     -2.732225e-01   \n",
       "total_distinct_items                                 -2.733185e-01   \n",
       "user_average_days_between_orders                      1.000000e+00   \n",
       "user_order_size_mean                                  9.653803e-02   \n",
       "user_order_size_max                                  -8.503534e-02   \n",
       "user_order_size_std                                  -3.887627e-02   \n",
       "user_total_item_quantity                             -2.358832e-01   \n",
       "user_total_spent                                     -2.386266e-01   \n",
       "user_sum_days_between_orders                          2.690539e-01   \n",
       "user_reorder_ratio                                   -3.802930e-01   \n",
       "order_hour_of_day                                     4.120785e-02   \n",
       "days_since_prior_order                                5.690200e-01   \n",
       "days_since_ratio                                      6.802189e-02   \n",
       "product_reorder_rate                                  9.603240e-19   \n",
       "product_total_quantity_sold                          -2.196534e-18   \n",
       "product_avg_price                                     2.671903e-18   \n",
       "prod_first_buy                                        3.554100e-18   \n",
       "prod_1reorder_ratio                                  -7.183409e-18   \n",
       "UP_orders                                            -6.707733e-02   \n",
       "UP_orders_ratio                                       2.859837e-03   \n",
       "UP_total_quantity                                    -2.518358e-02   \n",
       "UP_order_rate_since_first_order                      -7.001639e-03   \n",
       "\n",
       "                                  user_order_size_mean  user_order_size_max  \\\n",
       "user_total_orders                        -4.988595e-02         1.660630e-01   \n",
       "user_total_items                          3.060607e-01         4.781919e-01   \n",
       "total_distinct_items                      5.280903e-01         7.009819e-01   \n",
       "user_average_days_between_orders          9.653803e-02        -8.503534e-02   \n",
       "user_order_size_mean                      1.000000e+00         8.683878e-01   \n",
       "user_order_size_max                       8.683878e-01         1.000000e+00   \n",
       "user_order_size_std                       7.538228e-01         9.216621e-01   \n",
       "user_total_item_quantity                  2.012863e-02         1.907012e-01   \n",
       "user_total_spent                          2.023487e-03         1.573682e-01   \n",
       "user_sum_days_between_orders             -1.001512e-02         6.451858e-02   \n",
       "user_reorder_ratio                       -7.893478e-02        -3.224425e-02   \n",
       "order_hour_of_day                         3.167353e-02         3.113619e-02   \n",
       "days_since_prior_order                    4.829517e-02        -5.004755e-02   \n",
       "days_since_ratio                         -7.460674e-03        -2.253865e-02   \n",
       "product_reorder_rate                     -5.793121e-18         1.122269e-16   \n",
       "product_total_quantity_sold              -1.659724e-18        -8.134907e-18   \n",
       "product_avg_price                         2.982399e-18        -6.380486e-19   \n",
       "prod_first_buy                           -2.843699e-18         9.865983e-18   \n",
       "prod_1reorder_ratio                       5.806308e-18         9.641773e-18   \n",
       "UP_orders                                 7.513927e-02         1.173983e-01   \n",
       "UP_orders_ratio                           1.074487e-01         9.674380e-02   \n",
       "UP_total_quantity                         2.148992e-03         2.035982e-02   \n",
       "UP_order_rate_since_first_order           1.092831e-01         1.062855e-01   \n",
       "\n",
       "                                  user_order_size_std  \\\n",
       "user_total_orders                        3.710501e-02   \n",
       "user_total_items                         3.088256e-01   \n",
       "total_distinct_items                     5.285133e-01   \n",
       "user_average_days_between_orders        -3.887627e-02   \n",
       "user_order_size_mean                     7.538228e-01   \n",
       "user_order_size_max                      9.216621e-01   \n",
       "user_order_size_std                      1.000000e+00   \n",
       "user_total_item_quantity                 1.101968e-01   \n",
       "user_total_spent                         8.653384e-02   \n",
       "user_sum_days_between_orders            -2.079162e-02   \n",
       "user_reorder_ratio                      -1.083718e-01   \n",
       "order_hour_of_day                        3.715385e-02   \n",
       "days_since_prior_order                  -1.478618e-02   \n",
       "days_since_ratio                        -1.517372e-03   \n",
       "product_reorder_rate                     7.757880e-17   \n",
       "product_total_quantity_sold             -6.796925e-18   \n",
       "product_avg_price                        3.295155e-18   \n",
       "prod_first_buy                           1.507652e-17   \n",
       "prod_1reorder_ratio                     -1.649386e-17   \n",
       "UP_orders                                7.581807e-02   \n",
       "UP_orders_ratio                          8.281811e-02   \n",
       "UP_total_quantity                        1.176494e-02   \n",
       "UP_order_rate_since_first_order          8.944576e-02   \n",
       "\n",
       "                                  user_total_item_quantity  user_total_spent  \\\n",
       "user_total_orders                             5.628045e-01      5.609762e-01   \n",
       "user_total_items                              4.704022e-01      4.277149e-01   \n",
       "total_distinct_items                          4.459964e-01      3.926141e-01   \n",
       "user_average_days_between_orders             -2.358832e-01     -2.386266e-01   \n",
       "user_order_size_mean                          2.012863e-02      2.023487e-03   \n",
       "user_order_size_max                           1.907012e-01      1.573682e-01   \n",
       "user_order_size_std                           1.101968e-01      8.653384e-02   \n",
       "user_total_item_quantity                      1.000000e+00      9.181255e-01   \n",
       "user_total_spent                              9.181255e-01      1.000000e+00   \n",
       "user_sum_days_between_orders                  1.454924e-01      1.547752e-01   \n",
       "user_reorder_ratio                            2.144581e-01      2.156230e-01   \n",
       "order_hour_of_day                            -2.984752e-02     -2.319995e-02   \n",
       "days_since_prior_order                       -1.333108e-01     -1.341529e-01   \n",
       "days_since_ratio                             -7.512556e-02     -7.937641e-02   \n",
       "product_reorder_rate                          7.364634e-18     -3.061170e-17   \n",
       "product_total_quantity_sold                   5.195445e-18     -7.924042e-19   \n",
       "product_avg_price                             1.311386e-18     -2.645946e-18   \n",
       "prod_first_buy                               -1.381355e-17     -1.886388e-17   \n",
       "prod_1reorder_ratio                           1.261048e-17     -1.438819e-17   \n",
       "UP_orders                                     1.154858e-01      1.050059e-01   \n",
       "UP_orders_ratio                               5.917853e-03      3.701486e-03   \n",
       "UP_total_quantity                             1.067629e-01      9.802178e-02   \n",
       "UP_order_rate_since_first_order               1.269978e-02      9.218072e-03   \n",
       "\n",
       "                                  user_sum_days_between_orders  \\\n",
       "user_total_orders                                 2.523834e-01   \n",
       "user_total_items                                  1.734223e-01   \n",
       "total_distinct_items                              2.140155e-01   \n",
       "user_average_days_between_orders                  2.690539e-01   \n",
       "user_order_size_mean                             -1.001512e-02   \n",
       "user_order_size_max                               6.451858e-02   \n",
       "user_order_size_std                              -2.079162e-02   \n",
       "user_total_item_quantity                          1.454924e-01   \n",
       "user_total_spent                                  1.547752e-01   \n",
       "user_sum_days_between_orders                      1.000000e+00   \n",
       "user_reorder_ratio                                1.105951e-01   \n",
       "order_hour_of_day                                 3.242748e-02   \n",
       "days_since_prior_order                            8.108706e-02   \n",
       "days_since_ratio                                 -1.380487e-01   \n",
       "product_reorder_rate                              6.265815e-17   \n",
       "product_total_quantity_sold                       2.060714e-18   \n",
       "product_avg_price                                -2.631253e-19   \n",
       "prod_first_buy                                    1.659722e-17   \n",
       "prod_1reorder_ratio                               2.595913e-17   \n",
       "UP_orders                                         4.257595e-02   \n",
       "UP_orders_ratio                                   4.252486e-03   \n",
       "UP_total_quantity                                 1.553320e-02   \n",
       "UP_order_rate_since_first_order                   1.612836e-02   \n",
       "\n",
       "                                               ...                 \\\n",
       "user_total_orders                              ...                  \n",
       "user_total_items                               ...                  \n",
       "total_distinct_items                           ...                  \n",
       "user_average_days_between_orders               ...                  \n",
       "user_order_size_mean                           ...                  \n",
       "user_order_size_max                            ...                  \n",
       "user_order_size_std                            ...                  \n",
       "user_total_item_quantity                       ...                  \n",
       "user_total_spent                               ...                  \n",
       "user_sum_days_between_orders                   ...                  \n",
       "user_reorder_ratio                             ...                  \n",
       "order_hour_of_day                              ...                  \n",
       "days_since_prior_order                         ...                  \n",
       "days_since_ratio                               ...                  \n",
       "product_reorder_rate                           ...                  \n",
       "product_total_quantity_sold                    ...                  \n",
       "product_avg_price                              ...                  \n",
       "prod_first_buy                                 ...                  \n",
       "prod_1reorder_ratio                            ...                  \n",
       "UP_orders                                      ...                  \n",
       "UP_orders_ratio                                ...                  \n",
       "UP_total_quantity                              ...                  \n",
       "UP_order_rate_since_first_order                ...                  \n",
       "\n",
       "                                  days_since_ratio  product_reorder_rate  \\\n",
       "user_total_orders                    -1.020318e-01         -1.965402e-16   \n",
       "user_total_items                     -6.847880e-02          1.215257e-17   \n",
       "total_distinct_items                 -8.073580e-02          6.689366e-17   \n",
       "user_average_days_between_orders      6.802189e-02          9.603240e-19   \n",
       "user_order_size_mean                 -7.460674e-03         -5.793121e-18   \n",
       "user_order_size_max                  -2.253865e-02          1.122269e-16   \n",
       "user_order_size_std                  -1.517372e-03          7.757880e-17   \n",
       "user_total_item_quantity             -7.512556e-02          7.364634e-18   \n",
       "user_total_spent                     -7.937641e-02         -3.061170e-17   \n",
       "user_sum_days_between_orders         -1.380487e-01          6.265815e-17   \n",
       "user_reorder_ratio                   -2.486770e-02         -6.408540e-17   \n",
       "order_hour_of_day                    -2.046899e-02          1.427991e-17   \n",
       "days_since_prior_order                7.368666e-01         -1.689168e-17   \n",
       "days_since_ratio                      1.000000e+00          8.279976e-17   \n",
       "product_reorder_rate                  8.279976e-17          1.000000e+00   \n",
       "product_total_quantity_sold           1.489171e-18          4.191358e-01   \n",
       "product_avg_price                    -4.626312e-18         -6.875855e-02   \n",
       "prod_first_buy                       -1.006647e-16          5.796978e-01   \n",
       "prod_1reorder_ratio                  -1.310789e-16          8.988515e-01   \n",
       "UP_orders                            -1.681185e-02          1.150553e-01   \n",
       "UP_orders_ratio                      -2.347100e-03          1.228387e-01   \n",
       "UP_total_quantity                    -8.020625e-03          3.221779e-02   \n",
       "UP_order_rate_since_first_order      -5.507097e-03          1.146588e-01   \n",
       "\n",
       "                                  product_total_quantity_sold  \\\n",
       "user_total_orders                               -5.785364e-18   \n",
       "user_total_items                                 3.497120e-18   \n",
       "total_distinct_items                            -1.460419e-18   \n",
       "user_average_days_between_orders                -2.196534e-18   \n",
       "user_order_size_mean                            -1.659724e-18   \n",
       "user_order_size_max                             -8.134907e-18   \n",
       "user_order_size_std                             -6.796925e-18   \n",
       "user_total_item_quantity                         5.195445e-18   \n",
       "user_total_spent                                -7.924042e-19   \n",
       "user_sum_days_between_orders                     2.060714e-18   \n",
       "user_reorder_ratio                              -1.172233e-17   \n",
       "order_hour_of_day                               -3.906982e-17   \n",
       "days_since_prior_order                           2.863128e-18   \n",
       "days_since_ratio                                 1.489171e-18   \n",
       "product_reorder_rate                             4.191358e-01   \n",
       "product_total_quantity_sold                      1.000000e+00   \n",
       "product_avg_price                               -8.732519e-02   \n",
       "prod_first_buy                                   6.787886e-01   \n",
       "prod_1reorder_ratio                              3.795276e-01   \n",
       "UP_orders                                        1.420702e-01   \n",
       "UP_orders_ratio                                  1.583695e-01   \n",
       "UP_total_quantity                                7.463929e-02   \n",
       "UP_order_rate_since_first_order                  1.457368e-01   \n",
       "\n",
       "                                  product_avg_price  prod_first_buy  \\\n",
       "user_total_orders                      1.907015e-19   -2.453117e-17   \n",
       "user_total_items                       2.930313e-19    1.747566e-17   \n",
       "total_distinct_items                   1.443753e-18    3.246002e-18   \n",
       "user_average_days_between_orders       2.671903e-18    3.554100e-18   \n",
       "user_order_size_mean                   2.982399e-18   -2.843699e-18   \n",
       "user_order_size_max                   -6.380486e-19    9.865983e-18   \n",
       "user_order_size_std                    3.295155e-18    1.507652e-17   \n",
       "user_total_item_quantity               1.311386e-18   -1.381355e-17   \n",
       "user_total_spent                      -2.645946e-18   -1.886388e-17   \n",
       "user_sum_days_between_orders          -2.631253e-19    1.659722e-17   \n",
       "user_reorder_ratio                    -3.922376e-18    8.335906e-17   \n",
       "order_hour_of_day                      8.909364e-18    9.331161e-17   \n",
       "days_since_prior_order                 1.867932e-17   -4.356758e-17   \n",
       "days_since_ratio                      -4.626312e-18   -1.006647e-16   \n",
       "product_reorder_rate                  -6.875855e-02    5.796978e-01   \n",
       "product_total_quantity_sold           -8.732519e-02    6.787886e-01   \n",
       "product_avg_price                      1.000000e+00   -5.587667e-02   \n",
       "prod_first_buy                        -5.587667e-02    1.000000e+00   \n",
       "prod_1reorder_ratio                   -5.017860e-02    5.047923e-01   \n",
       "UP_orders                             -8.766088e-03    1.868138e-01   \n",
       "UP_orders_ratio                       -9.654414e-03    2.113901e-01   \n",
       "UP_total_quantity                     -6.522737e-03    5.241770e-02   \n",
       "UP_order_rate_since_first_order       -1.059679e-02    2.035530e-01   \n",
       "\n",
       "                                  prod_1reorder_ratio  UP_orders  \\\n",
       "user_total_orders                        1.481277e-16   0.200472   \n",
       "user_total_items                         2.074457e-17   0.245504   \n",
       "total_distinct_items                    -2.591635e-17   0.219852   \n",
       "user_average_days_between_orders        -7.183409e-18  -0.067077   \n",
       "user_order_size_mean                     5.806308e-18   0.075139   \n",
       "user_order_size_max                      9.641773e-18   0.117398   \n",
       "user_order_size_std                     -1.649386e-17   0.075818   \n",
       "user_total_item_quantity                 1.261048e-17   0.115486   \n",
       "user_total_spent                        -1.438819e-17   0.105006   \n",
       "user_sum_days_between_orders             2.595913e-17   0.042576   \n",
       "user_reorder_ratio                       3.271750e-17   0.053085   \n",
       "order_hour_of_day                       -4.344383e-17   0.003410   \n",
       "days_since_prior_order                  -2.703641e-17  -0.037987   \n",
       "days_since_ratio                        -1.310789e-16  -0.016812   \n",
       "product_reorder_rate                     8.988515e-01   0.115055   \n",
       "product_total_quantity_sold              3.795276e-01   0.142070   \n",
       "product_avg_price                       -5.017860e-02  -0.008766   \n",
       "prod_first_buy                           5.047923e-01   0.186814   \n",
       "prod_1reorder_ratio                      1.000000e+00   0.102277   \n",
       "UP_orders                                1.022769e-01   1.000000   \n",
       "UP_orders_ratio                          1.106753e-01   0.710951   \n",
       "UP_total_quantity                        2.912205e-02   0.324171   \n",
       "UP_order_rate_since_first_order          1.018172e-01   0.664302   \n",
       "\n",
       "                                  UP_orders_ratio  UP_total_quantity  \\\n",
       "user_total_orders                        0.000855           0.060087   \n",
       "user_total_items                         0.039744           0.050222   \n",
       "total_distinct_items                     0.064047           0.047616   \n",
       "user_average_days_between_orders         0.002860          -0.025184   \n",
       "user_order_size_mean                     0.107449           0.002149   \n",
       "user_order_size_max                      0.096744           0.020360   \n",
       "user_order_size_std                      0.082818           0.011765   \n",
       "user_total_item_quantity                 0.005918           0.106763   \n",
       "user_total_spent                         0.003701           0.098022   \n",
       "user_sum_days_between_orders             0.004252           0.015533   \n",
       "user_reorder_ratio                      -0.003791           0.022896   \n",
       "order_hour_of_day                        0.003175          -0.003187   \n",
       "days_since_prior_order                   0.000349          -0.014233   \n",
       "days_since_ratio                        -0.002347          -0.008021   \n",
       "product_reorder_rate                     0.122839           0.032218   \n",
       "product_total_quantity_sold              0.158369           0.074639   \n",
       "product_avg_price                       -0.009654          -0.006523   \n",
       "prod_first_buy                           0.211390           0.052418   \n",
       "prod_1reorder_ratio                      0.110675           0.029122   \n",
       "UP_orders                                0.710951           0.324171   \n",
       "UP_orders_ratio                          1.000000           0.177629   \n",
       "UP_total_quantity                        0.177629           1.000000   \n",
       "UP_order_rate_since_first_order          0.911777           0.155958   \n",
       "\n",
       "                                  UP_order_rate_since_first_order  \n",
       "user_total_orders                                        0.012730  \n",
       "user_total_items                                         0.053299  \n",
       "total_distinct_items                                     0.081713  \n",
       "user_average_days_between_orders                        -0.007002  \n",
       "user_order_size_mean                                     0.109283  \n",
       "user_order_size_max                                      0.106285  \n",
       "user_order_size_std                                      0.089446  \n",
       "user_total_item_quantity                                 0.012700  \n",
       "user_total_spent                                         0.009218  \n",
       "user_sum_days_between_orders                             0.016128  \n",
       "user_reorder_ratio                                      -0.005327  \n",
       "order_hour_of_day                                        0.004020  \n",
       "days_since_prior_order                                  -0.007008  \n",
       "days_since_ratio                                        -0.005507  \n",
       "product_reorder_rate                                     0.114659  \n",
       "product_total_quantity_sold                              0.145737  \n",
       "product_avg_price                                       -0.010597  \n",
       "prod_first_buy                                           0.203553  \n",
       "prod_1reorder_ratio                                      0.101817  \n",
       "UP_orders                                                0.664302  \n",
       "UP_orders_ratio                                          0.911777  \n",
       "UP_total_quantity                                        0.155958  \n",
       "UP_order_rate_since_first_order                          1.000000  \n",
       "\n",
       "[23 rows x 23 columns]"
      ]
     },
     "execution_count": 14,
     "metadata": {},
     "output_type": "execute_result"
    }
   ],
   "source": [
    "corr"
   ]
  },
  {
   "cell_type": "code",
   "execution_count": 4,
   "metadata": {},
   "outputs": [
    {
     "data": {
      "text/plain": [
       "<matplotlib.axes._subplots.AxesSubplot at 0x7ff35c108ef0>"
      ]
     },
     "execution_count": 4,
     "metadata": {},
     "output_type": "execute_result"
    },
    {
     "data": {
      "image/png": "[encoded data removed]",
      "text/plain": [
       "<matplotlib.figure.Figure at 0x7ff35c1085f8>"
      ]
     },
     "metadata": {},
     "output_type": "display_data"
    }
   ],
   "source": [
    "sns.heatmap(corr)"
   ]
  },
  {
   "cell_type": "code",
   "execution_count": 5,
   "metadata": {
    "collapsed": true
   },
   "outputs": [],
   "source": [
    "# train / val split\n",
    "unique_users = df.user_id.unique()\n",
    "np.random.shuffle(unique_users)\n",
    "sp = int(len(unique_users)*0.8)\n",
    "train_users = unique_users[:sp]\n",
    "val_users = unique_users[sp:]\n",
    "df_train = df[df.user_id.isin(train_users)]\n",
    "df_val = df[df.user_id.isin(val_users)]"
   ]
  },
  {
   "cell_type": "markdown",
   "metadata": {},
   "source": [
    "### basic logistical regression model"
   ]
  },
  {
   "cell_type": "code",
   "execution_count": 89,
   "metadata": {},
   "outputs": [
    {
     "name": "stdout",
     "output_type": "stream",
     "text": [
      "CPU times: user 1min 2s, sys: 264 ms, total: 1min 3s\n",
      "Wall time: 1min 2s\n"
     ]
    }
   ],
   "source": [
    "%%time\n",
    "lgr = LogisticRegression(random_state=42,n_jobs=-1,C=100).fit(df_train[f_to_use4],df_train['labels'].values)\n",
    "val_pred_lgr = lgr.predict_proba(df_val[f_to_use4])[:,1]"
   ]
  },
  {
   "cell_type": "code",
   "execution_count": 91,
   "metadata": {},
   "outputs": [
    {
     "name": "stdout",
     "output_type": "stream",
     "text": [
      "0.01 0.14828840153\n",
      "0.1 0.146495709783\n",
      "1 0.146057243031\n",
      "10 0.146837420958\n",
      "100 0.148087583855\n"
     ]
    }
   ],
   "source": [
    "for c in [0.01,0.1,1,10,100]:\n",
    "    lgr = LogisticRegression(random_state=42,n_jobs=-1,C=c).fit(df_train[f_to_use4],df_train['labels'].values)\n",
    "    val_pred_lgr = lgr.predict_proba(df_val[f_to_use4])[:,1]\n",
    "    print (c,avg_f1_score(df_val,val_pred_lgr))"
   ]
  },
  {
   "cell_type": "code",
   "execution_count": 92,
   "metadata": {},
   "outputs": [
    {
     "name": "stdout",
     "output_type": "stream",
     "text": [
      "0.001 0.145389106499\n",
      "1000 0.147148270372\n"
     ]
    }
   ],
   "source": [
    "for c in [0.001,1000]:\n",
    "    lgr = LogisticRegression(random_state=42,n_jobs=-1,C=c).fit(df_train[f_to_use4],df_train['labels'].values)\n",
    "    val_pred_lgr = lgr.predict_proba(df_val[f_to_use4])[:,1]\n",
    "    print (c,avg_f1_score(df_val,val_pred_lgr))"
   ]
  },
  {
   "cell_type": "code",
   "execution_count": 90,
   "metadata": {},
   "outputs": [
    {
     "data": {
      "text/plain": [
       "0.14649570978258367"
      ]
     },
     "execution_count": 90,
     "metadata": {},
     "output_type": "execute_result"
    }
   ],
   "source": [
    "avg_f1_score(df_val,val_pred_lgr)"
   ]
  },
  {
   "cell_type": "code",
   "execution_count": 82,
   "metadata": {},
   "outputs": [
    {
     "data": {
      "text/plain": [
       "0.82624484752724636"
      ]
     },
     "execution_count": 82,
     "metadata": {},
     "output_type": "execute_result"
    }
   ],
   "source": [
    "auc_score(df_val,val_pred_lgr)"
   ]
  },
  {
   "cell_type": "markdown",
   "metadata": {},
   "source": [
    "### basic lgb model"
   ]
  },
  {
   "cell_type": "code",
   "execution_count": 95,
   "metadata": {},
   "outputs": [
    {
     "name": "stdout",
     "output_type": "stream",
     "text": [
      "CPU times: user 2min 5s, sys: 412 ms, total: 2min 5s\n",
      "Wall time: 16.4 s\n"
     ]
    }
   ],
   "source": [
    "%%time\n",
    "d_train = lgb.Dataset(df_train[f_to_use2],label=df_train['labels'].values)\n",
    "\n",
    "params = {\n",
    "    'task': 'train',\n",
    "    'boosting_type': 'gbdt',\n",
    "    'objective': 'binary',\n",
    "    'metric': {'binary_logloss'},\n",
    "    'num_leaves': 128,\n",
    "    'max_depth': 8,\n",
    "    'feature_fraction': 0.9,\n",
    "    'bagging_fraction': 0.95,\n",
    "    'bagging_freq': 5,\n",
    "    'learning_rate': 0.053,\n",
    "    # 'scale_pos_weight': 2\n",
    "}\n",
    "\n",
    "ROUNDS = 100\n",
    "bst = lgb.train(params, d_train, ROUNDS)\n",
    "\n",
    "val_pred_lgb = bst.predict(df_val[f_to_use2])"
   ]
  },
  {
   "cell_type": "code",
   "execution_count": 96,
   "metadata": {},
   "outputs": [
    {
     "data": {
      "text/plain": [
       "0.20787485754632395"
      ]
     },
     "execution_count": 96,
     "metadata": {},
     "output_type": "execute_result"
    }
   ],
   "source": [
    "avg_f1_score(df_val,val_pred_lgb)"
   ]
  },
  {
   "cell_type": "code",
   "execution_count": 27,
   "metadata": {},
   "outputs": [
    {
     "data": {
      "text/plain": [
       "0.88727561285789924"
      ]
     },
     "execution_count": 27,
     "metadata": {},
     "output_type": "execute_result"
    }
   ],
   "source": [
    "auc_score(df_val,val_pred_lgb)"
   ]
  },
  {
   "cell_type": "code",
   "execution_count": 75,
   "metadata": {},
   "outputs": [
    {
     "name": "stdout",
     "output_type": "stream",
     "text": [
      "10\n",
      "20\n",
      "0.215022120662 0.11\n"
     ]
    }
   ],
   "source": [
    "best_score = -1\n",
    "best_param = None\n",
    "count = 0\n",
    "for thres in np.linspace(0.01,0.2,20):\n",
    "    count += 1\n",
    "    if count % 10 == 0:\n",
    "        print (count)\n",
    "    score = avg_f1_score(df_val,val_pred_lgb,thres=thres)\n",
    "    if score > best_score:\n",
    "        best_score = score\n",
    "        best_param = thres\n",
    "print (best_score,best_param)"
   ]
  },
  {
   "cell_type": "code",
   "execution_count": 76,
   "metadata": {},
   "outputs": [
    {
     "data": {
      "text/plain": [
       "<matplotlib.axes._subplots.AxesSubplot at 0x7ff7726f3b00>"
      ]
     },
     "execution_count": 76,
     "metadata": {},
     "output_type": "execute_result"
    },
    {
     "data": {
      "image/png": "[encoded data removed]",
      "text/plain": [
       "<matplotlib.figure.Figure at 0x7ff7726f3a58>"
      ]
     },
     "metadata": {},
     "output_type": "display_data"
    }
   ],
   "source": [
    "lgb.plot_importance(bst, figsize=(9,20))"
   ]
  },
  {
   "cell_type": "code",
   "execution_count": 40,
   "metadata": {},
   "outputs": [
    {
     "data": {
      "text/plain": [
       "array([ 0.021,  0.022,  0.023,  0.024,  0.025,  0.026,  0.027,  0.028,\n",
       "        0.029])"
      ]
     },
     "execution_count": 40,
     "metadata": {},
     "output_type": "execute_result"
    }
   ],
   "source": [
    "np.linspace(0.021,0.029,9)"
   ]
  },
  {
   "cell_type": "code",
   "execution_count": 48,
   "metadata": {
    "collapsed": true
   },
   "outputs": [],
   "source": [
    "def lgb_lr(rang):\n",
    "    best_score = -1\n",
    "    best_param = None\n",
    "    for lr in rang:\n",
    "        d_train = lgb.Dataset(df_train[f_to_use2],label=df_train['labels'].values)\n",
    "\n",
    "        params = {\n",
    "            'task': 'train',\n",
    "            'boosting_type': 'gbdt',\n",
    "            'objective': 'binary',\n",
    "            'metric': {'binary_logloss'},\n",
    "            'num_leaves': 128,\n",
    "            'max_depth': 8,\n",
    "            'feature_fraction': 0.9,\n",
    "            'bagging_fraction': 0.95,\n",
    "            'bagging_freq': 5,\n",
    "            'learning_rate': lr\n",
    "        }\n",
    "\n",
    "        ROUNDS = 100\n",
    "        bst = lgb.train(params, d_train, ROUNDS)\n",
    "\n",
    "        val_pred_lgb = bst.predict(df_val[f_to_use2])\n",
    "        score = avg_f1_score(df_val,val_pred_lgb)\n",
    "        print (score,lr)\n",
    "        if score > best_score:\n",
    "            best_score = score\n",
    "            best_param = lr\n",
    "    return best_param"
   ]
  },
  {
   "cell_type": "code",
   "execution_count": 37,
   "metadata": {},
   "outputs": [
    {
     "name": "stdout",
     "output_type": "stream",
     "text": [
      "0.208827634979 0.01\n",
      "0.21034462303 0.02\n",
      "0.211415235357 0.03\n",
      "0.209352628561 0.04\n",
      "0.212389011385 0.05\n",
      "0.21143050437 0.06\n",
      "0.211167497263 0.07\n",
      "0.209347484472 0.08\n",
      "0.209176190207 0.09\n",
      "0.203499893794 0.1\n"
     ]
    }
   ],
   "source": [
    "def lgb_lr(rang):\n",
    "    best_score = -1\n",
    "    best_param = None\n",
    "    for lr in np.linspace(0.01,0.1,10):\n",
    "        d_train = lgb.Dataset(df_train[f_to_use2],label=df_train['labels'].values)\n",
    "\n",
    "        params = {\n",
    "            'task': 'train',\n",
    "            'boosting_type': 'gbdt',\n",
    "            'objective': 'binary',\n",
    "            'metric': {'binary_logloss'},\n",
    "            'num_leaves': 128,\n",
    "            'max_depth': 8,\n",
    "            'feature_fraction': 0.9,\n",
    "            'bagging_fraction': 0.95,\n",
    "            'bagging_freq': 5,\n",
    "            'learning_rate': lr\n",
    "        }\n",
    "\n",
    "        ROUNDS = 100\n",
    "        bst = lgb.train(params, d_train, ROUNDS)\n",
    "\n",
    "        val_pred_lgb = bst.predict(df_val[f_to_use2])\n",
    "        score = avg_f1_score(df_val,val_pred_lgb)\n",
    "        print (score,lr)\n",
    "        if score > best_score:\n",
    "            best_score = score\n",
    "            best_param = lr\n",
    "        return "
   ]
  },
  {
   "cell_type": "code",
   "execution_count": 51,
   "metadata": {},
   "outputs": [
    {
     "name": "stdout",
     "output_type": "stream",
     "text": [
      "0.210084487223 0.021\n",
      "0.21130278877 0.022\n",
      "0.213112586536 0.023\n",
      "0.212837765525 0.024\n",
      "0.213594559672 0.025\n",
      "0.210505442668 0.026\n",
      "0.211579353846 0.027\n",
      "0.212650715562 0.028\n",
      "0.211754595134 0.029\n"
     ]
    },
    {
     "data": {
      "text/plain": [
       "0.025000000000000001"
      ]
     },
     "execution_count": 51,
     "metadata": {},
     "output_type": "execute_result"
    }
   ],
   "source": [
    "lgb_lr(np.linspace(0.021,0.029,9))"
   ]
  },
  {
   "cell_type": "code",
   "execution_count": 47,
   "metadata": {},
   "outputs": [
    {
     "name": "stdout",
     "output_type": "stream",
     "text": [
      "0.210197996769 0.051\n",
      "0.208986356882 0.052\n",
      "0.213967797468 0.053\n",
      "0.211963674216 0.054\n",
      "0.213757047258 0.055\n",
      "0.212378147281 0.056\n",
      "0.213835073349 0.057\n",
      "0.209104469583 0.058\n",
      "0.208560177219 0.059\n"
     ]
    },
    {
     "data": {
      "text/plain": [
       "0.058999999999999997"
      ]
     },
     "execution_count": 47,
     "metadata": {},
     "output_type": "execute_result"
    }
   ],
   "source": [
    "lgb_lr(np.linspace(0.051,0.059,9))"
   ]
  },
  {
   "cell_type": "code",
   "execution_count": 12,
   "metadata": {},
   "outputs": [
    {
     "name": "stdout",
     "output_type": "stream",
     "text": [
      "0.208987136235 64 6\n",
      "0.211743834309 64 8\n",
      "0.210504580805 64 10\n",
      "0.210896493458 64 12\n",
      "0.210375567581 64 14\n",
      "0.208987136235 96 6\n",
      "0.211962561654 96 8\n",
      "0.2108177173 96 10\n",
      "0.213182477478 96 12\n",
      "0.213236405966 96 14\n",
      "0.208987136235 128 6\n",
      "0.213594559672 128 8\n",
      "0.211911832653 128 10\n",
      "0.212359704765 128 12\n",
      "0.212797849677 128 14\n",
      "0.208987136235 160 6\n",
      "0.21276290466 160 8\n",
      "0.212864685098 160 10\n",
      "0.210859501892 160 12\n",
      "0.211624392853 160 14\n",
      "0.208987136235 196 6\n",
      "0.213307304962 196 8\n",
      "0.210294500302 196 10\n",
      "0.211438302925 196 12\n",
      "0.211889744837 196 14\n"
     ]
    }
   ],
   "source": [
    "best_score = -1\n",
    "best_param = None\n",
    "for num_leaves in [64,96,128,160,196]:\n",
    "    for max_depth in [6,8,10,12,14]:\n",
    "        d_train = lgb.Dataset(df_train[f_to_use2],label=df_train['labels'].values)\n",
    "\n",
    "        params = {\n",
    "            'task': 'train',\n",
    "            'boosting_type': 'gbdt',\n",
    "            'objective': 'binary',\n",
    "            'metric': {'binary_logloss'},\n",
    "            'num_leaves': num_leaves,\n",
    "            'max_depth': max_depth,\n",
    "            'feature_fraction': 0.9,\n",
    "            'bagging_fraction': 0.95,\n",
    "            'bagging_freq': 5,\n",
    "            'learning_rate': 0.025\n",
    "        }\n",
    "\n",
    "        ROUNDS = 100\n",
    "        bst = lgb.train(params, d_train, ROUNDS)\n",
    "\n",
    "        val_pred_lgb = bst.predict(df_val[f_to_use2])\n",
    "        score = avg_f1_score(df_val,val_pred_lgb)\n",
    "        print (score,num_leaves,max_depth)\n",
    "        if score > best_score:\n",
    "            best_score = score\n",
    "            best_param = (num_leaves,max_depth)"
   ]
  },
  {
   "cell_type": "code",
   "execution_count": 17,
   "metadata": {},
   "outputs": [
    {
     "data": {
      "text/plain": [
       "(128, 8)"
      ]
     },
     "execution_count": 17,
     "metadata": {},
     "output_type": "execute_result"
    }
   ],
   "source": [
    "best_param"
   ]
  },
  {
   "cell_type": "code",
   "execution_count": 16,
   "metadata": {},
   "outputs": [
    {
     "data": {
      "text/plain": [
       "0.006001189451779529"
      ]
     },
     "execution_count": 16,
     "metadata": {},
     "output_type": "execute_result"
    }
   ],
   "source": [
    "df_train['labels'].mean()"
   ]
  },
  {
   "cell_type": "markdown",
   "metadata": {},
   "source": [
    "### basic ramdom forest model"
   ]
  },
  {
   "cell_type": "code",
   "execution_count": 97,
   "metadata": {},
   "outputs": [
    {
     "name": "stdout",
     "output_type": "stream",
     "text": [
      "CPU times: user 7min 3s, sys: 1.8 s, total: 7min 5s\n",
      "Wall time: 55.8 s\n"
     ]
    }
   ],
   "source": [
    "%%time\n",
    "rfc = RandomForestClassifier(random_state = 42, n_estimators=100, max_depth = 5, n_jobs=-1).\\\n",
    "        fit(df_train[f_to_use2],df_train['labels'].values)\n",
    "val_pred_rf = rfc.predict_proba(df_val[f_to_use2])[:,1]"
   ]
  },
  {
   "cell_type": "code",
   "execution_count": 99,
   "metadata": {},
   "outputs": [
    {
     "name": "stdout",
     "output_type": "stream",
     "text": [
      "4 0.208605970876\n",
      "5 0.209893228298\n",
      "6 0.209071935053\n",
      "7 0.210982387178\n"
     ]
    }
   ],
   "source": [
    "for md in [4,5,6,7]:\n",
    "    rfc = RandomForestClassifier(random_state = 42, n_estimators=100, max_depth = md, n_jobs=-1).\\\n",
    "        fit(df_train[f_to_use2],df_train['labels'].values)\n",
    "    val_pred_rf = rfc.predict_proba(df_val[f_to_use2])[:,1]\n",
    "    print (md,avg_f1_score(df_val,val_pred_rf))"
   ]
  },
  {
   "cell_type": "code",
   "execution_count": 100,
   "metadata": {},
   "outputs": [
    {
     "name": "stdout",
     "output_type": "stream",
     "text": [
      "8 0.209757639791\n",
      "9 0.209564509079\n",
      "10 0.209667844146\n",
      "11 0.211559559915\n"
     ]
    }
   ],
   "source": [
    "for md in [8,9,10,11]:\n",
    "    rfc = RandomForestClassifier(random_state = 42, n_estimators=100, max_depth = md, n_jobs=-1).\\\n",
    "        fit(df_train[f_to_use2],df_train['labels'].values)\n",
    "    val_pred_rf = rfc.predict_proba(df_val[f_to_use2])[:,1]\n",
    "    print (md,avg_f1_score(df_val,val_pred_rf))"
   ]
  },
  {
   "cell_type": "code",
   "execution_count": 101,
   "metadata": {},
   "outputs": [
    {
     "name": "stdout",
     "output_type": "stream",
     "text": [
      "12 0.20894537722\n",
      "13 0.212293617041\n",
      "14 0.212749431555\n",
      "15 0.209896156822\n"
     ]
    }
   ],
   "source": [
    "for md in [12,13,14,15]:\n",
    "    rfc = RandomForestClassifier(random_state = 42, n_estimators=100, max_depth = md, n_jobs=-1).\\\n",
    "        fit(df_train[f_to_use2],df_train['labels'].values)\n",
    "    val_pred_rf = rfc.predict_proba(df_val[f_to_use2])[:,1]\n",
    "    print (md,avg_f1_score(df_val,val_pred_rf))"
   ]
  },
  {
   "cell_type": "code",
   "execution_count": 103,
   "metadata": {},
   "outputs": [
    {
     "name": "stdout",
     "output_type": "stream",
     "text": [
      "5 0.209184216551\n",
      "10 0.211014447251\n",
      "25 0.210297244794\n",
      "100 0.211680208049\n"
     ]
    }
   ],
   "source": [
    "for mss in [5,10,25,100]:\n",
    "    rfc = RandomForestClassifier(random_state = 42, n_estimators=100, \n",
    "                                 max_depth = 7, n_jobs=-1,min_samples_split=mss).\\\n",
    "        fit(df_train[f_to_use2],df_train['labels'].values)\n",
    "    val_pred_rf = rfc.predict_proba(df_val[f_to_use2])[:,1]\n",
    "    print (mss,avg_f1_score(df_val,val_pred_rf))"
   ]
  },
  {
   "cell_type": "code",
   "execution_count": 105,
   "metadata": {},
   "outputs": [
    {
     "name": "stdout",
     "output_type": "stream",
     "text": [
      "200 0.210405818794\n",
      "500 0.209972106493\n",
      "1000 0.209164700886\n",
      "2000 0.211289988911\n"
     ]
    }
   ],
   "source": [
    "for mss in [200,500,1000,2000]:\n",
    "    rfc = RandomForestClassifier(random_state = 42, n_estimators=100, \n",
    "                                 max_depth = 7, n_jobs=-1,min_samples_split=mss).\\\n",
    "        fit(df_train[f_to_use2],df_train['labels'].values)\n",
    "    val_pred_rf = rfc.predict_proba(df_val[f_to_use2])[:,1]\n",
    "    print (mss,avg_f1_score(df_val,val_pred_rf))"
   ]
  },
  {
   "cell_type": "code",
   "execution_count": 104,
   "metadata": {},
   "outputs": [
    {
     "data": {
      "text/plain": [
       "(3356168, 33)"
      ]
     },
     "execution_count": 104,
     "metadata": {},
     "output_type": "execute_result"
    }
   ],
   "source": [
    "df_train.shape"
   ]
  },
  {
   "cell_type": "code",
   "execution_count": 98,
   "metadata": {},
   "outputs": [
    {
     "data": {
      "text/plain": [
       "0.2098932282975392"
      ]
     },
     "execution_count": 98,
     "metadata": {},
     "output_type": "execute_result"
    }
   ],
   "source": [
    "avg_f1_score(df_val,val_pred_rf)"
   ]
  },
  {
   "cell_type": "code",
   "execution_count": 35,
   "metadata": {},
   "outputs": [
    {
     "data": {
      "text/plain": [
       "0.87819660754253048"
      ]
     },
     "execution_count": 35,
     "metadata": {},
     "output_type": "execute_result"
    }
   ],
   "source": [
    "auc_score(df_val,val_pred_rf)"
   ]
  },
  {
   "cell_type": "markdown",
   "metadata": {},
   "source": [
    "### basic xgb model"
   ]
  },
  {
   "cell_type": "code",
   "execution_count": 20,
   "metadata": {},
   "outputs": [
    {
     "name": "stdout",
     "output_type": "stream",
     "text": [
      "[0]\ttrain-logloss:0.600261\n",
      "[10]\ttrain-logloss:0.189662\n",
      "[20]\ttrain-logloss:0.079311\n",
      "[30]\ttrain-logloss:0.043712\n",
      "[40]\ttrain-logloss:0.031994\n",
      "[50]\ttrain-logloss:0.028181\n",
      "[60]\ttrain-logloss:0.026866\n",
      "[70]\ttrain-logloss:0.026348\n",
      "[80]\ttrain-logloss:0.026067\n",
      "[90]\ttrain-logloss:0.025836\n",
      "CPU times: user 16min 22s, sys: 1.97 s, total: 16min 24s\n",
      "Wall time: 2min 4s\n"
     ]
    }
   ],
   "source": [
    "%%time\n",
    "d_train = xgb.DMatrix(df_train[f_to_use2],label=df_train['labels'].values)\n",
    "\n",
    "xgb_params = {\n",
    "    \"objective\"         : \"reg:logistic\"\n",
    "    ,\"eval_metric\"      : \"logloss\"\n",
    "    ,\"eta\"              : 0.1\n",
    "    ,\"max_depth\"        : 6\n",
    "    ,\"min_child_weight\" :10\n",
    "    ,\"gamma\"            :0.70\n",
    "    ,\"subsample\"        :0.76\n",
    "    ,\"colsample_bytree\" :0.95\n",
    "    ,\"alpha\"            :2e-05\n",
    "    ,\"lambda\"           :10\n",
    "}\n",
    "ROUNDS = 100\n",
    "watchlist= [(d_train, \"train\")]\n",
    "bst = xgb.train(params=xgb_params, dtrain=d_train, num_boost_round=ROUNDS, evals=watchlist, verbose_eval=10)\n",
    "# xgboost.plot_importance(bst)\n",
    "val_pred_xgb = bst.predict(xgb.DMatrix(df_val[f_to_use2]))"
   ]
  },
  {
   "cell_type": "code",
   "execution_count": 106,
   "metadata": {},
   "outputs": [
    {
     "name": "stdout",
     "output_type": "stream",
     "text": [
      "6 0.209265352359\n",
      "7 0.214900017466\n",
      "8 0.214972036223\n",
      "9 0.21255375745\n",
      "10 0.213939004322\n"
     ]
    }
   ],
   "source": [
    "for md in [6,7,8,9,10]:\n",
    "    d_train = xgb.DMatrix(df_train[f_to_use2],label=df_train['labels'].values)\n",
    "\n",
    "    xgb_params = {\n",
    "        \"objective\"         : \"reg:logistic\"\n",
    "        ,\"eval_metric\"      : \"logloss\"\n",
    "        ,\"eta\"              : 0.1\n",
    "        ,\"max_depth\"        : md\n",
    "        ,\"min_child_weight\" :10\n",
    "        ,\"gamma\"            :0.70\n",
    "        ,\"subsample\"        :0.76\n",
    "        ,\"colsample_bytree\" :0.95\n",
    "        ,\"alpha\"            :2e-05\n",
    "        ,\"lambda\"           :10\n",
    "    }\n",
    "    ROUNDS = 100\n",
    "    bst = xgb.train(params=xgb_params, dtrain=d_train, num_boost_round=ROUNDS)\n",
    "    val_pred_xgb = bst.predict(xgb.DMatrix(df_val[f_to_use2]))\n",
    "    print (md,avg_f1_score(df_val,val_pred_xgb))"
   ]
  },
  {
   "cell_type": "code",
   "execution_count": 7,
   "metadata": {},
   "outputs": [
    {
     "name": "stdout",
     "output_type": "stream",
     "text": [
      "0.25 0.214949523102\n",
      "0.5 0.203288509629\n",
      "0.75 0.184216194004\n"
     ]
    }
   ],
   "source": [
    "for eta in [0.25,0.5,0.75]:\n",
    "    d_train = xgb.DMatrix(df_train[f_to_use2],label=df_train['labels'].values)\n",
    "\n",
    "    xgb_params = {\n",
    "        \"objective\"         : \"reg:logistic\"\n",
    "        ,\"eval_metric\"      : \"logloss\"\n",
    "        ,\"eta\"              : eta\n",
    "        ,\"max_depth\"        : 7\n",
    "        ,\"min_child_weight\" :10\n",
    "        ,\"gamma\"            :0.70\n",
    "        ,\"subsample\"        :0.76\n",
    "        ,\"colsample_bytree\" :0.95\n",
    "        ,\"alpha\"            :2e-05\n",
    "        ,\"lambda\"           :10\n",
    "    }\n",
    "    ROUNDS = 100\n",
    "    bst = xgb.train(params=xgb_params, dtrain=d_train, num_boost_round=ROUNDS)\n",
    "    val_pred_xgb = bst.predict(xgb.DMatrix(df_val[f_to_use2]))\n",
    "    print (eta,avg_f1_score(df_val,val_pred_xgb))"
   ]
  },
  {
   "cell_type": "code",
   "execution_count": 14,
   "metadata": {},
   "outputs": [
    {
     "name": "stdout",
     "output_type": "stream",
     "text": [
      "2e-06 0.214900017466\n",
      "0.0002 0.214900017466\n"
     ]
    }
   ],
   "source": [
    "for p in [2e-06,2e-04]:\n",
    "    d_train = xgb.DMatrix(df_train[f_to_use2],label=df_train['labels'].values)\n",
    "\n",
    "    xgb_params = {\n",
    "        \"objective\"         : \"reg:logistic\"\n",
    "        ,\"eval_metric\"      : \"logloss\"\n",
    "        ,\"eta\"              : 0.1\n",
    "        ,\"max_depth\"        : 7\n",
    "        ,\"min_child_weight\" :10\n",
    "        ,\"gamma\"            :0.7\n",
    "        ,\"subsample\"        :0.76\n",
    "        ,\"colsample_bytree\" :0.95\n",
    "        ,\"alpha\"            :p\n",
    "        ,\"lambda\"           :10\n",
    "    }\n",
    "    ROUNDS = 100\n",
    "    bst = xgb.train(params=xgb_params, dtrain=d_train, num_boost_round=ROUNDS)\n",
    "    val_pred_xgb = bst.predict(xgb.DMatrix(df_val[f_to_use2]))\n",
    "    print (p,avg_f1_score(df_val,val_pred_xgb))"
   ]
  },
  {
   "cell_type": "code",
   "execution_count": 28,
   "metadata": {},
   "outputs": [
    {
     "data": {
      "text/plain": [
       "0.20926535235940641"
      ]
     },
     "execution_count": 28,
     "metadata": {},
     "output_type": "execute_result"
    }
   ],
   "source": [
    "avg_f1_score(df_val,val_pred_xgb)"
   ]
  },
  {
   "cell_type": "code",
   "execution_count": 22,
   "metadata": {},
   "outputs": [
    {
     "data": {
      "text/plain": [
       "0.8910738594257438"
      ]
     },
     "execution_count": 22,
     "metadata": {},
     "output_type": "execute_result"
    }
   ],
   "source": [
    "auc_score(df_val,val_pred_xgb)"
   ]
  },
  {
   "cell_type": "code",
   "execution_count": 18,
   "metadata": {},
   "outputs": [
    {
     "data": {
      "text/plain": [
       "<matplotlib.axes._subplots.AxesSubplot at 0x7ff30e28cda0>"
      ]
     },
     "execution_count": 18,
     "metadata": {},
     "output_type": "execute_result"
    },
    {
     "data": {
      "image/png": "[encoded data removed]",
      "text/plain": [
       "<matplotlib.figure.Figure at 0x7ff30e4b1fd0>"
      ]
     },
     "metadata": {},
     "output_type": "display_data"
    }
   ],
   "source": [
    "xgb.plot_importance(bst)"
   ]
  },
  {
   "cell_type": "code",
   "execution_count": 45,
   "metadata": {},
   "outputs": [
    {
     "data": {
      "text/plain": [
       "0.21363914123624578"
      ]
     },
     "execution_count": 45,
     "metadata": {},
     "output_type": "execute_result"
    }
   ],
   "source": [
    "avg_f1_score(df_val,.3*val_pred_xgb+.3*val_pred_lgb+.3*val_pred_rf+.1*val_pred_lgr)"
   ]
  },
  {
   "cell_type": "code",
   "execution_count": 82,
   "metadata": {},
   "outputs": [
    {
     "data": {
      "text/plain": [
       "array([ 0.5,  0.6,  0.7,  0.8,  0.9,  1. ,  1.1,  1.2,  1.3,  1.4,  1.5,\n",
       "        1.6,  1.7,  1.8,  1.9,  2. ,  2.1,  2.2,  2.3,  2.4,  2.5])"
      ]
     },
     "execution_count": 82,
     "metadata": {},
     "output_type": "execute_result"
    }
   ],
   "source": [
    "np.linspace(0.5,2.5,21)"
   ]
  },
  {
   "cell_type": "code",
   "execution_count": 29,
   "metadata": {},
   "outputs": [
    {
     "name": "stdout",
     "output_type": "stream",
     "text": [
      "10\n",
      "20\n",
      "0.213244858178 0.07\n"
     ]
    }
   ],
   "source": [
    "best_score = -1\n",
    "best_param = None\n",
    "count = 0\n",
    "for thres in np.linspace(0.01,0.2,20):\n",
    "    count += 1\n",
    "    if count % 10 == 0:\n",
    "        print (count)\n",
    "    score = avg_f1_score(df_val,val_pred_xgb,thres=thres)\n",
    "    if score > best_score:\n",
    "        best_score = score\n",
    "        best_param = thres\n",
    "print (best_score,best_param)"
   ]
  },
  {
   "cell_type": "markdown",
   "metadata": {},
   "source": [
    "# Group K Fold CV"
   ]
  },
  {
   "cell_type": "code",
   "execution_count": 53,
   "metadata": {
    "collapsed": true
   },
   "outputs": [],
   "source": [
    "def group_kfold_cv(model = LogisticRegression(random_state=42,n_jobs=-1),f_to_use = f_to_use3):\n",
    "    group_kfold = GroupKFold(n_splits=4)\n",
    "    avg_f1_score_list = []\n",
    "    auc_score_list = []\n",
    "    i = 0\n",
    "    df_shuffle = df.sample(frac=1,random_state=43).reset_index(drop=True)\n",
    "    for train_index, val_index in group_kfold.split(\n",
    "        X = df_shuffle[f_to_use].values, groups = df_shuffle['order_id'].values):\n",
    "        i += 1\n",
    "        print ('Fold {}...'.format(i))\n",
    "        df_train = df_shuffle.loc[train_index]\n",
    "        df_val = df_shuffle.loc[val_index]\n",
    "        m = model.fit(df_train[f_to_use],df_train['labels'].values)\n",
    "        val_pred = m.predict_proba(df_val[f_to_use])[:,1]\n",
    "        avg_f1_score_list.append(avg_f1_score(df_val,val_pred))\n",
    "        auc_score_list.append(auc_score(df_val,val_pred))\n",
    "    return np.mean(avg_f1_score_list),np.mean(auc_score_list)\n",
    "\n",
    "def group_kfold_lgb(f_to_use = f_to_use3):\n",
    "    group_kfold = GroupKFold(n_splits=4)\n",
    "    avg_f1_score_list = []\n",
    "    auc_score_list = []\n",
    "    i = 0\n",
    "    df_shuffle = df.sample(frac=1,random_state=43).reset_index(drop=True)\n",
    "    for train_index, val_index in group_kfold.split(\n",
    "        X = df_shuffle[f_to_use].values, groups = df_shuffle['order_id'].values):\n",
    "        i += 1\n",
    "        print ('Fold {}...'.format(i))\n",
    "        df_train = df_shuffle.loc[train_index]\n",
    "        df_val = df_shuffle.loc[val_index]\n",
    "        d_train = lgb.Dataset(df_train[f_to_use],label=df_train['labels'].values)\n",
    "        params = {\n",
    "        'task': 'train',\n",
    "        'boosting_type': 'gbdt',\n",
    "        'objective': 'binary',\n",
    "        'metric': {'binary_logloss'},\n",
    "        'num_leaves': 96,\n",
    "        'max_depth': 10,\n",
    "        'feature_fraction': 0.9,\n",
    "        'bagging_fraction': 0.95,\n",
    "        'bagging_freq': 5\n",
    "        }\n",
    "        ROUNDS = 100\n",
    "        bst = lgb.train(params, d_train, ROUNDS)\n",
    "        val_pred = bst.predict(df_val[f_to_use])\n",
    "        avg_f1_score_list.append(avg_f1_score(df_val,val_pred))\n",
    "        auc_score_list.append(auc_score(df_val,val_pred))\n",
    "    return np.mean(avg_f1_score_list),np.mean(auc_score_list)\n",
    "\n",
    "def group_kfold_xgb(f_to_use = f_to_use3):\n",
    "    group_kfold = GroupKFold(n_splits=4)\n",
    "    avg_f1_score_list = []\n",
    "    auc_score_list = []\n",
    "    i = 0\n",
    "    df_shuffle = df.sample(frac=1,random_state=43).reset_index(drop=True)\n",
    "    for train_index, val_index in group_kfold.split(\n",
    "        X = df_shuffle[f_to_use].values, groups = df_shuffle['order_id'].values):\n",
    "        i += 1\n",
    "        print ('Fold {}...'.format(i))\n",
    "        df_train = df_shuffle.loc[train_index]\n",
    "        df_val = df_shuffle.loc[val_index]\n",
    "        d_train = xgb.DMatrix(df_train[f_to_use],label=df_train['labels'].values)\n",
    "\n",
    "        xgb_params = {\n",
    "            \"objective\"         : \"reg:logistic\"\n",
    "            ,\"eval_metric\"      : \"logloss\"\n",
    "            ,\"eta\"              : 0.1\n",
    "            ,\"max_depth\"        : 6\n",
    "            ,\"min_child_weight\" :10\n",
    "            ,\"gamma\"            :0.70\n",
    "            ,\"subsample\"        :0.76\n",
    "            ,\"colsample_bytree\" :0.95\n",
    "            ,\"alpha\"            :2e-05\n",
    "            ,\"lambda\"           :10\n",
    "        }\n",
    "        ROUNDS = 100\n",
    "#         watchlist= [(d_train, \"train\")]\n",
    "        bst = xgb.train(params=xgb_params, dtrain=d_train, num_boost_round=ROUNDS)\n",
    "        val_pred = bst.predict(xgb.DMatrix(df_val[f_to_use]))\n",
    "        avg_f1_score_list.append(avg_f1_score(df_val,val_pred))\n",
    "        auc_score_list.append(auc_score(df_val,val_pred))\n",
    "    return np.mean(avg_f1_score_list),np.mean(auc_score_list)"
   ]
  },
  {
   "cell_type": "code",
   "execution_count": 60,
   "metadata": {},
   "outputs": [
    {
     "name": "stdout",
     "output_type": "stream",
     "text": [
      "Fold 1...\n",
      "Fold 2...\n",
      "Fold 3...\n",
      "Fold 4...\n",
      "CPU times: user 1min 10s, sys: 2.32 s, total: 1min 12s\n",
      "Wall time: 1min 10s\n"
     ]
    },
    {
     "data": {
      "text/plain": [
       "(0.13208674109339155, 0.83524917996384851)"
      ]
     },
     "execution_count": 60,
     "metadata": {},
     "output_type": "execute_result"
    }
   ],
   "source": [
    "%%time\n",
    "group_kfold_cv()"
   ]
  },
  {
   "cell_type": "code",
   "execution_count": 61,
   "metadata": {},
   "outputs": [
    {
     "name": "stdout",
     "output_type": "stream",
     "text": [
      "Fold 1...\n",
      "Fold 2...\n",
      "Fold 3...\n",
      "Fold 4...\n",
      "CPU times: user 26min 12s, sys: 10.2 s, total: 26min 22s\n",
      "Wall time: 3min 32s\n"
     ]
    },
    {
     "data": {
      "text/plain": [
       "(0.17959987400227559, 0.8660472661686186)"
      ]
     },
     "execution_count": 61,
     "metadata": {},
     "output_type": "execute_result"
    }
   ],
   "source": [
    "%%time\n",
    "group_kfold_cv(RandomForestClassifier(random_state = 42, n_estimators=100, max_depth = 5, n_jobs=-1))"
   ]
  },
  {
   "cell_type": "code",
   "execution_count": 64,
   "metadata": {},
   "outputs": [
    {
     "name": "stdout",
     "output_type": "stream",
     "text": [
      "Fold 1...\n",
      "Fold 2...\n",
      "Fold 3...\n",
      "Fold 4...\n",
      "CPU times: user 7min 59s, sys: 1.3 s, total: 8min\n",
      "Wall time: 1min 4s\n"
     ]
    },
    {
     "data": {
      "text/plain": [
       "(0.17928740680159366, 0.87701008867151198)"
      ]
     },
     "execution_count": 64,
     "metadata": {},
     "output_type": "execute_result"
    }
   ],
   "source": [
    "%%time\n",
    "group_kfold_lgb()"
   ]
  },
  {
   "cell_type": "code",
   "execution_count": 23,
   "metadata": {},
   "outputs": [
    {
     "name": "stdout",
     "output_type": "stream",
     "text": [
      "Fold 1...\n",
      "Fold 2...\n",
      "Fold 3...\n",
      "Fold 4...\n",
      "CPU times: user 1h 4min 1s, sys: 10.4 s, total: 1h 4min 12s\n",
      "Wall time: 8min 24s\n"
     ]
    },
    {
     "data": {
      "text/plain": [
       "(0.18824797592072021, 0.8803443391638035)"
      ]
     },
     "execution_count": 23,
     "metadata": {},
     "output_type": "execute_result"
    }
   ],
   "source": [
    "%%time\n",
    "group_kfold_xgb()"
   ]
  },
  {
   "cell_type": "code",
   "execution_count": null,
   "metadata": {
    "collapsed": true
   },
   "outputs": [],
   "source": []
  }
 ],
 "metadata": {
  "kernelspec": {
   "display_name": "Python 3",
   "language": "python",
   "name": "python3"
  },
  "language_info": {
   "codemirror_mode": {
    "name": "ipython",
    "version": 3
   },
   "file_extension": ".py",
   "mimetype": "text/x-python",
   "name": "python",
   "nbconvert_exporter": "python",
   "pygments_lexer": "ipython3",
   "version": "3.6.1"
  }
 },
 "nbformat": 4,
 "nbformat_minor": 2
}
