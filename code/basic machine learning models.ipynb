{
 "cells": [
  {
   "cell_type": "code",
   "execution_count": 1,
   "metadata": {},
   "outputs": [
    {
     "name": "stderr",
     "output_type": "stream",
     "text": [
      "/home/song/anaconda3/lib/python3.6/site-packages/sklearn/cross_validation.py:44: DeprecationWarning: This module was deprecated in version 0.18 in favor of the model_selection module into which all the refactored classes and functions are moved. Also note that the interface of the new CV iterators are different from that of this module. This module will be removed in 0.20.\n",
      "  \"This module will be removed in 0.20.\", DeprecationWarning)\n"
     ]
    }
   ],
   "source": [
    "import pandas as pd\n",
    "import numpy as np\n",
    "import lightgbm as lgb\n",
    "import xgboost as xgb\n",
    "from sklearn.linear_model import LogisticRegression\n",
    "from sklearn.ensemble import RandomForestClassifier\n",
    "from sklearn.model_selection import GroupKFold\n",
    "from sklearn.metrics import roc_auc_score\n",
    "# from sklearn.metrics import f1_score\n",
    "%matplotlib inline\n",
    "np.random.seed(42)\n",
    "\n",
    "df = pd.read_pickle('../data/train_transformed.p')\n",
    "order_products_compact = pd.read_hdf('../data/online_retail.h5','order_products_compact')\n",
    "\n",
    "def f1_score(l_true,l_pred):\n",
    "    tp = set(l_true).intersection(set(l_pred))\n",
    "    if not len(tp):\n",
    "        return 0\n",
    "    fp = set(l_pred).difference(tp)\n",
    "    fn = set(l_true).difference(tp)\n",
    "    p = len(tp) / (len(tp) + len(fp))\n",
    "    r = len(tp) / (len(tp) + len(fn))\n",
    "    f1 = 2 * (p * r) / (p + r)\n",
    "    return f1\n",
    "def avg_f1_score(df,pred,order_products_compact=order_products_compact):\n",
    "    df_pred = pd.DataFrame({'order_id':df.order_id,'pred':pred,'product_id':df.product_id}).\\\n",
    "                sort_values(['order_id','pred'],ascending = [True,False]).reset_index(drop=True)\n",
    "    df_pred['pred_rank'] = df_pred.groupby('order_id').cumcount()\n",
    "    df_pred = df_pred[df_pred.pred_rank<15].reset_index(drop=True)\n",
    "    d = {}\n",
    "    for row in df_pred.itertuples():\n",
    "        order_id = row.order_id\n",
    "        if row.pred_rank == 0 or row.pred > 0.05:\n",
    "            try:\n",
    "                d[order_id] += ' ' + str(row.product_id)\n",
    "            except:\n",
    "                d[order_id] = str(row.product_id)\n",
    "    df_pred_compact = pd.DataFrame.from_dict(d, orient='index')\n",
    "\n",
    "    df_pred_compact.reset_index(inplace=True)\n",
    "    df_pred_compact.columns = ['order_id', 'y_pred']\n",
    "    df_pred_compact['y_pred'] = df_pred_compact['y_pred'].str.split()\n",
    "    df_pred_compact = df_pred_compact.merge(order_products_compact[['order_id','product_id']],how='left',\n",
    "                                                       on='order_id')\n",
    "    scores = []\n",
    "    for row in df_pred_compact.itertuples():\n",
    "        y_pred = row.y_pred\n",
    "        y_true = row.product_id\n",
    "        score = f1_score(y_true,y_pred)\n",
    "        scores.append(score)\n",
    "    return np.mean(scores)\n",
    "def auc_score(df,pred):\n",
    "    return roc_auc_score(df['labels'].values,pred)"
   ]
  },
  {
   "cell_type": "code",
   "execution_count": 2,
   "metadata": {},
   "outputs": [
    {
     "data": {
      "text/plain": [
       "Index(['labels', 'order_id', 'product_id', 'user_id', 'user_total_orders',\n",
       "       'user_total_items', 'total_distinct_items',\n",
       "       'user_average_days_between_orders', 'user_average_basket',\n",
       "       'user_total_item_quantity', 'user_total_spent',\n",
       "       'user_sum_days_between_orders', 'user_reorder_ratio',\n",
       "       'order_hour_of_day', 'order_dow', 'days_since_prior_order',\n",
       "       'days_since_ratio', 'product_orders', 'product_reorders',\n",
       "       'product_reorder_rate', 'product_total_quantity_sold',\n",
       "       'product_avg_price', 'prod_first_buy', 'prod_second_buy',\n",
       "       'prod_1reorder_ratio', 'prod_nreorder_ratio', 'UP_orders',\n",
       "       'UP_orders_ratio', 'UP_reorder_rate', 'UP_total_quantity',\n",
       "       'UP_order_rate_since_first_order'],\n",
       "      dtype='object')"
      ]
     },
     "execution_count": 2,
     "metadata": {},
     "output_type": "execute_result"
    }
   ],
   "source": [
    "df.columns"
   ]
  },
  {
   "cell_type": "code",
   "execution_count": 3,
   "metadata": {
    "collapsed": true
   },
   "outputs": [],
   "source": [
    "f_to_use0 = ['user_total_orders',\n",
    "       'user_total_items', 'total_distinct_items',\n",
    "       'user_average_days_between_orders', 'user_average_basket',\n",
    "       'user_total_item_quantity', 'user_total_spent',\n",
    "       'user_sum_days_between_orders', 'user_reorder_ratio',\n",
    "       'order_hour_of_day', 'days_since_prior_order', 'days_since_ratio',\n",
    "       'product_orders', 'product_reorders', 'product_reorder_rate',\n",
    "       'product_total_quantity_sold', 'product_avg_price', 'prod_first_buy',\n",
    "       'prod_second_buy', 'prod_1reorder_ratio', 'prod_nreorder_ratio',\n",
    "       'UP_orders', 'UP_orders_ratio', 'UP_reorder_rate', 'UP_total_quantity',\n",
    "       'UP_order_rate_since_first_order']\n",
    "f_to_use1 = ['user_total_orders', 'user_total_items', 'total_distinct_items',\n",
    "       'user_average_days_between_orders', 'user_average_basket',\n",
    "       'order_hour_of_day', 'days_since_prior_order', 'days_since_ratio',\n",
    "       'product_orders', 'product_reorders',\n",
    "       'product_reorder_rate', 'UP_orders', 'UP_orders_ratio',\n",
    "       'UP_reorder_rate']\n",
    "f_to_use2 = ['user_total_orders',\n",
    "       'user_average_days_between_orders', 'user_average_basket',\n",
    "       'order_hour_of_day', 'days_since_ratio',\n",
    "       'product_orders', 'UP_orders']\n",
    "f_to_use3 = ['user_total_orders', 'user_average_days_between_orders', 'user_average_basket', \n",
    "             'user_total_item_quantity', 'order_hour_of_day', 'days_since_ratio',\n",
    "             'product_orders', 'product_avg_price', \n",
    "             'UP_orders', 'UP_total_quantity']\n",
    "f_to_use4 = ['user_total_orders', 'user_average_days_between_orders', 'user_average_basket', \n",
    "             'user_total_item_quantity', 'order_hour_of_day','order_dow', 'days_since_ratio',\n",
    "             'product_orders', 'product_avg_price', \n",
    "             'UP_orders', 'UP_total_quantity', \n",
    "             'user_sum_days_between_orders','user_reorder_ratio','prod_1reorder_ratio']"
   ]
  },
  {
   "cell_type": "code",
   "execution_count": 4,
   "metadata": {},
   "outputs": [
    {
     "data": {
      "text/plain": [
       "user_total_orders                   2\n",
       "user_average_days_between_orders    1\n",
       "user_average_basket                 1\n",
       "user_total_item_quantity            2\n",
       "order_hour_of_day                   1\n",
       "order_dow                           1\n",
       "days_since_ratio                    1\n",
       "product_orders                      2\n",
       "product_avg_price                   1\n",
       "UP_orders                           1\n",
       "UP_total_quantity                   1\n",
       "user_sum_days_between_orders        1\n",
       "user_reorder_ratio                  1\n",
       "prod_1reorder_ratio                 2\n",
       "dtype: int64"
      ]
     },
     "execution_count": 4,
     "metadata": {},
     "output_type": "execute_result"
    }
   ],
   "source": [
    "# correlation test\n",
    "corr = df[f_to_use4].corr()\n",
    "(corr > 0.5).sum()"
   ]
  },
  {
   "cell_type": "code",
   "execution_count": 5,
   "metadata": {},
   "outputs": [
    {
     "data": {
      "text/html": [
       "<div>\n",
       "<style>\n",
       "    .dataframe thead tr:only-child th {\n",
       "        text-align: right;\n",
       "    }\n",
       "\n",
       "    .dataframe thead th {\n",
       "        text-align: left;\n",
       "    }\n",
       "\n",
       "    .dataframe tbody tr th {\n",
       "        vertical-align: top;\n",
       "    }\n",
       "</style>\n",
       "<table border=\"1\" class=\"dataframe\">\n",
       "  <thead>\n",
       "    <tr style=\"text-align: right;\">\n",
       "      <th></th>\n",
       "      <th>user_total_orders</th>\n",
       "      <th>user_average_days_between_orders</th>\n",
       "      <th>user_average_basket</th>\n",
       "      <th>user_total_item_quantity</th>\n",
       "      <th>order_hour_of_day</th>\n",
       "      <th>order_dow</th>\n",
       "      <th>days_since_ratio</th>\n",
       "      <th>product_orders</th>\n",
       "      <th>product_avg_price</th>\n",
       "      <th>UP_orders</th>\n",
       "      <th>UP_total_quantity</th>\n",
       "      <th>user_sum_days_between_orders</th>\n",
       "      <th>user_reorder_ratio</th>\n",
       "      <th>prod_1reorder_ratio</th>\n",
       "    </tr>\n",
       "  </thead>\n",
       "  <tbody>\n",
       "    <tr>\n",
       "      <th>user_total_orders</th>\n",
       "      <td>1.000000e+00</td>\n",
       "      <td>-4.123759e-01</td>\n",
       "      <td>7.886892e-03</td>\n",
       "      <td>5.628045e-01</td>\n",
       "      <td>-4.870814e-03</td>\n",
       "      <td>1.466262e-02</td>\n",
       "      <td>-1.020318e-01</td>\n",
       "      <td>4.435227e-17</td>\n",
       "      <td>1.907015e-19</td>\n",
       "      <td>0.200472</td>\n",
       "      <td>0.060087</td>\n",
       "      <td>2.523834e-01</td>\n",
       "      <td>3.261511e-01</td>\n",
       "      <td>1.481277e-16</td>\n",
       "    </tr>\n",
       "    <tr>\n",
       "      <th>user_average_days_between_orders</th>\n",
       "      <td>-4.123759e-01</td>\n",
       "      <td>1.000000e+00</td>\n",
       "      <td>2.639173e-02</td>\n",
       "      <td>-2.358832e-01</td>\n",
       "      <td>4.120785e-02</td>\n",
       "      <td>2.725396e-02</td>\n",
       "      <td>6.802189e-02</td>\n",
       "      <td>-1.249335e-17</td>\n",
       "      <td>2.671903e-18</td>\n",
       "      <td>-0.067077</td>\n",
       "      <td>-0.025184</td>\n",
       "      <td>2.690539e-01</td>\n",
       "      <td>-3.802930e-01</td>\n",
       "      <td>-7.183409e-18</td>\n",
       "    </tr>\n",
       "    <tr>\n",
       "      <th>user_average_basket</th>\n",
       "      <td>7.886892e-03</td>\n",
       "      <td>2.639173e-02</td>\n",
       "      <td>1.000000e+00</td>\n",
       "      <td>5.461234e-02</td>\n",
       "      <td>2.930158e-02</td>\n",
       "      <td>8.582378e-02</td>\n",
       "      <td>-2.165999e-02</td>\n",
       "      <td>-4.402257e-17</td>\n",
       "      <td>1.778213e-18</td>\n",
       "      <td>0.090046</td>\n",
       "      <td>0.005831</td>\n",
       "      <td>3.924367e-02</td>\n",
       "      <td>-3.498141e-02</td>\n",
       "      <td>-2.227520e-17</td>\n",
       "    </tr>\n",
       "    <tr>\n",
       "      <th>user_total_item_quantity</th>\n",
       "      <td>5.628045e-01</td>\n",
       "      <td>-2.358832e-01</td>\n",
       "      <td>5.461234e-02</td>\n",
       "      <td>1.000000e+00</td>\n",
       "      <td>-2.984752e-02</td>\n",
       "      <td>4.838119e-04</td>\n",
       "      <td>-7.512556e-02</td>\n",
       "      <td>2.020160e-18</td>\n",
       "      <td>1.311386e-18</td>\n",
       "      <td>0.115486</td>\n",
       "      <td>0.106763</td>\n",
       "      <td>1.454924e-01</td>\n",
       "      <td>2.144581e-01</td>\n",
       "      <td>1.261048e-17</td>\n",
       "    </tr>\n",
       "    <tr>\n",
       "      <th>order_hour_of_day</th>\n",
       "      <td>-4.870814e-03</td>\n",
       "      <td>4.120785e-02</td>\n",
       "      <td>2.930158e-02</td>\n",
       "      <td>-2.984752e-02</td>\n",
       "      <td>1.000000e+00</td>\n",
       "      <td>2.579946e-02</td>\n",
       "      <td>-2.046899e-02</td>\n",
       "      <td>-1.762072e-17</td>\n",
       "      <td>8.909364e-18</td>\n",
       "      <td>0.003410</td>\n",
       "      <td>-0.003187</td>\n",
       "      <td>3.242748e-02</td>\n",
       "      <td>-3.279095e-02</td>\n",
       "      <td>-4.344383e-17</td>\n",
       "    </tr>\n",
       "    <tr>\n",
       "      <th>order_dow</th>\n",
       "      <td>1.466262e-02</td>\n",
       "      <td>2.725396e-02</td>\n",
       "      <td>8.582378e-02</td>\n",
       "      <td>4.838119e-04</td>\n",
       "      <td>2.579946e-02</td>\n",
       "      <td>1.000000e+00</td>\n",
       "      <td>1.965426e-02</td>\n",
       "      <td>9.001043e-17</td>\n",
       "      <td>2.610368e-17</td>\n",
       "      <td>0.008737</td>\n",
       "      <td>0.000052</td>\n",
       "      <td>5.932038e-03</td>\n",
       "      <td>-6.681319e-04</td>\n",
       "      <td>2.195169e-17</td>\n",
       "    </tr>\n",
       "    <tr>\n",
       "      <th>days_since_ratio</th>\n",
       "      <td>-1.020318e-01</td>\n",
       "      <td>6.802189e-02</td>\n",
       "      <td>-2.165999e-02</td>\n",
       "      <td>-7.512556e-02</td>\n",
       "      <td>-2.046899e-02</td>\n",
       "      <td>1.965426e-02</td>\n",
       "      <td>1.000000e+00</td>\n",
       "      <td>1.310377e-17</td>\n",
       "      <td>-4.626312e-18</td>\n",
       "      <td>-0.016812</td>\n",
       "      <td>-0.008021</td>\n",
       "      <td>-1.380487e-01</td>\n",
       "      <td>-2.486770e-02</td>\n",
       "      <td>-1.310789e-16</td>\n",
       "    </tr>\n",
       "    <tr>\n",
       "      <th>product_orders</th>\n",
       "      <td>4.435227e-17</td>\n",
       "      <td>-1.249335e-17</td>\n",
       "      <td>-4.402257e-17</td>\n",
       "      <td>2.020160e-18</td>\n",
       "      <td>-1.762072e-17</td>\n",
       "      <td>9.001043e-17</td>\n",
       "      <td>1.310377e-17</td>\n",
       "      <td>1.000000e+00</td>\n",
       "      <td>-4.631732e-02</td>\n",
       "      <td>0.193062</td>\n",
       "      <td>0.057101</td>\n",
       "      <td>-2.330212e-17</td>\n",
       "      <td>2.462485e-17</td>\n",
       "      <td>5.298432e-01</td>\n",
       "    </tr>\n",
       "    <tr>\n",
       "      <th>product_avg_price</th>\n",
       "      <td>1.907015e-19</td>\n",
       "      <td>2.671903e-18</td>\n",
       "      <td>1.778213e-18</td>\n",
       "      <td>1.311386e-18</td>\n",
       "      <td>8.909364e-18</td>\n",
       "      <td>2.610368e-17</td>\n",
       "      <td>-4.626312e-18</td>\n",
       "      <td>-4.631732e-02</td>\n",
       "      <td>1.000000e+00</td>\n",
       "      <td>-0.008766</td>\n",
       "      <td>-0.006523</td>\n",
       "      <td>-2.631253e-19</td>\n",
       "      <td>-3.922376e-18</td>\n",
       "      <td>-5.017860e-02</td>\n",
       "    </tr>\n",
       "    <tr>\n",
       "      <th>UP_orders</th>\n",
       "      <td>2.004725e-01</td>\n",
       "      <td>-6.707733e-02</td>\n",
       "      <td>9.004567e-02</td>\n",
       "      <td>1.154858e-01</td>\n",
       "      <td>3.410053e-03</td>\n",
       "      <td>8.737468e-03</td>\n",
       "      <td>-1.681185e-02</td>\n",
       "      <td>1.930615e-01</td>\n",
       "      <td>-8.766088e-03</td>\n",
       "      <td>1.000000</td>\n",
       "      <td>0.324171</td>\n",
       "      <td>4.257595e-02</td>\n",
       "      <td>5.308537e-02</td>\n",
       "      <td>1.022769e-01</td>\n",
       "    </tr>\n",
       "    <tr>\n",
       "      <th>UP_total_quantity</th>\n",
       "      <td>6.008667e-02</td>\n",
       "      <td>-2.518358e-02</td>\n",
       "      <td>5.830574e-03</td>\n",
       "      <td>1.067629e-01</td>\n",
       "      <td>-3.186609e-03</td>\n",
       "      <td>5.165318e-05</td>\n",
       "      <td>-8.020625e-03</td>\n",
       "      <td>5.710089e-02</td>\n",
       "      <td>-6.522737e-03</td>\n",
       "      <td>0.324171</td>\n",
       "      <td>1.000000</td>\n",
       "      <td>1.553320e-02</td>\n",
       "      <td>2.289618e-02</td>\n",
       "      <td>2.912205e-02</td>\n",
       "    </tr>\n",
       "    <tr>\n",
       "      <th>user_sum_days_between_orders</th>\n",
       "      <td>2.523834e-01</td>\n",
       "      <td>2.690539e-01</td>\n",
       "      <td>3.924367e-02</td>\n",
       "      <td>1.454924e-01</td>\n",
       "      <td>3.242748e-02</td>\n",
       "      <td>5.932038e-03</td>\n",
       "      <td>-1.380487e-01</td>\n",
       "      <td>-2.330212e-17</td>\n",
       "      <td>-2.631253e-19</td>\n",
       "      <td>0.042576</td>\n",
       "      <td>0.015533</td>\n",
       "      <td>1.000000e+00</td>\n",
       "      <td>1.105951e-01</td>\n",
       "      <td>2.595913e-17</td>\n",
       "    </tr>\n",
       "    <tr>\n",
       "      <th>user_reorder_ratio</th>\n",
       "      <td>3.261511e-01</td>\n",
       "      <td>-3.802930e-01</td>\n",
       "      <td>-3.498141e-02</td>\n",
       "      <td>2.144581e-01</td>\n",
       "      <td>-3.279095e-02</td>\n",
       "      <td>-6.681319e-04</td>\n",
       "      <td>-2.486770e-02</td>\n",
       "      <td>2.462485e-17</td>\n",
       "      <td>-3.922376e-18</td>\n",
       "      <td>0.053085</td>\n",
       "      <td>0.022896</td>\n",
       "      <td>1.105951e-01</td>\n",
       "      <td>1.000000e+00</td>\n",
       "      <td>3.271750e-17</td>\n",
       "    </tr>\n",
       "    <tr>\n",
       "      <th>prod_1reorder_ratio</th>\n",
       "      <td>1.481277e-16</td>\n",
       "      <td>-7.183409e-18</td>\n",
       "      <td>-2.227520e-17</td>\n",
       "      <td>1.261048e-17</td>\n",
       "      <td>-4.344383e-17</td>\n",
       "      <td>2.195169e-17</td>\n",
       "      <td>-1.310789e-16</td>\n",
       "      <td>5.298432e-01</td>\n",
       "      <td>-5.017860e-02</td>\n",
       "      <td>0.102277</td>\n",
       "      <td>0.029122</td>\n",
       "      <td>2.595913e-17</td>\n",
       "      <td>3.271750e-17</td>\n",
       "      <td>1.000000e+00</td>\n",
       "    </tr>\n",
       "  </tbody>\n",
       "</table>\n",
       "</div>"
      ],
      "text/plain": [
       "                                  user_total_orders  \\\n",
       "user_total_orders                      1.000000e+00   \n",
       "user_average_days_between_orders      -4.123759e-01   \n",
       "user_average_basket                    7.886892e-03   \n",
       "user_total_item_quantity               5.628045e-01   \n",
       "order_hour_of_day                     -4.870814e-03   \n",
       "order_dow                              1.466262e-02   \n",
       "days_since_ratio                      -1.020318e-01   \n",
       "product_orders                         4.435227e-17   \n",
       "product_avg_price                      1.907015e-19   \n",
       "UP_orders                              2.004725e-01   \n",
       "UP_total_quantity                      6.008667e-02   \n",
       "user_sum_days_between_orders           2.523834e-01   \n",
       "user_reorder_ratio                     3.261511e-01   \n",
       "prod_1reorder_ratio                    1.481277e-16   \n",
       "\n",
       "                                  user_average_days_between_orders  \\\n",
       "user_total_orders                                    -4.123759e-01   \n",
       "user_average_days_between_orders                      1.000000e+00   \n",
       "user_average_basket                                   2.639173e-02   \n",
       "user_total_item_quantity                             -2.358832e-01   \n",
       "order_hour_of_day                                     4.120785e-02   \n",
       "order_dow                                             2.725396e-02   \n",
       "days_since_ratio                                      6.802189e-02   \n",
       "product_orders                                       -1.249335e-17   \n",
       "product_avg_price                                     2.671903e-18   \n",
       "UP_orders                                            -6.707733e-02   \n",
       "UP_total_quantity                                    -2.518358e-02   \n",
       "user_sum_days_between_orders                          2.690539e-01   \n",
       "user_reorder_ratio                                   -3.802930e-01   \n",
       "prod_1reorder_ratio                                  -7.183409e-18   \n",
       "\n",
       "                                  user_average_basket  \\\n",
       "user_total_orders                        7.886892e-03   \n",
       "user_average_days_between_orders         2.639173e-02   \n",
       "user_average_basket                      1.000000e+00   \n",
       "user_total_item_quantity                 5.461234e-02   \n",
       "order_hour_of_day                        2.930158e-02   \n",
       "order_dow                                8.582378e-02   \n",
       "days_since_ratio                        -2.165999e-02   \n",
       "product_orders                          -4.402257e-17   \n",
       "product_avg_price                        1.778213e-18   \n",
       "UP_orders                                9.004567e-02   \n",
       "UP_total_quantity                        5.830574e-03   \n",
       "user_sum_days_between_orders             3.924367e-02   \n",
       "user_reorder_ratio                      -3.498141e-02   \n",
       "prod_1reorder_ratio                     -2.227520e-17   \n",
       "\n",
       "                                  user_total_item_quantity  order_hour_of_day  \\\n",
       "user_total_orders                             5.628045e-01      -4.870814e-03   \n",
       "user_average_days_between_orders             -2.358832e-01       4.120785e-02   \n",
       "user_average_basket                           5.461234e-02       2.930158e-02   \n",
       "user_total_item_quantity                      1.000000e+00      -2.984752e-02   \n",
       "order_hour_of_day                            -2.984752e-02       1.000000e+00   \n",
       "order_dow                                     4.838119e-04       2.579946e-02   \n",
       "days_since_ratio                             -7.512556e-02      -2.046899e-02   \n",
       "product_orders                                2.020160e-18      -1.762072e-17   \n",
       "product_avg_price                             1.311386e-18       8.909364e-18   \n",
       "UP_orders                                     1.154858e-01       3.410053e-03   \n",
       "UP_total_quantity                             1.067629e-01      -3.186609e-03   \n",
       "user_sum_days_between_orders                  1.454924e-01       3.242748e-02   \n",
       "user_reorder_ratio                            2.144581e-01      -3.279095e-02   \n",
       "prod_1reorder_ratio                           1.261048e-17      -4.344383e-17   \n",
       "\n",
       "                                     order_dow  days_since_ratio  \\\n",
       "user_total_orders                 1.466262e-02     -1.020318e-01   \n",
       "user_average_days_between_orders  2.725396e-02      6.802189e-02   \n",
       "user_average_basket               8.582378e-02     -2.165999e-02   \n",
       "user_total_item_quantity          4.838119e-04     -7.512556e-02   \n",
       "order_hour_of_day                 2.579946e-02     -2.046899e-02   \n",
       "order_dow                         1.000000e+00      1.965426e-02   \n",
       "days_since_ratio                  1.965426e-02      1.000000e+00   \n",
       "product_orders                    9.001043e-17      1.310377e-17   \n",
       "product_avg_price                 2.610368e-17     -4.626312e-18   \n",
       "UP_orders                         8.737468e-03     -1.681185e-02   \n",
       "UP_total_quantity                 5.165318e-05     -8.020625e-03   \n",
       "user_sum_days_between_orders      5.932038e-03     -1.380487e-01   \n",
       "user_reorder_ratio               -6.681319e-04     -2.486770e-02   \n",
       "prod_1reorder_ratio               2.195169e-17     -1.310789e-16   \n",
       "\n",
       "                                  product_orders  product_avg_price  \\\n",
       "user_total_orders                   4.435227e-17       1.907015e-19   \n",
       "user_average_days_between_orders   -1.249335e-17       2.671903e-18   \n",
       "user_average_basket                -4.402257e-17       1.778213e-18   \n",
       "user_total_item_quantity            2.020160e-18       1.311386e-18   \n",
       "order_hour_of_day                  -1.762072e-17       8.909364e-18   \n",
       "order_dow                           9.001043e-17       2.610368e-17   \n",
       "days_since_ratio                    1.310377e-17      -4.626312e-18   \n",
       "product_orders                      1.000000e+00      -4.631732e-02   \n",
       "product_avg_price                  -4.631732e-02       1.000000e+00   \n",
       "UP_orders                           1.930615e-01      -8.766088e-03   \n",
       "UP_total_quantity                   5.710089e-02      -6.522737e-03   \n",
       "user_sum_days_between_orders       -2.330212e-17      -2.631253e-19   \n",
       "user_reorder_ratio                  2.462485e-17      -3.922376e-18   \n",
       "prod_1reorder_ratio                 5.298432e-01      -5.017860e-02   \n",
       "\n",
       "                                  UP_orders  UP_total_quantity  \\\n",
       "user_total_orders                  0.200472           0.060087   \n",
       "user_average_days_between_orders  -0.067077          -0.025184   \n",
       "user_average_basket                0.090046           0.005831   \n",
       "user_total_item_quantity           0.115486           0.106763   \n",
       "order_hour_of_day                  0.003410          -0.003187   \n",
       "order_dow                          0.008737           0.000052   \n",
       "days_since_ratio                  -0.016812          -0.008021   \n",
       "product_orders                     0.193062           0.057101   \n",
       "product_avg_price                 -0.008766          -0.006523   \n",
       "UP_orders                          1.000000           0.324171   \n",
       "UP_total_quantity                  0.324171           1.000000   \n",
       "user_sum_days_between_orders       0.042576           0.015533   \n",
       "user_reorder_ratio                 0.053085           0.022896   \n",
       "prod_1reorder_ratio                0.102277           0.029122   \n",
       "\n",
       "                                  user_sum_days_between_orders  \\\n",
       "user_total_orders                                 2.523834e-01   \n",
       "user_average_days_between_orders                  2.690539e-01   \n",
       "user_average_basket                               3.924367e-02   \n",
       "user_total_item_quantity                          1.454924e-01   \n",
       "order_hour_of_day                                 3.242748e-02   \n",
       "order_dow                                         5.932038e-03   \n",
       "days_since_ratio                                 -1.380487e-01   \n",
       "product_orders                                   -2.330212e-17   \n",
       "product_avg_price                                -2.631253e-19   \n",
       "UP_orders                                         4.257595e-02   \n",
       "UP_total_quantity                                 1.553320e-02   \n",
       "user_sum_days_between_orders                      1.000000e+00   \n",
       "user_reorder_ratio                                1.105951e-01   \n",
       "prod_1reorder_ratio                               2.595913e-17   \n",
       "\n",
       "                                  user_reorder_ratio  prod_1reorder_ratio  \n",
       "user_total_orders                       3.261511e-01         1.481277e-16  \n",
       "user_average_days_between_orders       -3.802930e-01        -7.183409e-18  \n",
       "user_average_basket                    -3.498141e-02        -2.227520e-17  \n",
       "user_total_item_quantity                2.144581e-01         1.261048e-17  \n",
       "order_hour_of_day                      -3.279095e-02        -4.344383e-17  \n",
       "order_dow                              -6.681319e-04         2.195169e-17  \n",
       "days_since_ratio                       -2.486770e-02        -1.310789e-16  \n",
       "product_orders                          2.462485e-17         5.298432e-01  \n",
       "product_avg_price                      -3.922376e-18        -5.017860e-02  \n",
       "UP_orders                               5.308537e-02         1.022769e-01  \n",
       "UP_total_quantity                       2.289618e-02         2.912205e-02  \n",
       "user_sum_days_between_orders            1.105951e-01         2.595913e-17  \n",
       "user_reorder_ratio                      1.000000e+00         3.271750e-17  \n",
       "prod_1reorder_ratio                     3.271750e-17         1.000000e+00  "
      ]
     },
     "execution_count": 5,
     "metadata": {},
     "output_type": "execute_result"
    }
   ],
   "source": [
    "corr"
   ]
  },
  {
   "cell_type": "code",
   "execution_count": 5,
   "metadata": {
    "collapsed": true
   },
   "outputs": [],
   "source": [
    "# train / val split\n",
    "unique_users = df.user_id.unique()\n",
    "np.random.shuffle(unique_users)\n",
    "sp = int(len(unique_users)*0.8)\n",
    "train_users = unique_users[:sp]\n",
    "val_users = unique_users[sp:]\n",
    "df_train = df[df.user_id.isin(train_users)]\n",
    "df_val = df[df.user_id.isin(val_users)]"
   ]
  },
  {
   "cell_type": "markdown",
   "metadata": {},
   "source": [
    "### basic logistical regression model"
   ]
  },
  {
   "cell_type": "code",
   "execution_count": 27,
   "metadata": {},
   "outputs": [
    {
     "name": "stdout",
     "output_type": "stream",
     "text": [
      "CPU times: user 1min 15s, sys: 268 ms, total: 1min 15s\n",
      "Wall time: 1min 15s\n"
     ]
    }
   ],
   "source": [
    "%%time\n",
    "lgr = LogisticRegression(random_state=42,n_jobs=-1).fit(df_train[f_to_use4],df_train['labels'].values)\n",
    "# train_pred = lgr.predict_proba(df_train[f_to_use2])[:,1]\n",
    "val_pred_lgr = lgr.predict_proba(df_val[f_to_use4])[:,1]\n",
    "# train_auc = roc_auc_score(df_train['labels'].values,train_pred)\n",
    "# val_auc = roc_auc_score(df_val['labels'].values,val_pred)\n",
    "# print ('train auc is {:.3f}; val auc is {:.3f}'.format(train_auc,val_auc))"
   ]
  },
  {
   "cell_type": "code",
   "execution_count": 28,
   "metadata": {},
   "outputs": [
    {
     "data": {
      "text/plain": [
       "0.12826693825815361"
      ]
     },
     "execution_count": 28,
     "metadata": {},
     "output_type": "execute_result"
    }
   ],
   "source": [
    "avg_f1_score(df_val,val_pred_lgr)"
   ]
  },
  {
   "cell_type": "code",
   "execution_count": 29,
   "metadata": {},
   "outputs": [
    {
     "data": {
      "text/plain": [
       "0.85174343554017151"
      ]
     },
     "execution_count": 29,
     "metadata": {},
     "output_type": "execute_result"
    }
   ],
   "source": [
    "auc_score(df_val,val_pred_lgr)"
   ]
  },
  {
   "cell_type": "markdown",
   "metadata": {},
   "source": [
    "### basic lgb model"
   ]
  },
  {
   "cell_type": "code",
   "execution_count": 79,
   "metadata": {},
   "outputs": [
    {
     "name": "stdout",
     "output_type": "stream",
     "text": [
      "CPU times: user 1min 50s, sys: 452 ms, total: 1min 51s\n",
      "Wall time: 14.8 s\n"
     ]
    }
   ],
   "source": [
    "%%time\n",
    "d_train = lgb.Dataset(df_train[f_to_use4],label=df_train['labels'].values)\n",
    "\n",
    "params = {\n",
    "    'task': 'train',\n",
    "    'boosting_type': 'gbdt',\n",
    "    'objective': 'binary',\n",
    "    'metric': {'binary_logloss'},\n",
    "    'num_leaves': 96,\n",
    "    'max_depth': 10,\n",
    "    'feature_fraction': 0.9,\n",
    "    'bagging_fraction': 0.95,\n",
    "    'bagging_freq': 5,\n",
    "    'learning_rate': 0.025\n",
    "}\n",
    "\n",
    "ROUNDS = 100\n",
    "bst = lgb.train(params, d_train, ROUNDS)\n",
    "# lgb.plot_importance(bst, figsize=(9,20))\n",
    "val_pred_lgb = bst.predict(df_val[f_to_use4])"
   ]
  },
  {
   "cell_type": "code",
   "execution_count": 80,
   "metadata": {},
   "outputs": [
    {
     "data": {
      "text/plain": [
       "0.18435135158668492"
      ]
     },
     "execution_count": 80,
     "metadata": {},
     "output_type": "execute_result"
    }
   ],
   "source": [
    "avg_f1_score(df_val,val_pred_lgb)"
   ]
  },
  {
   "cell_type": "code",
   "execution_count": 81,
   "metadata": {},
   "outputs": [
    {
     "data": {
      "text/plain": [
       "0.88044725637554033"
      ]
     },
     "execution_count": 81,
     "metadata": {},
     "output_type": "execute_result"
    }
   ],
   "source": [
    "auc_score(df_val,val_pred_lgb)"
   ]
  },
  {
   "cell_type": "markdown",
   "metadata": {},
   "source": [
    "### basic ramdom forest model"
   ]
  },
  {
   "cell_type": "code",
   "execution_count": 34,
   "metadata": {},
   "outputs": [
    {
     "name": "stdout",
     "output_type": "stream",
     "text": [
      "CPU times: user 5min 59s, sys: 1.68 s, total: 6min\n",
      "Wall time: 47.3 s\n"
     ]
    }
   ],
   "source": [
    "%%time\n",
    "rfc = RandomForestClassifier(random_state = 42, n_estimators=100, max_depth = 5, n_jobs=-1).\\\n",
    "        fit(df_train[f_to_use4],df_train['labels'].values)\n",
    "val_pred_rf = rfc.predict_proba(df_val[f_to_use4])[:,1]"
   ]
  },
  {
   "cell_type": "code",
   "execution_count": 35,
   "metadata": {},
   "outputs": [
    {
     "data": {
      "text/plain": [
       "0.17816291035654502"
      ]
     },
     "execution_count": 35,
     "metadata": {},
     "output_type": "execute_result"
    }
   ],
   "source": [
    "avg_f1_score(df_val,val_pred_rf)"
   ]
  },
  {
   "cell_type": "code",
   "execution_count": 36,
   "metadata": {},
   "outputs": [
    {
     "data": {
      "text/plain": [
       "0.87744299334738241"
      ]
     },
     "execution_count": 36,
     "metadata": {},
     "output_type": "execute_result"
    }
   ],
   "source": [
    "auc_score(df_val,val_pred_rf)"
   ]
  },
  {
   "cell_type": "markdown",
   "metadata": {},
   "source": [
    "### basic xgb model"
   ]
  },
  {
   "cell_type": "code",
   "execution_count": 6,
   "metadata": {},
   "outputs": [
    {
     "name": "stdout",
     "output_type": "stream",
     "text": [
      "[0]\ttrain-logloss:0.600281\n",
      "[10]\ttrain-logloss:0.189777\n",
      "[20]\ttrain-logloss:0.079503\n",
      "[30]\ttrain-logloss:0.043961\n",
      "[40]\ttrain-logloss:0.032326\n",
      "[50]\ttrain-logloss:0.028563\n",
      "[60]\ttrain-logloss:0.027259\n",
      "[70]\ttrain-logloss:0.026735\n",
      "[80]\ttrain-logloss:0.026441\n",
      "[90]\ttrain-logloss:0.026217\n",
      "CPU times: user 11min 58s, sys: 2.32 s, total: 12min\n",
      "Wall time: 1min 33s\n"
     ]
    }
   ],
   "source": [
    "%%time\n",
    "d_train = xgb.DMatrix(df_train[f_to_use4],label=df_train['labels'].values)\n",
    "\n",
    "xgb_params = {\n",
    "    \"objective\"         : \"reg:logistic\"\n",
    "    ,\"eval_metric\"      : \"logloss\"\n",
    "    ,\"eta\"              : 0.1\n",
    "    ,\"max_depth\"        : 6\n",
    "    ,\"min_child_weight\" :10\n",
    "    ,\"gamma\"            :0.70\n",
    "    ,\"subsample\"        :0.76\n",
    "    ,\"colsample_bytree\" :0.95\n",
    "    ,\"alpha\"            :2e-05\n",
    "    ,\"lambda\"           :10\n",
    "}\n",
    "ROUNDS = 100\n",
    "watchlist= [(d_train, \"train\")]\n",
    "bst = xgb.train(params=xgb_params, dtrain=d_train, num_boost_round=ROUNDS, evals=watchlist, verbose_eval=10)\n",
    "# xgboost.plot_importance(bst)\n",
    "val_pred_xgb = bst.predict(xgb.DMatrix(df_val[f_to_use4]))"
   ]
  },
  {
   "cell_type": "code",
   "execution_count": 7,
   "metadata": {},
   "outputs": [
    {
     "data": {
      "text/plain": [
       "0.18793026220429274"
      ]
     },
     "execution_count": 7,
     "metadata": {},
     "output_type": "execute_result"
    }
   ],
   "source": [
    "avg_f1_score(df_val,val_pred_xgb)"
   ]
  },
  {
   "cell_type": "code",
   "execution_count": 8,
   "metadata": {},
   "outputs": [
    {
     "data": {
      "text/plain": [
       "0.890591960823641"
      ]
     },
     "execution_count": 8,
     "metadata": {},
     "output_type": "execute_result"
    }
   ],
   "source": [
    "auc_score(df_val,val_pred_xgb)"
   ]
  },
  {
   "cell_type": "code",
   "execution_count": 9,
   "metadata": {},
   "outputs": [
    {
     "data": {
      "text/plain": [
       "<matplotlib.axes._subplots.AxesSubplot at 0x7fbcd15e02b0>"
      ]
     },
     "execution_count": 9,
     "metadata": {},
     "output_type": "execute_result"
    },
    {
     "data": {
      "image/png": "[encoded data removed]",
      "text/plain": [
       "<matplotlib.figure.Figure at 0x7fbd2017e400>"
      ]
     },
     "metadata": {},
     "output_type": "display_data"
    }
   ],
   "source": [
    "xgb.plot_importance(bst)"
   ]
  },
  {
   "cell_type": "markdown",
   "metadata": {},
   "source": [
    "# Group K Fold CV"
   ]
  },
  {
   "cell_type": "code",
   "execution_count": 53,
   "metadata": {
    "collapsed": true
   },
   "outputs": [],
   "source": [
    "def group_kfold_cv(model = LogisticRegression(random_state=42,n_jobs=-1),f_to_use = f_to_use3):\n",
    "    group_kfold = GroupKFold(n_splits=4)\n",
    "    avg_f1_score_list = []\n",
    "    auc_score_list = []\n",
    "    i = 0\n",
    "    df_shuffle = df.sample(frac=1,random_state=43).reset_index(drop=True)\n",
    "    for train_index, val_index in group_kfold.split(\n",
    "        X = df_shuffle[f_to_use].values, groups = df_shuffle['order_id'].values):\n",
    "        i += 1\n",
    "        print ('Fold {}...'.format(i))\n",
    "        df_train = df_shuffle.loc[train_index]\n",
    "        df_val = df_shuffle.loc[val_index]\n",
    "        m = model.fit(df_train[f_to_use],df_train['labels'].values)\n",
    "        val_pred = m.predict_proba(df_val[f_to_use])[:,1]\n",
    "        avg_f1_score_list.append(avg_f1_score(df_val,val_pred))\n",
    "        auc_score_list.append(auc_score(df_val,val_pred))\n",
    "    return np.mean(avg_f1_score_list),np.mean(auc_score_list)\n",
    "\n",
    "def group_kfold_lgb(f_to_use = f_to_use3):\n",
    "    group_kfold = GroupKFold(n_splits=4)\n",
    "    avg_f1_score_list = []\n",
    "    auc_score_list = []\n",
    "    i = 0\n",
    "    df_shuffle = df.sample(frac=1,random_state=43).reset_index(drop=True)\n",
    "    for train_index, val_index in group_kfold.split(\n",
    "        X = df_shuffle[f_to_use].values, groups = df_shuffle['order_id'].values):\n",
    "        i += 1\n",
    "        print ('Fold {}...'.format(i))\n",
    "        df_train = df_shuffle.loc[train_index]\n",
    "        df_val = df_shuffle.loc[val_index]\n",
    "        d_train = lgb.Dataset(df_train[f_to_use],label=df_train['labels'].values)\n",
    "        params = {\n",
    "        'task': 'train',\n",
    "        'boosting_type': 'gbdt',\n",
    "        'objective': 'binary',\n",
    "        'metric': {'binary_logloss'},\n",
    "        'num_leaves': 96,\n",
    "        'max_depth': 10,\n",
    "        'feature_fraction': 0.9,\n",
    "        'bagging_fraction': 0.95,\n",
    "        'bagging_freq': 5\n",
    "        }\n",
    "        ROUNDS = 100\n",
    "        bst = lgb.train(params, d_train, ROUNDS)\n",
    "        val_pred = bst.predict(df_val[f_to_use])\n",
    "        avg_f1_score_list.append(avg_f1_score(df_val,val_pred))\n",
    "        auc_score_list.append(auc_score(df_val,val_pred))\n",
    "    return np.mean(avg_f1_score_list),np.mean(auc_score_list)\n",
    "\n",
    "def group_kfold_xgb(f_to_use = f_to_use3):\n",
    "    group_kfold = GroupKFold(n_splits=4)\n",
    "    avg_f1_score_list = []\n",
    "    auc_score_list = []\n",
    "    i = 0\n",
    "    df_shuffle = df.sample(frac=1,random_state=43).reset_index(drop=True)\n",
    "    for train_index, val_index in group_kfold.split(\n",
    "        X = df_shuffle[f_to_use].values, groups = df_shuffle['order_id'].values):\n",
    "        i += 1\n",
    "        print ('Fold {}...'.format(i))\n",
    "        df_train = df_shuffle.loc[train_index]\n",
    "        df_val = df_shuffle.loc[val_index]\n",
    "        d_train = xgb.DMatrix(df_train[f_to_use],label=df_train['labels'].values)\n",
    "\n",
    "        xgb_params = {\n",
    "            \"objective\"         : \"reg:logistic\"\n",
    "            ,\"eval_metric\"      : \"logloss\"\n",
    "            ,\"eta\"              : 0.1\n",
    "            ,\"max_depth\"        : 6\n",
    "            ,\"min_child_weight\" :10\n",
    "            ,\"gamma\"            :0.70\n",
    "            ,\"subsample\"        :0.76\n",
    "            ,\"colsample_bytree\" :0.95\n",
    "            ,\"alpha\"            :2e-05\n",
    "            ,\"lambda\"           :10\n",
    "        }\n",
    "        ROUNDS = 100\n",
    "#         watchlist= [(d_train, \"train\")]\n",
    "        bst = xgb.train(params=xgb_params, dtrain=d_train, num_boost_round=ROUNDS)\n",
    "        val_pred = bst.predict(xgb.DMatrix(df_val[f_to_use]))\n",
    "        avg_f1_score_list.append(avg_f1_score(df_val,val_pred))\n",
    "        auc_score_list.append(auc_score(df_val,val_pred))\n",
    "    return np.mean(avg_f1_score_list),np.mean(auc_score_list)"
   ]
  },
  {
   "cell_type": "code",
   "execution_count": 60,
   "metadata": {},
   "outputs": [
    {
     "name": "stdout",
     "output_type": "stream",
     "text": [
      "Fold 1...\n",
      "Fold 2...\n",
      "Fold 3...\n",
      "Fold 4...\n",
      "CPU times: user 1min 10s, sys: 2.32 s, total: 1min 12s\n",
      "Wall time: 1min 10s\n"
     ]
    },
    {
     "data": {
      "text/plain": [
       "(0.13208674109339155, 0.83524917996384851)"
      ]
     },
     "execution_count": 60,
     "metadata": {},
     "output_type": "execute_result"
    }
   ],
   "source": [
    "%%time\n",
    "group_kfold_cv()"
   ]
  },
  {
   "cell_type": "code",
   "execution_count": 61,
   "metadata": {},
   "outputs": [
    {
     "name": "stdout",
     "output_type": "stream",
     "text": [
      "Fold 1...\n",
      "Fold 2...\n",
      "Fold 3...\n",
      "Fold 4...\n",
      "CPU times: user 26min 12s, sys: 10.2 s, total: 26min 22s\n",
      "Wall time: 3min 32s\n"
     ]
    },
    {
     "data": {
      "text/plain": [
       "(0.17959987400227559, 0.8660472661686186)"
      ]
     },
     "execution_count": 61,
     "metadata": {},
     "output_type": "execute_result"
    }
   ],
   "source": [
    "%%time\n",
    "group_kfold_cv(RandomForestClassifier(random_state = 42, n_estimators=100, max_depth = 5, n_jobs=-1))"
   ]
  },
  {
   "cell_type": "code",
   "execution_count": 64,
   "metadata": {},
   "outputs": [
    {
     "name": "stdout",
     "output_type": "stream",
     "text": [
      "Fold 1...\n",
      "Fold 2...\n",
      "Fold 3...\n",
      "Fold 4...\n",
      "CPU times: user 7min 59s, sys: 1.3 s, total: 8min\n",
      "Wall time: 1min 4s\n"
     ]
    },
    {
     "data": {
      "text/plain": [
       "(0.17928740680159366, 0.87701008867151198)"
      ]
     },
     "execution_count": 64,
     "metadata": {},
     "output_type": "execute_result"
    }
   ],
   "source": [
    "%%time\n",
    "group_kfold_lgb()"
   ]
  },
  {
   "cell_type": "code",
   "execution_count": 23,
   "metadata": {},
   "outputs": [
    {
     "name": "stdout",
     "output_type": "stream",
     "text": [
      "Fold 1...\n",
      "Fold 2...\n",
      "Fold 3...\n",
      "Fold 4...\n",
      "CPU times: user 1h 4min 1s, sys: 10.4 s, total: 1h 4min 12s\n",
      "Wall time: 8min 24s\n"
     ]
    },
    {
     "data": {
      "text/plain": [
       "(0.18824797592072021, 0.8803443391638035)"
      ]
     },
     "execution_count": 23,
     "metadata": {},
     "output_type": "execute_result"
    }
   ],
   "source": [
    "%%time\n",
    "group_kfold_xgb()"
   ]
  },
  {
   "cell_type": "code",
   "execution_count": null,
   "metadata": {
    "collapsed": true
   },
   "outputs": [],
   "source": []
  }
 ],
 "metadata": {
  "kernelspec": {
   "display_name": "Python 3",
   "language": "python",
   "name": "python3"
  },
  "language_info": {
   "codemirror_mode": {
    "name": "ipython",
    "version": 3
   },
   "file_extension": ".py",
   "mimetype": "text/x-python",
   "name": "python",
   "nbconvert_exporter": "python",
   "pygments_lexer": "ipython3",
   "version": "3.6.1"
  }
 },
 "nbformat": 4,
 "nbformat_minor": 2
}
