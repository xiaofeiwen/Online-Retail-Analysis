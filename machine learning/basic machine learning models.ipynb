{
 "cells": [
  {
   "cell_type": "code",
   "execution_count": 138,
   "metadata": {},
   "outputs": [
    {
     "name": "stderr",
     "output_type": "stream",
     "text": [
      "/home/song/anaconda3/lib/python3.6/site-packages/sklearn/cross_validation.py:44: DeprecationWarning: This module was deprecated in version 0.18 in favor of the model_selection module into which all the refactored classes and functions are moved. Also note that the interface of the new CV iterators are different from that of this module. This module will be removed in 0.20.\n",
      "  \"This module will be removed in 0.20.\", DeprecationWarning)\n"
     ]
    }
   ],
   "source": [
    "import pandas as pd\n",
    "import numpy as np\n",
    "import lightgbm as lgb\n",
    "import xgboost as xgb\n",
    "from sklearn.linear_model import LogisticRegression\n",
    "from sklearn.ensemble import RandomForestClassifier\n",
    "from sklearn.metrics import roc_auc_score\n",
    "%matplotlib inline\n",
    "np.random.seed(42)\n",
    "def f1_score(l_true,l_pred):\n",
    "    tp = set(l_true).intersection(set(l_pred))\n",
    "    if not len(tp):\n",
    "        return 0\n",
    "    fp = set(l_pred).difference(tp)\n",
    "    fn = set(l_true).difference(tp)\n",
    "    p = len(tp) / (len(tp) + len(fp))\n",
    "    r = len(tp) / (len(tp) + len(fn))\n",
    "    f1 = 2 * (p * r) / (p + r)\n",
    "    return f1\n",
    "def avg_f1_score(df,pred,order_products_compact=order_products_compact):\n",
    "    df_pred = pd.DataFrame({'order_id':df.order_id,'pred':pred,'product_id':df.product_id}).\\\n",
    "                sort_values(['order_id','pred'],ascending = [True,False]).reset_index(drop=True)\n",
    "    df_pred['pred_rank'] = df_pred.groupby('order_id').cumcount()\n",
    "    df_pred = df_pred[df_pred.pred_rank<15].reset_index(drop=True)\n",
    "    d = {}\n",
    "    for row in df_pred.itertuples():\n",
    "        order_id = row.order_id\n",
    "        if row.pred_rank == 0 or row.pred > 0.05:\n",
    "            try:\n",
    "                d[order_id] += ' ' + str(row.product_id)\n",
    "            except:\n",
    "                d[order_id] = str(row.product_id)\n",
    "    df_pred_compact = pd.DataFrame.from_dict(d, orient='index')\n",
    "\n",
    "    df_pred_compact.reset_index(inplace=True)\n",
    "    df_pred_compact.columns = ['order_id', 'y_pred']\n",
    "    df_pred_compact['y_pred'] = df_pred_compact['y_pred'].str.split()\n",
    "    df_pred_compact = df_pred_compact.merge(order_products_compact[['order_id','product_id']],how='left',\n",
    "                                                       on='order_id')\n",
    "    scores = []\n",
    "    for row in df_pred_compact.itertuples():\n",
    "        y_pred = row.y_pred\n",
    "        y_true = row.product_id\n",
    "        score = f1_score(y_true,y_pred)\n",
    "        scores.append(score)\n",
    "    return np.mean(scores)\n",
    "def auc_score(df,pred):\n",
    "    return roc_auc_score(df['labels'].values,pred)"
   ]
  },
  {
   "cell_type": "code",
   "execution_count": 16,
   "metadata": {
    "collapsed": true
   },
   "outputs": [],
   "source": [
    "df = pd.read_hdf('../data/online_retail_transformed.h5','train')\n",
    "order_products_compact = pd.read_hdf('../data/online_retail.h5','order_products_compact')\n",
    "f_to_use1 = ['user_total_orders', 'user_total_items', 'total_distinct_items',\n",
    "       'user_average_days_between_orders', 'user_average_basket',\n",
    "       'order_hour_of_day', 'days_since_prior_order', 'days_since_ratio',\n",
    "       'product_orders', 'product_reorders',\n",
    "       'product_reorder_rate', 'UP_orders', 'UP_orders_ratio',\n",
    "       'UP_reorder_rate']\n",
    "f_to_use2 = ['user_total_orders',\n",
    "       'user_average_days_between_orders', 'user_average_basket',\n",
    "       'order_hour_of_day', 'days_since_ratio',\n",
    "       'product_orders', 'UP_orders']"
   ]
  },
  {
   "cell_type": "code",
   "execution_count": 17,
   "metadata": {},
   "outputs": [
    {
     "data": {
      "text/html": [
       "<div>\n",
       "<style>\n",
       "    .dataframe thead tr:only-child th {\n",
       "        text-align: right;\n",
       "    }\n",
       "\n",
       "    .dataframe thead th {\n",
       "        text-align: left;\n",
       "    }\n",
       "\n",
       "    .dataframe tbody tr th {\n",
       "        vertical-align: top;\n",
       "    }\n",
       "</style>\n",
       "<table border=\"1\" class=\"dataframe\">\n",
       "  <thead>\n",
       "    <tr style=\"text-align: right;\">\n",
       "      <th></th>\n",
       "      <th>user_total_orders</th>\n",
       "      <th>user_average_days_between_orders</th>\n",
       "      <th>user_average_basket</th>\n",
       "      <th>order_hour_of_day</th>\n",
       "      <th>days_since_ratio</th>\n",
       "      <th>product_orders</th>\n",
       "      <th>UP_orders</th>\n",
       "    </tr>\n",
       "  </thead>\n",
       "  <tbody>\n",
       "    <tr>\n",
       "      <th>user_total_orders</th>\n",
       "      <td>1.000000e+00</td>\n",
       "      <td>-4.123759e-01</td>\n",
       "      <td>7.886892e-03</td>\n",
       "      <td>-4.870814e-03</td>\n",
       "      <td>-1.020318e-01</td>\n",
       "      <td>4.435227e-17</td>\n",
       "      <td>0.200472</td>\n",
       "    </tr>\n",
       "    <tr>\n",
       "      <th>user_average_days_between_orders</th>\n",
       "      <td>-4.123759e-01</td>\n",
       "      <td>1.000000e+00</td>\n",
       "      <td>2.639173e-02</td>\n",
       "      <td>4.120785e-02</td>\n",
       "      <td>6.802189e-02</td>\n",
       "      <td>-1.249335e-17</td>\n",
       "      <td>-0.067077</td>\n",
       "    </tr>\n",
       "    <tr>\n",
       "      <th>user_average_basket</th>\n",
       "      <td>7.886892e-03</td>\n",
       "      <td>2.639173e-02</td>\n",
       "      <td>1.000000e+00</td>\n",
       "      <td>2.930158e-02</td>\n",
       "      <td>-2.165999e-02</td>\n",
       "      <td>-4.402257e-17</td>\n",
       "      <td>0.090046</td>\n",
       "    </tr>\n",
       "    <tr>\n",
       "      <th>order_hour_of_day</th>\n",
       "      <td>-4.870814e-03</td>\n",
       "      <td>4.120785e-02</td>\n",
       "      <td>2.930158e-02</td>\n",
       "      <td>1.000000e+00</td>\n",
       "      <td>-2.046899e-02</td>\n",
       "      <td>-1.762072e-17</td>\n",
       "      <td>0.003410</td>\n",
       "    </tr>\n",
       "    <tr>\n",
       "      <th>days_since_ratio</th>\n",
       "      <td>-1.020318e-01</td>\n",
       "      <td>6.802189e-02</td>\n",
       "      <td>-2.165999e-02</td>\n",
       "      <td>-2.046899e-02</td>\n",
       "      <td>1.000000e+00</td>\n",
       "      <td>1.310377e-17</td>\n",
       "      <td>-0.016812</td>\n",
       "    </tr>\n",
       "    <tr>\n",
       "      <th>product_orders</th>\n",
       "      <td>4.435227e-17</td>\n",
       "      <td>-1.249335e-17</td>\n",
       "      <td>-4.402257e-17</td>\n",
       "      <td>-1.762072e-17</td>\n",
       "      <td>1.310377e-17</td>\n",
       "      <td>1.000000e+00</td>\n",
       "      <td>0.193062</td>\n",
       "    </tr>\n",
       "    <tr>\n",
       "      <th>UP_orders</th>\n",
       "      <td>2.004725e-01</td>\n",
       "      <td>-6.707733e-02</td>\n",
       "      <td>9.004567e-02</td>\n",
       "      <td>3.410053e-03</td>\n",
       "      <td>-1.681185e-02</td>\n",
       "      <td>1.930615e-01</td>\n",
       "      <td>1.000000</td>\n",
       "    </tr>\n",
       "  </tbody>\n",
       "</table>\n",
       "</div>"
      ],
      "text/plain": [
       "                                  user_total_orders  \\\n",
       "user_total_orders                      1.000000e+00   \n",
       "user_average_days_between_orders      -4.123759e-01   \n",
       "user_average_basket                    7.886892e-03   \n",
       "order_hour_of_day                     -4.870814e-03   \n",
       "days_since_ratio                      -1.020318e-01   \n",
       "product_orders                         4.435227e-17   \n",
       "UP_orders                              2.004725e-01   \n",
       "\n",
       "                                  user_average_days_between_orders  \\\n",
       "user_total_orders                                    -4.123759e-01   \n",
       "user_average_days_between_orders                      1.000000e+00   \n",
       "user_average_basket                                   2.639173e-02   \n",
       "order_hour_of_day                                     4.120785e-02   \n",
       "days_since_ratio                                      6.802189e-02   \n",
       "product_orders                                       -1.249335e-17   \n",
       "UP_orders                                            -6.707733e-02   \n",
       "\n",
       "                                  user_average_basket  order_hour_of_day  \\\n",
       "user_total_orders                        7.886892e-03      -4.870814e-03   \n",
       "user_average_days_between_orders         2.639173e-02       4.120785e-02   \n",
       "user_average_basket                      1.000000e+00       2.930158e-02   \n",
       "order_hour_of_day                        2.930158e-02       1.000000e+00   \n",
       "days_since_ratio                        -2.165999e-02      -2.046899e-02   \n",
       "product_orders                          -4.402257e-17      -1.762072e-17   \n",
       "UP_orders                                9.004567e-02       3.410053e-03   \n",
       "\n",
       "                                  days_since_ratio  product_orders  UP_orders  \n",
       "user_total_orders                    -1.020318e-01    4.435227e-17   0.200472  \n",
       "user_average_days_between_orders      6.802189e-02   -1.249335e-17  -0.067077  \n",
       "user_average_basket                  -2.165999e-02   -4.402257e-17   0.090046  \n",
       "order_hour_of_day                    -2.046899e-02   -1.762072e-17   0.003410  \n",
       "days_since_ratio                      1.000000e+00    1.310377e-17  -0.016812  \n",
       "product_orders                        1.310377e-17    1.000000e+00   0.193062  \n",
       "UP_orders                            -1.681185e-02    1.930615e-01   1.000000  "
      ]
     },
     "execution_count": 17,
     "metadata": {},
     "output_type": "execute_result"
    }
   ],
   "source": [
    "# correlation test\n",
    "df[f_to_use2].corr()"
   ]
  },
  {
   "cell_type": "code",
   "execution_count": 18,
   "metadata": {
    "collapsed": true
   },
   "outputs": [],
   "source": [
    "# train / val split\n",
    "unique_users = df.user_id.unique()\n",
    "np.random.shuffle(unique_users)\n",
    "sp = int(len(unique_users)*0.8)\n",
    "train_users = unique_users[:sp]\n",
    "val_users = unique_users[sp:]\n",
    "df_train = df[df.user_id.isin(train_users)]\n",
    "df_val = df[df.user_id.isin(val_users)]"
   ]
  },
  {
   "cell_type": "markdown",
   "metadata": {},
   "source": [
    "### basic logistical regression model"
   ]
  },
  {
   "cell_type": "code",
   "execution_count": 136,
   "metadata": {},
   "outputs": [
    {
     "name": "stdout",
     "output_type": "stream",
     "text": [
      "CPU times: user 16.1 s, sys: 220 ms, total: 16.3 s\n",
      "Wall time: 16.1 s\n"
     ]
    }
   ],
   "source": [
    "%%time\n",
    "lgr = LogisticRegression(random_state=42,n_jobs=-1).fit(df_train[f_to_use2],df_train['labels'].values)\n",
    "# train_pred = lgr.predict_proba(df_train[f_to_use2])[:,1]\n",
    "val_pred_lgr = lgr.predict_proba(df_val[f_to_use2])[:,1]\n",
    "# train_auc = roc_auc_score(df_train['labels'].values,train_pred)\n",
    "# val_auc = roc_auc_score(df_val['labels'].values,val_pred)\n",
    "# print ('train auc is {:.3f}; val auc is {:.3f}'.format(train_auc,val_auc))"
   ]
  },
  {
   "cell_type": "code",
   "execution_count": 137,
   "metadata": {},
   "outputs": [
    {
     "data": {
      "text/plain": [
       "0.13574313519047465"
      ]
     },
     "execution_count": 137,
     "metadata": {},
     "output_type": "execute_result"
    }
   ],
   "source": [
    "avg_f1_score(df_val,val_pred_lgr)"
   ]
  },
  {
   "cell_type": "code",
   "execution_count": 139,
   "metadata": {},
   "outputs": [
    {
     "data": {
      "text/plain": [
       "0.84075227988515633"
      ]
     },
     "execution_count": 139,
     "metadata": {},
     "output_type": "execute_result"
    }
   ],
   "source": [
    "auc_score(df_val,val_pred_lgr)"
   ]
  },
  {
   "cell_type": "markdown",
   "metadata": {},
   "source": [
    "### basic lgb model"
   ]
  },
  {
   "cell_type": "code",
   "execution_count": 120,
   "metadata": {},
   "outputs": [
    {
     "name": "stdout",
     "output_type": "stream",
     "text": [
      "CPU times: user 1min 29s, sys: 272 ms, total: 1min 29s\n",
      "Wall time: 11.6 s\n"
     ]
    }
   ],
   "source": [
    "%%time\n",
    "d_train = lgb.Dataset(df_train[f_to_use2],label=df_train['labels'].values)\n",
    "\n",
    "params = {\n",
    "    'task': 'train',\n",
    "    'boosting_type': 'gbdt',\n",
    "    'objective': 'binary',\n",
    "    'metric': {'binary_logloss'},\n",
    "    'num_leaves': 96,\n",
    "    'max_depth': 10,\n",
    "    'feature_fraction': 0.9,\n",
    "    'bagging_fraction': 0.95,\n",
    "    'bagging_freq': 5\n",
    "}\n",
    "ROUNDS = 100\n",
    "bst = lgb.train(params, d_train, ROUNDS)\n",
    "# lgb.plot_importance(bst, figsize=(9,20))\n",
    "val_pred_lgb = bst.predict(df_val[f_to_use2])"
   ]
  },
  {
   "cell_type": "code",
   "execution_count": 123,
   "metadata": {},
   "outputs": [
    {
     "data": {
      "text/plain": [
       "0.17464065942417362"
      ]
     },
     "execution_count": 123,
     "metadata": {},
     "output_type": "execute_result"
    }
   ],
   "source": [
    "avg_f1_score(df_val,val_pred_lgb)"
   ]
  },
  {
   "cell_type": "code",
   "execution_count": 133,
   "metadata": {},
   "outputs": [
    {
     "data": {
      "text/plain": [
       "0.87639669316758861"
      ]
     },
     "execution_count": 133,
     "metadata": {},
     "output_type": "execute_result"
    }
   ],
   "source": [
    "auc_score(df_val,val_pred_lgb)"
   ]
  },
  {
   "cell_type": "markdown",
   "metadata": {},
   "source": [
    "### basic ramdom forest model"
   ]
  },
  {
   "cell_type": "code",
   "execution_count": 129,
   "metadata": {},
   "outputs": [
    {
     "name": "stdout",
     "output_type": "stream",
     "text": [
      "CPU times: user 4min 10s, sys: 1.52 s, total: 4min 12s\n",
      "Wall time: 34.4 s\n"
     ]
    }
   ],
   "source": [
    "%%time\n",
    "rfc = RandomForestClassifier(random_state = 42, n_estimators=100, max_depth = 5, n_jobs=-1).\\\n",
    "        fit(df_train[f_to_use2],df_train['labels'].values)\n",
    "val_pred_rf = rfc.predict_proba(df_val[f_to_use2])[:,1]"
   ]
  },
  {
   "cell_type": "code",
   "execution_count": 131,
   "metadata": {},
   "outputs": [
    {
     "data": {
      "text/plain": [
       "0.17774172524686477"
      ]
     },
     "execution_count": 131,
     "metadata": {},
     "output_type": "execute_result"
    }
   ],
   "source": [
    "avg_f1_score(df_val,val_pred_rf)"
   ]
  },
  {
   "cell_type": "code",
   "execution_count": 134,
   "metadata": {},
   "outputs": [
    {
     "data": {
      "text/plain": [
       "0.86569471006487864"
      ]
     },
     "execution_count": 134,
     "metadata": {},
     "output_type": "execute_result"
    }
   ],
   "source": [
    "auc_score(df_val,val_pred_rf)"
   ]
  },
  {
   "cell_type": "markdown",
   "metadata": {},
   "source": [
    "### basic xgb model"
   ]
  },
  {
   "cell_type": "code",
   "execution_count": 144,
   "metadata": {},
   "outputs": [
    {
     "name": "stdout",
     "output_type": "stream",
     "text": [
      "[0]\ttrain-logloss:0.600244\n",
      "[10]\ttrain-logloss:0.189612\n",
      "[20]\ttrain-logloss:0.079399\n",
      "[30]\ttrain-logloss:0.043941\n",
      "[40]\ttrain-logloss:0.032301\n",
      "[50]\ttrain-logloss:0.028549\n",
      "[60]\ttrain-logloss:0.027333\n",
      "[70]\ttrain-logloss:0.026877\n",
      "[80]\ttrain-logloss:0.026668\n",
      "[90]\ttrain-logloss:0.026548\n",
      "CPU times: user 7min 30s, sys: 2.01 s, total: 7min 32s\n",
      "Wall time: 58.2 s\n"
     ]
    }
   ],
   "source": [
    "%%time\n",
    "d_train = xgb.DMatrix(df_train[f_to_use2],label=df_train['labels'].values)\n",
    "\n",
    "xgb_params = {\n",
    "    \"objective\"         : \"reg:logistic\"\n",
    "    ,\"eval_metric\"      : \"logloss\"\n",
    "    ,\"eta\"              : 0.1\n",
    "    ,\"max_depth\"        : 6\n",
    "    ,\"min_child_weight\" :10\n",
    "    ,\"gamma\"            :0.70\n",
    "    ,\"subsample\"        :0.76\n",
    "    ,\"colsample_bytree\" :0.95\n",
    "    ,\"alpha\"            :2e-05\n",
    "    ,\"lambda\"           :10\n",
    "}\n",
    "ROUNDS = 100\n",
    "watchlist= [(d_train, \"train\")]\n",
    "bst = xgb.train(params=xgb_params, dtrain=d_train, num_boost_round=ROUNDS, evals=watchlist, verbose_eval=10)\n",
    "# xgboost.plot_importance(bst)\n",
    "# val_pred_xgb = bst.predict(df_val[f_to_use2])"
   ]
  },
  {
   "cell_type": "code",
   "execution_count": 146,
   "metadata": {
    "collapsed": true
   },
   "outputs": [],
   "source": [
    "val_pred_xgb = bst.predict(xgb.DMatrix(df_val[f_to_use2]))"
   ]
  },
  {
   "cell_type": "code",
   "execution_count": 147,
   "metadata": {},
   "outputs": [
    {
     "data": {
      "text/plain": [
       "0.183218766311179"
      ]
     },
     "execution_count": 147,
     "metadata": {},
     "output_type": "execute_result"
    }
   ],
   "source": [
    "avg_f1_score(df_val,val_pred_xgb)"
   ]
  },
  {
   "cell_type": "code",
   "execution_count": 148,
   "metadata": {},
   "outputs": [
    {
     "data": {
      "text/plain": [
       "0.87874221350447901"
      ]
     },
     "execution_count": 148,
     "metadata": {},
     "output_type": "execute_result"
    }
   ],
   "source": [
    "auc_score(df_val,val_pred_xgb)"
   ]
  },
  {
   "cell_type": "code",
   "execution_count": null,
   "metadata": {
    "collapsed": true
   },
   "outputs": [],
   "source": []
  }
 ],
 "metadata": {
  "kernelspec": {
   "display_name": "Python 3",
   "language": "python",
   "name": "python3"
  },
  "language_info": {
   "codemirror_mode": {
    "name": "ipython",
    "version": 3
   },
   "file_extension": ".py",
   "mimetype": "text/x-python",
   "name": "python",
   "nbconvert_exporter": "python",
   "pygments_lexer": "ipython3",
   "version": "3.6.1"
  }
 },
 "nbformat": 4,
 "nbformat_minor": 2
}
