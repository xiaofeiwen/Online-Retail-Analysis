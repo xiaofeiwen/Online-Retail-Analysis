{
 "cells": [
  {
   "cell_type": "code",
   "execution_count": 1,
   "metadata": {
    "collapsed": true
   },
   "outputs": [],
   "source": [
    "import pandas as pd\n",
    "import numpy as np\n",
    "np.random.seed(42)"
   ]
  },
  {
   "cell_type": "code",
   "execution_count": 2,
   "metadata": {
    "collapsed": false
   },
   "outputs": [],
   "source": [
    "# store the data to hdf format for faster I/O\n",
    "# df = pd.read_excel(\"../data/Online Retail.xlsx\")\n",
    "# df.to_hdf('../data/online_retail.h5','original')"
   ]
  },
  {
   "cell_type": "code",
   "execution_count": 3,
   "metadata": {
    "collapsed": false
   },
   "outputs": [],
   "source": [
    "df_original = pd.read_hdf('../data/online_retail.h5','original')\n",
    "# df_original.head()"
   ]
  },
  {
   "cell_type": "code",
   "execution_count": 4,
   "metadata": {
    "collapsed": false
   },
   "outputs": [
    {
     "data": {
      "text/plain": [
       "InvoiceNo           0\n",
       "StockCode           0\n",
       "Description      1454\n",
       "Quantity            0\n",
       "InvoiceDate         0\n",
       "UnitPrice           0\n",
       "CustomerID     135080\n",
       "Country             0\n",
       "dtype: int64"
      ]
     },
     "execution_count": 4,
     "metadata": {},
     "output_type": "execute_result"
    }
   ],
   "source": [
    "# count missing values\n",
    "df_original.isnull().sum()"
   ]
  },
  {
   "cell_type": "code",
   "execution_count": 5,
   "metadata": {
    "collapsed": false
   },
   "outputs": [],
   "source": [
    "# remove rows without a customer id\n",
    "df = df_original[df_original.CustomerID.notnull()].copy()\n",
    "\n",
    "# convert columns to appropriate data types\n",
    "df.CustomerID = df.CustomerID.astype(np.int16)\n",
    "\n",
    "# remove canceled items\n",
    "canceled = df[df.Quantity < 0]\n",
    "canceled = canceled[['CustomerID','StockCode','Quantity']]\n",
    "df = df.merge(canceled,how='left',on=['CustomerID','StockCode'],suffixes=('', '_c'))\n",
    "df.Quantity_c = df.Quantity_c.fillna(0)\n",
    "df.Quantity = df.Quantity + df.Quantity_c\n",
    "df = df.drop('Quantity_c',1)\n",
    "\n",
    "# remove non-commodity rows\n",
    "df = df[(df.Quantity > 0) & (~df.StockCode.isin(['BANK CHARGES', 'C2', 'DOT', 'PADS', 'POST','M']))]\n",
    "\n",
    "# remove customers with less then 4 orders\n",
    "num_invoices = df.groupby('CustomerID')['InvoiceNo'].unique().apply(len)\n",
    "customers_to_use = num_invoices[num_invoices > 3].index\n",
    "df = df[df.CustomerID.isin(customers_to_use)]\n",
    "# df.to_hdf('../data/online_retail.h5','clean')\n",
    "# df.head()"
   ]
  },
  {
   "cell_type": "code",
   "execution_count": 6,
   "metadata": {
    "collapsed": false
   },
   "outputs": [],
   "source": [
    "# extract products and customers to seperate tables\n",
    "products = df[['StockCode','Description']].sort_values(['StockCode','Description']).drop_duplicates('StockCode')\n",
    "customers = df.sort_values('CustomerID')[['CustomerID','Country']].drop_duplicates('CustomerID')"
   ]
  },
  {
   "cell_type": "code",
   "execution_count": 7,
   "metadata": {
    "collapsed": false
   },
   "outputs": [
    {
     "name": "stderr",
     "output_type": "stream",
     "text": [
      "C:\\Users\\xwen\\AppData\\Local\\Continuum\\Anaconda3\\lib\\site-packages\\pandas\\core\\indexing.py:141: SettingWithCopyWarning: \n",
      "A value is trying to be set on a copy of a slice from a DataFrame\n",
      "\n",
      "See the caveats in the documentation: http://pandas.pydata.org/pandas-docs/stable/indexing.html#indexing-view-versus-copy\n",
      "  self._setitem_with_indexer(indexer, value)\n"
     ]
    }
   ],
   "source": [
    "# extract orders to a seperate table\n",
    "orders = df[['CustomerID','InvoiceNo','InvoiceDate']].sort_values(['CustomerID','InvoiceDate']).drop_duplicates('InvoiceNo')\n",
    "\n",
    "# create new features based on the InvoiceDate feature\n",
    "orders['order_number'] = orders.groupby('CustomerID').cumcount() + 1\n",
    "orders['order_dow'] = orders.InvoiceDate.dt.dayofweek\n",
    "orders['order_hour_of_day'] = orders.InvoiceDate.dt.hour\n",
    "orders['days_since_prior'] = (orders.InvoiceDate - orders.groupby('CustomerID')['InvoiceDate'].shift(1)).dt.days\n",
    "\n",
    "# split all orders into 'prior', 'train' and 'test'\n",
    "last_orders = orders.groupby('CustomerID')['order_number'].max().reset_index()\n",
    "n_customers = last_orders.shape[0]\n",
    "split_point = int(np.ceil(n_customers * 0.8))\n",
    "random_index = np.random.choice(n_customers,n_customers,replace=False)\n",
    "train_index = random_index[:split_point]\n",
    "test_index = random_index[split_point:]\n",
    "last_orders['eval_set'] = 'placeholder'\n",
    "last_orders['eval_set'].iloc[train_index] = 'train'\n",
    "last_orders['eval_set'].iloc[test_index] = 'test'\n",
    "orders = orders.merge(last_orders,how='left',on=['CustomerID','order_number'])\n",
    "orders.eval_set = orders.eval_set.fillna('prior')\n",
    "# orders.head()"
   ]
  },
  {
   "cell_type": "code",
   "execution_count": 8,
   "metadata": {
    "collapsed": false
   },
   "outputs": [],
   "source": [
    "# create a new table to show what products are in each order\n",
    "# and calculate add to cart order\n",
    "order_products = df[['InvoiceNo','StockCode','Quantity']].copy()\n",
    "order_products['add_to_cart_order'] = order_products.groupby('InvoiceNo').cumcount() + 1\n",
    "order_products = order_products.merge(orders[['InvoiceNo','eval_set']],how='left',on='InvoiceNo')\n",
    "# order_products.head()"
   ]
  },
  {
   "cell_type": "code",
   "execution_count": 1,
   "metadata": {
    "collapsed": false
   },
   "outputs": [],
   "source": [
    "# calculate whether a product has been ordered before\n",
    "# takes more than 20 minutes\n",
    "def previous_orders(InvoiceNo):\n",
    "    row = orders[orders.InvoiceNo == InvoiceNo]\n",
    "    CustomerID = int(row.CustomerID)\n",
    "    order_number = int(row.order_number)\n",
    "    prev_ord_nums = range(1,order_number)\n",
    "    df = orders[(orders.CustomerID == CustomerID)&(orders.order_number.isin(prev_ord_nums))]\n",
    "    return df.InvoiceNo.values\n",
    "\n",
    "def previous_items(InvoiceNo):\n",
    "    prev_ord = previous_orders(InvoiceNo)\n",
    "    df = order_products[order_products.InvoiceNo.isin(prev_ord)]\n",
    "    return df.StockCode.unique()\n",
    "\n",
    "prev_item_dict = {}\n",
    "count = 0\n",
    "for inv_no in orders.InvoiceNo.unique():\n",
    "    prev_item_dict[inv_no] = previous_items(inv_no)\n",
    "\n",
    "order_products['reordered'] = -1\n",
    "for i in range(order_products.shape[0]):\n",
    "    row = order_products.iloc[i]\n",
    "    prev_items = prev_item_dict[row.InvoiceNo]\n",
    "    order_products.iloc[i,-1] = int(row.StockCode in prev_items)"
   ]
  },
  {
   "cell_type": "code",
   "execution_count": 5,
   "metadata": {
    "collapsed": false
   },
   "outputs": [],
   "source": [
    "# save data to hdf\n",
    "# orders.to_hdf('../data/online_retail.h5','orders')\n",
    "# products.to_hdf('../data/online_retail.h5','products')\n",
    "# customers.to_hdf('../data/online_retail.h5','customers')\n",
    "# order_products.to_hdf('../data/online_retail.h5','order_products')"
   ]
  }
 ],
 "metadata": {
  "kernelspec": {
   "display_name": "Python 3",
   "language": "python",
   "name": "python3"
  },
  "language_info": {
   "codemirror_mode": {
    "name": "ipython",
    "version": 3
   },
   "file_extension": ".py",
   "mimetype": "text/x-python",
   "name": "python",
   "nbconvert_exporter": "python",
   "pygments_lexer": "ipython3",
   "version": "3.6.0"
  }
 },
 "nbformat": 4,
 "nbformat_minor": 2
}
