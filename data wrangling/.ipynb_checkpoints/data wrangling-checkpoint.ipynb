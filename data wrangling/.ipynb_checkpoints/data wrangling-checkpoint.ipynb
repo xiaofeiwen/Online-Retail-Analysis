{
 "cells": [
  {
   "cell_type": "code",
   "execution_count": 1,
   "metadata": {
    "collapsed": true
   },
   "outputs": [],
   "source": [
    "import pandas as pd\n",
    "import numpy as np\n",
    "np.random.seed(42)"
   ]
  },
  {
   "cell_type": "code",
   "execution_count": 2,
   "metadata": {
    "collapsed": false
   },
   "outputs": [
    {
     "data": {
      "text/plain": [
       "InvoiceNo           0\n",
       "StockCode           0\n",
       "Description      1454\n",
       "Quantity            0\n",
       "InvoiceDate         0\n",
       "UnitPrice           0\n",
       "CustomerID     135080\n",
       "Country             0\n",
       "dtype: int64"
      ]
     },
     "execution_count": 2,
     "metadata": {},
     "output_type": "execute_result"
    }
   ],
   "source": [
    "# store the data to hdf format for faster I/O\n",
    "# df = pd.read_excel(\"../data/Online Retail.xlsx\")\n",
    "# df.to_hdf('../data/online_retail.h5','original')\n",
    "df_original = pd.read_hdf('../data/online_retail.h5','original')\n",
    "\n",
    "# count missing values\n",
    "df_original.isnull().sum()"
   ]
  },
  {
   "cell_type": "code",
   "execution_count": 3,
   "metadata": {
    "collapsed": false
   },
   "outputs": [],
   "source": [
    "# remove rows without a customer id\n",
    "df_clean = df_original[df_original.CustomerID.notnull()].copy()\n",
    "\n",
    "# convert columns to appropriate data types\n",
    "df_clean.CustomerID = df_clean.CustomerID.astype(int)\n",
    "df_clean.StockCode = df_clean.StockCode.apply(str)\n",
    "\n",
    "# remove canceled items\n",
    "canceled = df_clean[df_clean.Quantity < 0]\n",
    "canceled = canceled[['CustomerID','StockCode','Quantity']]\n",
    "df_clean = df_clean.merge(canceled,how='left',on=['CustomerID','StockCode'],suffixes=('', '_c'))\n",
    "df_clean.Quantity_c = df_clean.Quantity_c.fillna(0)\n",
    "df_clean.Quantity = df_clean.Quantity + df_clean.Quantity_c\n",
    "df_clean.drop('Quantity_c',axis=1,inplace=True)\n",
    "\n",
    "# remove non-commodity rows\n",
    "df_clean = df_clean[(df_clean.Quantity > 0) & (~df_clean.StockCode.isin(['BANK CHARGES', 'C2', 'DOT', 'PADS', 'POST','M']))]\n",
    "\n",
    "unique_StockCode = df_clean.StockCode.apply(str).sort_values().unique()\n",
    "new_StockCode_df = pd.DataFrame({'StockCode':unique_StockCode,'NewStockCode':np.arange(len(unique_StockCode))})\n",
    "new_StockCode_df.NewStockCode = new_StockCode_df.NewStockCode.astype(int)\n",
    "df_clean = df_clean.merge(new_StockCode_df,how = 'left',on='StockCode')\n",
    "\n",
    "# remove customers with less then 4 orders\n",
    "num_invoices = df_clean.groupby('CustomerID')['InvoiceNo'].unique().apply(len)\n",
    "customers_to_use = num_invoices[num_invoices > 3].index\n",
    "df_clean = df_clean[df_clean.CustomerID.isin(customers_to_use)]\n",
    "\n",
    "# combine duplicated products in each invoice\n",
    "df_clean.Quantity = df_clean.Quantity.astype(int)\n",
    "sum_Quantity = pd.DataFrame(df_clean.groupby(['InvoiceNo','NewStockCode'])['Quantity'].sum())\n",
    "df_clean = df_clean.set_index(['InvoiceNo','NewStockCode']).\\\n",
    "        merge(sum_Quantity,left_index=True,right_index=True,suffixes=('_', '')).reset_index()\n",
    "df_clean.drop_duplicates(['InvoiceNo','NewStockCode'],inplace=True)\n",
    "df_clean.drop('Quantity_',axis=1,inplace=True)\n",
    "# df.head()"
   ]
  },
  {
   "cell_type": "code",
   "execution_count": 4,
   "metadata": {
    "collapsed": false
   },
   "outputs": [],
   "source": [
    "# extract products and customers to seperate tables\n",
    "products = df_clean[['NewStockCode','Description']].sort_values(['NewStockCode','Description']).\\\n",
    "            drop_duplicates('NewStockCode').reset_index(drop=True)\n",
    "customers = df_clean.sort_values('CustomerID')[['CustomerID','Country']].drop_duplicates('CustomerID').reset_index(drop=True)"
   ]
  },
  {
   "cell_type": "code",
   "execution_count": 5,
   "metadata": {
    "collapsed": false
   },
   "outputs": [
    {
     "name": "stderr",
     "output_type": "stream",
     "text": [
      "C:\\Users\\xwen\\AppData\\Local\\Continuum\\Anaconda3\\lib\\site-packages\\pandas\\core\\indexing.py:141: SettingWithCopyWarning: \n",
      "A value is trying to be set on a copy of a slice from a DataFrame\n",
      "\n",
      "See the caveats in the documentation: http://pandas.pydata.org/pandas-docs/stable/indexing.html#indexing-view-versus-copy\n",
      "  self._setitem_with_indexer(indexer, value)\n"
     ]
    }
   ],
   "source": [
    "# extract orders to a seperate table\n",
    "orders = df_clean[['CustomerID','InvoiceNo','InvoiceDate']].sort_values(['CustomerID','InvoiceDate']).\\\n",
    "            drop_duplicates('InvoiceNo')\n",
    "\n",
    "# create new features based on the InvoiceDate feature\n",
    "orders['order_number'] = orders.groupby('CustomerID').cumcount() + 1\n",
    "orders['order_dow'] = orders.InvoiceDate.dt.dayofweek\n",
    "orders['order_hour_of_day'] = orders.InvoiceDate.dt.hour\n",
    "orders['days_since_prior_order'] = (orders.InvoiceDate - orders.groupby('CustomerID')['InvoiceDate'].shift(1)).dt.days\n",
    "\n",
    "# split all orders into 'prior', 'train' and 'test'\n",
    "last_orders = orders.groupby('CustomerID')['order_number'].max().reset_index()\n",
    "n_customers = last_orders.shape[0]\n",
    "split_point = int(np.ceil(n_customers * 0.8))\n",
    "random_index = np.random.choice(n_customers,n_customers,replace=False)\n",
    "train_index = random_index[:split_point]\n",
    "test_index = random_index[split_point:]\n",
    "last_orders['eval_set'] = 'placeholder'\n",
    "last_orders['eval_set'].iloc[train_index] = 'train'\n",
    "last_orders['eval_set'].iloc[test_index] = 'test'\n",
    "orders = orders.merge(last_orders,how='left',on=['CustomerID','order_number'])\n",
    "orders.eval_set = orders.eval_set.fillna('prior')\n",
    "# orders.head()"
   ]
  },
  {
   "cell_type": "code",
   "execution_count": 6,
   "metadata": {
    "collapsed": false
   },
   "outputs": [],
   "source": [
    "# create a new table to show what products are in each order\n",
    "# and calculate add to cart order\n",
    "order_products = df_clean[['InvoiceNo','NewStockCode','Quantity','UnitPrice']].copy()\n",
    "order_products['add_to_cart_order'] = order_products.groupby('InvoiceNo').cumcount() + 1\n",
    "order_products = order_products.merge(orders[['InvoiceNo','eval_set']],how='left',on='InvoiceNo')\n",
    "# order_products.head()"
   ]
  },
  {
   "cell_type": "code",
   "execution_count": 7,
   "metadata": {
    "collapsed": false
   },
   "outputs": [],
   "source": [
    "d = {}\n",
    "for row in order_products.itertuples():\n",
    "    InvoiceNo = row.InvoiceNo\n",
    "    try:\n",
    "        d[InvoiceNo] += ' ' + str(row.NewStockCode)\n",
    "    except:\n",
    "        d[InvoiceNo] = str(row.NewStockCode)\n",
    "\n",
    "order_products_compact = pd.DataFrame.from_dict(d, orient='index')\n",
    "\n",
    "order_products_compact.reset_index(inplace=True)\n",
    "order_products_compact.columns = ['InvoiceNo', 'NewStockCode']\n",
    "order_products_compact.NewStockCode = order_products_compact.NewStockCode.str.split()\n",
    "order_products_compact.sort_values('InvoiceNo',inplace=True)\n",
    "order_products_compact = order_products_compact.merge(orders[['InvoiceNo','eval_set']],how='left',on='InvoiceNo')"
   ]
  },
  {
   "cell_type": "code",
   "execution_count": 8,
   "metadata": {
    "collapsed": false
   },
   "outputs": [
    {
     "name": "stdout",
     "output_type": "stream",
     "text": [
      "Wall time: 15min 1s\n"
     ]
    }
   ],
   "source": [
    "%%time\n",
    "# calculate whether a product has been ordered before\n",
    "# takes a long time\n",
    "def previous_orders(InvoiceNo):\n",
    "    row = orders[orders.InvoiceNo == InvoiceNo]\n",
    "    CustomerID = int(row.CustomerID)\n",
    "    order_number = int(row.order_number)\n",
    "    prev_ord_nums = range(1,order_number)\n",
    "    df = orders[(orders.CustomerID == CustomerID)&(orders.order_number.isin(prev_ord_nums))]\n",
    "    return df.InvoiceNo.values\n",
    "\n",
    "def previous_items(InvoiceNo):\n",
    "    prev_ord = previous_orders(InvoiceNo)\n",
    "    df = order_products[order_products.InvoiceNo.isin(prev_ord)]\n",
    "    return df.NewStockCode.unique()\n",
    "\n",
    "prev_item_dict = {}\n",
    "count = 0\n",
    "for inv_no in orders.InvoiceNo.values:\n",
    "    prev_item_dict[inv_no] = previous_items(inv_no)\n",
    "\n",
    "order_products['reordered'] = -1\n",
    "for i in range(order_products.shape[0]):\n",
    "    prev_items = prev_item_dict[order_products.iloc[i].InvoiceNo]\n",
    "    order_products.iloc[i,-1] = int(row.NewStockCode in prev_items)"
   ]
  },
  {
   "cell_type": "code",
   "execution_count": 34,
   "metadata": {
    "collapsed": true
   },
   "outputs": [],
   "source": [
    "# rename columns to make them cleaner and easier to understand\n",
    "df_clean.columns = ['order_id', 'product_id', 'product_id_original', 'description', 'order_date',\n",
    "                   'unit_price', 'user_id', 'country', 'quantity']\n",
    "orders.columns = ['user_id', 'order_id', 'order_date', 'order_number', 'order_dow',\n",
    "                   'order_hour_of_day', 'days_since_prior_order', 'eval_set']\n",
    "products.columns = ['product_id', 'description']\n",
    "customers.columns = ['user_id', 'country']\n",
    "order_products.columns = ['order_id', 'product_id', 'quantity', 'unit_price', 'add_to_cart_order', 'eval_set', 'reordered']\n",
    "order_products_compact.columns = ['order_id', 'product_id', 'eval_set']"
   ]
  },
  {
   "cell_type": "code",
   "execution_count": 35,
   "metadata": {
    "collapsed": false
   },
   "outputs": [
    {
     "name": "stderr",
     "output_type": "stream",
     "text": [
      "C:\\Users\\xwen\\AppData\\Local\\Continuum\\Anaconda3\\lib\\site-packages\\pandas\\core\\generic.py:1138: PerformanceWarning: \n",
      "your performance may suffer as PyTables will pickle object types that it cannot\n",
      "map directly to c-types [inferred_type->mixed,key->block1_values] [items->['product_id', 'eval_set']]\n",
      "\n",
      "  return pytables.to_hdf(path_or_buf, key, self, **kwargs)\n"
     ]
    }
   ],
   "source": [
    "# save data to hdf\n",
    "df_clean.to_hdf('../data/online_retail.h5','clean')\n",
    "orders.to_hdf('../data/online_retail.h5','orders')\n",
    "products.to_hdf('../data/online_retail.h5','products')\n",
    "customers.to_hdf('../data/online_retail.h5','customers')\n",
    "order_products.to_hdf('../data/online_retail.h5','order_products')\n",
    "order_products_compact.to_hdf('../data/online_retail.h5','order_products_compact')"
   ]
  },
  {
   "cell_type": "code",
   "execution_count": 36,
   "metadata": {
    "collapsed": false
   },
   "outputs": [
    {
     "data": {
      "text/html": [
       "<div>\n",
       "<table border=\"1\" class=\"dataframe\">\n",
       "  <thead>\n",
       "    <tr style=\"text-align: right;\">\n",
       "      <th></th>\n",
       "      <th>order_id</th>\n",
       "      <th>product_id</th>\n",
       "      <th>product_id_original</th>\n",
       "      <th>description</th>\n",
       "      <th>order_date</th>\n",
       "      <th>unit_price</th>\n",
       "      <th>user_id</th>\n",
       "      <th>country</th>\n",
       "      <th>quantity</th>\n",
       "    </tr>\n",
       "  </thead>\n",
       "  <tbody>\n",
       "    <tr>\n",
       "      <th>0</th>\n",
       "      <td>536365</td>\n",
       "      <td>749</td>\n",
       "      <td>21730</td>\n",
       "      <td>GLASS STAR FROSTED T-LIGHT HOLDER</td>\n",
       "      <td>2010-12-01 08:26:00</td>\n",
       "      <td>4.25</td>\n",
       "      <td>17850</td>\n",
       "      <td>United Kingdom</td>\n",
       "      <td>10</td>\n",
       "    </tr>\n",
       "    <tr>\n",
       "      <th>2</th>\n",
       "      <td>536365</td>\n",
       "      <td>1599</td>\n",
       "      <td>22752</td>\n",
       "      <td>SET 7 BABUSHKA NESTING BOXES</td>\n",
       "      <td>2010-12-01 08:26:00</td>\n",
       "      <td>7.65</td>\n",
       "      <td>17850</td>\n",
       "      <td>United Kingdom</td>\n",
       "      <td>2</td>\n",
       "    </tr>\n",
       "    <tr>\n",
       "      <th>3</th>\n",
       "      <td>536365</td>\n",
       "      <td>2639</td>\n",
       "      <td>71053</td>\n",
       "      <td>WHITE METAL LANTERN</td>\n",
       "      <td>2010-12-01 08:26:00</td>\n",
       "      <td>3.39</td>\n",
       "      <td>17850</td>\n",
       "      <td>United Kingdom</td>\n",
       "      <td>6</td>\n",
       "    </tr>\n",
       "    <tr>\n",
       "      <th>4</th>\n",
       "      <td>536365</td>\n",
       "      <td>2789</td>\n",
       "      <td>84029E</td>\n",
       "      <td>RED WOOLLY HOTTIE WHITE HEART.</td>\n",
       "      <td>2010-12-01 08:26:00</td>\n",
       "      <td>3.39</td>\n",
       "      <td>17850</td>\n",
       "      <td>United Kingdom</td>\n",
       "      <td>6</td>\n",
       "    </tr>\n",
       "    <tr>\n",
       "      <th>5</th>\n",
       "      <td>536365</td>\n",
       "      <td>2790</td>\n",
       "      <td>84029G</td>\n",
       "      <td>KNITTED UNION FLAG HOT WATER BOTTLE</td>\n",
       "      <td>2010-12-01 08:26:00</td>\n",
       "      <td>3.39</td>\n",
       "      <td>17850</td>\n",
       "      <td>United Kingdom</td>\n",
       "      <td>6</td>\n",
       "    </tr>\n",
       "  </tbody>\n",
       "</table>\n",
       "</div>"
      ],
      "text/plain": [
       "   order_id  product_id product_id_original  \\\n",
       "0    536365         749               21730   \n",
       "2    536365        1599               22752   \n",
       "3    536365        2639               71053   \n",
       "4    536365        2789              84029E   \n",
       "5    536365        2790              84029G   \n",
       "\n",
       "                           description          order_date  unit_price  \\\n",
       "0    GLASS STAR FROSTED T-LIGHT HOLDER 2010-12-01 08:26:00        4.25   \n",
       "2         SET 7 BABUSHKA NESTING BOXES 2010-12-01 08:26:00        7.65   \n",
       "3                  WHITE METAL LANTERN 2010-12-01 08:26:00        3.39   \n",
       "4       RED WOOLLY HOTTIE WHITE HEART. 2010-12-01 08:26:00        3.39   \n",
       "5  KNITTED UNION FLAG HOT WATER BOTTLE 2010-12-01 08:26:00        3.39   \n",
       "\n",
       "   user_id         country  quantity  \n",
       "0    17850  United Kingdom        10  \n",
       "2    17850  United Kingdom         2  \n",
       "3    17850  United Kingdom         6  \n",
       "4    17850  United Kingdom         6  \n",
       "5    17850  United Kingdom         6  "
      ]
     },
     "execution_count": 36,
     "metadata": {},
     "output_type": "execute_result"
    }
   ],
   "source": [
    "df_clean.head()"
   ]
  },
  {
   "cell_type": "code",
   "execution_count": 37,
   "metadata": {
    "collapsed": false
   },
   "outputs": [
    {
     "data": {
      "text/html": [
       "<div>\n",
       "<table border=\"1\" class=\"dataframe\">\n",
       "  <thead>\n",
       "    <tr style=\"text-align: right;\">\n",
       "      <th></th>\n",
       "      <th>user_id</th>\n",
       "      <th>order_id</th>\n",
       "      <th>order_date</th>\n",
       "      <th>order_number</th>\n",
       "      <th>order_dow</th>\n",
       "      <th>order_hour_of_day</th>\n",
       "      <th>days_since_prior_order</th>\n",
       "      <th>eval_set</th>\n",
       "    </tr>\n",
       "  </thead>\n",
       "  <tbody>\n",
       "    <tr>\n",
       "      <th>0</th>\n",
       "      <td>12347</td>\n",
       "      <td>537626</td>\n",
       "      <td>2010-12-07 14:57:00</td>\n",
       "      <td>1</td>\n",
       "      <td>1</td>\n",
       "      <td>14</td>\n",
       "      <td>NaN</td>\n",
       "      <td>prior</td>\n",
       "    </tr>\n",
       "    <tr>\n",
       "      <th>1</th>\n",
       "      <td>12347</td>\n",
       "      <td>542237</td>\n",
       "      <td>2011-01-26 14:30:00</td>\n",
       "      <td>2</td>\n",
       "      <td>2</td>\n",
       "      <td>14</td>\n",
       "      <td>49.0</td>\n",
       "      <td>prior</td>\n",
       "    </tr>\n",
       "    <tr>\n",
       "      <th>2</th>\n",
       "      <td>12347</td>\n",
       "      <td>549222</td>\n",
       "      <td>2011-04-07 10:43:00</td>\n",
       "      <td>3</td>\n",
       "      <td>3</td>\n",
       "      <td>10</td>\n",
       "      <td>70.0</td>\n",
       "      <td>prior</td>\n",
       "    </tr>\n",
       "    <tr>\n",
       "      <th>3</th>\n",
       "      <td>12347</td>\n",
       "      <td>556201</td>\n",
       "      <td>2011-06-09 13:01:00</td>\n",
       "      <td>4</td>\n",
       "      <td>3</td>\n",
       "      <td>13</td>\n",
       "      <td>63.0</td>\n",
       "      <td>prior</td>\n",
       "    </tr>\n",
       "    <tr>\n",
       "      <th>4</th>\n",
       "      <td>12347</td>\n",
       "      <td>562032</td>\n",
       "      <td>2011-08-02 08:48:00</td>\n",
       "      <td>5</td>\n",
       "      <td>1</td>\n",
       "      <td>8</td>\n",
       "      <td>53.0</td>\n",
       "      <td>prior</td>\n",
       "    </tr>\n",
       "  </tbody>\n",
       "</table>\n",
       "</div>"
      ],
      "text/plain": [
       "   user_id  order_id          order_date  order_number  order_dow  \\\n",
       "0    12347    537626 2010-12-07 14:57:00             1          1   \n",
       "1    12347    542237 2011-01-26 14:30:00             2          2   \n",
       "2    12347    549222 2011-04-07 10:43:00             3          3   \n",
       "3    12347    556201 2011-06-09 13:01:00             4          3   \n",
       "4    12347    562032 2011-08-02 08:48:00             5          1   \n",
       "\n",
       "   order_hour_of_day  days_since_prior_order eval_set  \n",
       "0                 14                     NaN    prior  \n",
       "1                 14                    49.0    prior  \n",
       "2                 10                    70.0    prior  \n",
       "3                 13                    63.0    prior  \n",
       "4                  8                    53.0    prior  "
      ]
     },
     "execution_count": 37,
     "metadata": {},
     "output_type": "execute_result"
    }
   ],
   "source": [
    "orders.head()"
   ]
  },
  {
   "cell_type": "code",
   "execution_count": 38,
   "metadata": {
    "collapsed": false
   },
   "outputs": [
    {
     "data": {
      "text/html": [
       "<div>\n",
       "<table border=\"1\" class=\"dataframe\">\n",
       "  <thead>\n",
       "    <tr style=\"text-align: right;\">\n",
       "      <th></th>\n",
       "      <th>product_id</th>\n",
       "      <th>description</th>\n",
       "    </tr>\n",
       "  </thead>\n",
       "  <tbody>\n",
       "    <tr>\n",
       "      <th>0</th>\n",
       "      <td>0</td>\n",
       "      <td>INFLATABLE POLITICAL GLOBE</td>\n",
       "    </tr>\n",
       "    <tr>\n",
       "      <th>1</th>\n",
       "      <td>1</td>\n",
       "      <td>GROOVY CACTUS INFLATABLE</td>\n",
       "    </tr>\n",
       "    <tr>\n",
       "      <th>2</th>\n",
       "      <td>2</td>\n",
       "      <td>DOGGY RUBBER</td>\n",
       "    </tr>\n",
       "    <tr>\n",
       "      <th>3</th>\n",
       "      <td>3</td>\n",
       "      <td>HEARTS WRAPPING TAPE</td>\n",
       "    </tr>\n",
       "    <tr>\n",
       "      <th>4</th>\n",
       "      <td>4</td>\n",
       "      <td>SPOTS ON RED BOOKCOVER TAPE</td>\n",
       "    </tr>\n",
       "  </tbody>\n",
       "</table>\n",
       "</div>"
      ],
      "text/plain": [
       "   product_id                  description\n",
       "0           0  INFLATABLE POLITICAL GLOBE \n",
       "1           1     GROOVY CACTUS INFLATABLE\n",
       "2           2                 DOGGY RUBBER\n",
       "3           3        HEARTS WRAPPING TAPE \n",
       "4           4  SPOTS ON RED BOOKCOVER TAPE"
      ]
     },
     "execution_count": 38,
     "metadata": {},
     "output_type": "execute_result"
    }
   ],
   "source": [
    "products.head()"
   ]
  },
  {
   "cell_type": "code",
   "execution_count": 39,
   "metadata": {
    "collapsed": false
   },
   "outputs": [
    {
     "data": {
      "text/html": [
       "<div>\n",
       "<table border=\"1\" class=\"dataframe\">\n",
       "  <thead>\n",
       "    <tr style=\"text-align: right;\">\n",
       "      <th></th>\n",
       "      <th>user_id</th>\n",
       "      <th>country</th>\n",
       "    </tr>\n",
       "  </thead>\n",
       "  <tbody>\n",
       "    <tr>\n",
       "      <th>0</th>\n",
       "      <td>12347</td>\n",
       "      <td>Iceland</td>\n",
       "    </tr>\n",
       "    <tr>\n",
       "      <th>1</th>\n",
       "      <td>12348</td>\n",
       "      <td>Finland</td>\n",
       "    </tr>\n",
       "    <tr>\n",
       "      <th>2</th>\n",
       "      <td>12352</td>\n",
       "      <td>Norway</td>\n",
       "    </tr>\n",
       "    <tr>\n",
       "      <th>3</th>\n",
       "      <td>12359</td>\n",
       "      <td>Cyprus</td>\n",
       "    </tr>\n",
       "    <tr>\n",
       "      <th>4</th>\n",
       "      <td>12362</td>\n",
       "      <td>Belgium</td>\n",
       "    </tr>\n",
       "  </tbody>\n",
       "</table>\n",
       "</div>"
      ],
      "text/plain": [
       "   user_id  country\n",
       "0    12347  Iceland\n",
       "1    12348  Finland\n",
       "2    12352   Norway\n",
       "3    12359   Cyprus\n",
       "4    12362  Belgium"
      ]
     },
     "execution_count": 39,
     "metadata": {},
     "output_type": "execute_result"
    }
   ],
   "source": [
    "customers.head()"
   ]
  },
  {
   "cell_type": "code",
   "execution_count": 40,
   "metadata": {
    "collapsed": false
   },
   "outputs": [
    {
     "data": {
      "text/html": [
       "<div>\n",
       "<table border=\"1\" class=\"dataframe\">\n",
       "  <thead>\n",
       "    <tr style=\"text-align: right;\">\n",
       "      <th></th>\n",
       "      <th>order_id</th>\n",
       "      <th>product_id</th>\n",
       "      <th>quantity</th>\n",
       "      <th>unit_price</th>\n",
       "      <th>add_to_cart_order</th>\n",
       "      <th>eval_set</th>\n",
       "      <th>reordered</th>\n",
       "    </tr>\n",
       "  </thead>\n",
       "  <tbody>\n",
       "    <tr>\n",
       "      <th>0</th>\n",
       "      <td>536365</td>\n",
       "      <td>749</td>\n",
       "      <td>10</td>\n",
       "      <td>4.25</td>\n",
       "      <td>1</td>\n",
       "      <td>prior</td>\n",
       "      <td>0</td>\n",
       "    </tr>\n",
       "    <tr>\n",
       "      <th>1</th>\n",
       "      <td>536365</td>\n",
       "      <td>1599</td>\n",
       "      <td>2</td>\n",
       "      <td>7.65</td>\n",
       "      <td>2</td>\n",
       "      <td>prior</td>\n",
       "      <td>0</td>\n",
       "    </tr>\n",
       "    <tr>\n",
       "      <th>2</th>\n",
       "      <td>536365</td>\n",
       "      <td>2639</td>\n",
       "      <td>6</td>\n",
       "      <td>3.39</td>\n",
       "      <td>3</td>\n",
       "      <td>prior</td>\n",
       "      <td>0</td>\n",
       "    </tr>\n",
       "    <tr>\n",
       "      <th>3</th>\n",
       "      <td>536365</td>\n",
       "      <td>2789</td>\n",
       "      <td>6</td>\n",
       "      <td>3.39</td>\n",
       "      <td>4</td>\n",
       "      <td>prior</td>\n",
       "      <td>0</td>\n",
       "    </tr>\n",
       "    <tr>\n",
       "      <th>4</th>\n",
       "      <td>536365</td>\n",
       "      <td>2790</td>\n",
       "      <td>6</td>\n",
       "      <td>3.39</td>\n",
       "      <td>5</td>\n",
       "      <td>prior</td>\n",
       "      <td>0</td>\n",
       "    </tr>\n",
       "  </tbody>\n",
       "</table>\n",
       "</div>"
      ],
      "text/plain": [
       "   order_id  product_id  quantity  unit_price  add_to_cart_order eval_set  \\\n",
       "0    536365         749        10        4.25                  1    prior   \n",
       "1    536365        1599         2        7.65                  2    prior   \n",
       "2    536365        2639         6        3.39                  3    prior   \n",
       "3    536365        2789         6        3.39                  4    prior   \n",
       "4    536365        2790         6        3.39                  5    prior   \n",
       "\n",
       "   reordered  \n",
       "0          0  \n",
       "1          0  \n",
       "2          0  \n",
       "3          0  \n",
       "4          0  "
      ]
     },
     "execution_count": 40,
     "metadata": {},
     "output_type": "execute_result"
    }
   ],
   "source": [
    "order_products.head()"
   ]
  },
  {
   "cell_type": "code",
   "execution_count": 41,
   "metadata": {
    "collapsed": false
   },
   "outputs": [
    {
     "data": {
      "text/html": [
       "<div>\n",
       "<table border=\"1\" class=\"dataframe\">\n",
       "  <thead>\n",
       "    <tr style=\"text-align: right;\">\n",
       "      <th></th>\n",
       "      <th>order_id</th>\n",
       "      <th>product_id</th>\n",
       "      <th>eval_set</th>\n",
       "    </tr>\n",
       "  </thead>\n",
       "  <tbody>\n",
       "    <tr>\n",
       "      <th>0</th>\n",
       "      <td>536365</td>\n",
       "      <td>[749, 1599, 2639, 2789, 2790, 2842, 3227]</td>\n",
       "      <td>prior</td>\n",
       "    </tr>\n",
       "    <tr>\n",
       "      <th>1</th>\n",
       "      <td>536366</td>\n",
       "      <td>[1484]</td>\n",
       "      <td>prior</td>\n",
       "    </tr>\n",
       "    <tr>\n",
       "      <th>2</th>\n",
       "      <td>536367</td>\n",
       "      <td>[765, 766, 777, 1185, 1473, 1474, 1592, 1595, ...</td>\n",
       "      <td>prior</td>\n",
       "    </tr>\n",
       "    <tr>\n",
       "      <th>3</th>\n",
       "      <td>536368</td>\n",
       "      <td>[1752, 1753, 1754, 1799]</td>\n",
       "      <td>prior</td>\n",
       "    </tr>\n",
       "    <tr>\n",
       "      <th>4</th>\n",
       "      <td>536369</td>\n",
       "      <td>[767]</td>\n",
       "      <td>prior</td>\n",
       "    </tr>\n",
       "  </tbody>\n",
       "</table>\n",
       "</div>"
      ],
      "text/plain": [
       "   order_id                                         product_id eval_set\n",
       "0    536365          [749, 1599, 2639, 2789, 2790, 2842, 3227]    prior\n",
       "1    536366                                             [1484]    prior\n",
       "2    536367  [765, 766, 777, 1185, 1473, 1474, 1592, 1595, ...    prior\n",
       "3    536368                           [1752, 1753, 1754, 1799]    prior\n",
       "4    536369                                              [767]    prior"
      ]
     },
     "execution_count": 41,
     "metadata": {},
     "output_type": "execute_result"
    }
   ],
   "source": [
    "order_products_compact.head()"
   ]
  },
  {
   "cell_type": "code",
   "execution_count": null,
   "metadata": {
    "collapsed": true
   },
   "outputs": [],
   "source": []
  }
 ],
 "metadata": {
  "kernelspec": {
   "display_name": "Python 3",
   "language": "python",
   "name": "python3"
  },
  "language_info": {
   "codemirror_mode": {
    "name": "ipython",
    "version": 3
   },
   "file_extension": ".py",
   "mimetype": "text/x-python",
   "name": "python",
   "nbconvert_exporter": "python",
   "pygments_lexer": "ipython3",
   "version": "3.6.0"
  }
 },
 "nbformat": 4,
 "nbformat_minor": 2
}
